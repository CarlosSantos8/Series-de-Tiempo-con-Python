{
 "cells": [
  {
   "cell_type": "markdown",
   "id": "56ba928f",
   "metadata": {},
   "source": [
    "<h1> 1. Modelos Autorregresivo de Medias Móviles ARMA(p,q) </h1>\n",
    "\n",
    "Es la combinación de ambos modelos $AR(p)$ y $MA(q)$, con lo cual un modelo $ARMA(p,q)$ tendría dos órdenes $(p,q)$. Donde:\n",
    "* $p$ es el orden de la parte autorregresiva.\n",
    "* $q$ es el orden de laa parte de medias móviles. \n",
    "\n",
    "Un modelo $ARIMA(p,q)$ de orden simple, un $ARMA(1,1)$ sería de la siguiente manera:\n",
    "$$x_t=c+\\Phi _1x_{t-1}+\\theta _1 \\varepsilon _{t-1}+\\varepsilon _t$$\n",
    "\n",
    "De forma general, el modelo $ARMA(p,q)$ está dado de la siguiente manera:\n",
    "\n",
    "$$x_t=c+\\Phi _1x_{t-1}+\\ldots +\\Phi _p x_{t-p}+\\theta _1 \\varepsilon _{t-1}+\\ldots + \\theta _q\\varepsilon _{t-q}+\\varepsilon _t$$\n",
    "Donde:\n",
    "\n",
    "* $x_t,x_{t-1}$: Valores en el período actual y período anterior.\n",
    "* $\\varepsilon _t, \\varepsilon _{t-1}$: Errores en el período actual y período anterior.\n",
    "* $c:$ Constante.\n",
    "* $\\Phi _1,\\ldots , \\Phi _p :$ Que parte de los valores del período $p$ anterior es relevante para explicar el actual.\n",
    "* $\\theta _1,\\ldots , \\theta _q :$ Que parte de los residuos del período $q$ anterior es relevante para explicar el actual.\n",
    "\n",
    "\n",
    "\n",
    "\n",
    "Nota: $x_t=\\hat{x_t}+\\varepsilon _T$\n",
    "\n",
    "* Si $\\theta >0$  y $x_t>\\hat{x_t}$ entonces $\\varepsilon _t>0$ así que $\\theta \\cdot \\varepsilon _t>0$\n",
    "\n",
    "\n",
    "* Si $\\Phi _i<0$  y $x_{t-i}>0$ entonces $\\Phi _i \\cdot x_{t-i}$\n"
   ]
  },
  {
   "cell_type": "markdown",
   "id": "ee453a25",
   "metadata": {},
   "source": [
    "<h2> Packages </h2>"
   ]
  },
  {
   "cell_type": "code",
   "execution_count": 27,
   "id": "f827941f",
   "metadata": {},
   "outputs": [],
   "source": [
    "import numpy as np #Importando numpy para Arreglos\n",
    "import pandas as pd #Importando pandas para DataFrame\n",
    "import matplotlib.pyplot as plt #Importando matplotlib para gráficas\n",
    "import statsmodels.graphics.tsaplots as sgt #Gráficas de autocorrelación \n",
    "import statsmodels.tsa.stattools as sts #Para prueba de Dickey-Fuller\n",
    "import seaborn as sns \n",
    "import warnings  #Para ignorar los errores en jupyternotebook\n",
    "warnings.filterwarnings(\"ignore\")\n",
    "from statsmodels.tsa.arima.model import ARIMA #Para modelo ARIMA\n",
    "from scipy.stats.distributions import chi2 #Obtener distribucion xicuadrada\n",
    "from datetime import datetime #Para trabajar con fechas\n",
    "import os #Para poner la dirección donde esta la base de datos.\n",
    "sns.set()\n",
    "#Dirección en donde tengo las bases de datos.\n",
    "os.chdir(\"C:\\\\Users\\\\81799\\\\OneDrive\\\\Documentos\\\\ESFM_CLASES\\\\Servicio Social ARTF\\\\Machine Learning\\\\curso-series-temporales-master\\\\5. Modelos AR autorregresivos\\\\Python\") "
   ]
  },
  {
   "cell_type": "markdown",
   "id": "8953b450",
   "metadata": {},
   "source": [
    "<h1> Preprocesamiento de datos </h1>"
   ]
  },
  {
   "cell_type": "code",
   "execution_count": 26,
   "id": "98ab75d7",
   "metadata": {},
   "outputs": [],
   "source": [
    "data = pd.read_csv(\"Index2018.csv\") #Leer DataFrame Index2018\n",
    "data_copia = data.copy() #Copia el DataFrame raw_csv_data con el nombre de df_comp\n",
    "data_copia.date = pd.to_datetime(data_copia.date, dayfirst =True ) #Modifica las fechas\n",
    "data_copia.set_index(\"date\",inplace = True) # Ponemos las fechas como índices\n",
    "data_copia = data_copia.asfreq(\"b\") # Frecuencia\n",
    "data_copia = data_copia.fillna(method = \"ffill\") #Arregla problema d valores faltantes tomando su diferencia\n",
    "data_copia[\"market_value\"]=data_copia.ftse #Agregamos una nueva columna\n",
    "#llamada market_value tomando los valores de la columna ftse\n",
    "del data_copia[\"spx\"] #Eliminamos columna spx del DataFrame data_copia\n",
    "del data_copia[\"dax\"] #Eliminamos columna dax del DataFrame data_copia\n",
    "del data_copia[\"ftse\"]#Eliminamos columna ftse del DataFrame data_copia\n",
    "del data_copia[\"nikkei\"]#Eliminamos columna nikkei del DataFrame data_copia\n",
    "size=int(len(df_comp)*0.8) #int (no. de filas*0.8)= int(6277*0.8)= int(5021.6)=5021\n",
    "#Datos de entrenamiento y datos de prueba.\n",
    "datos , datos_test = data_copia.iloc[:size], data_copia.iloc[size:]"
   ]
  },
  {
   "cell_type": "markdown",
   "id": "27384ed5",
   "metadata": {},
   "source": [
    "<h1> Prueba de razón Log-LikeLihood </h1>\n",
    "\n",
    "* $H_0:$ Los dos modelos son significativamente **iguales.**\n",
    "* $H_a:$ Los dos modelos son significativamente **diferentes.**    "
   ]
  },
  {
   "cell_type": "code",
   "execution_count": 28,
   "id": "26772cfa",
   "metadata": {},
   "outputs": [],
   "source": [
    "def LLR_test(mod_1,mod_2,DF=1): #DF son los grados de libertad\n",
    "    L1=mod_1.llf # Me da Log Likelihood del mod_1 que de como entrada\n",
    "    L2=mod_2.llf # Me da Log Likelihood del mod_2 que de como entrada\n",
    "    LR=(2*(L2-L1)) # Estadístico de prueba\n",
    "    p=chi2.sf(LR,DF).round(3) #P-valor\n",
    "    return p"
   ]
  },
  {
   "cell_type": "markdown",
   "id": "25bbe483",
   "metadata": {},
   "source": [
    "<h1> Creando Retornos </h1>"
   ]
  },
  {
   "cell_type": "code",
   "execution_count": 34,
   "id": "987fc716",
   "metadata": {},
   "outputs": [
    {
     "data": {
      "text/html": [
       "<div>\n",
       "<style scoped>\n",
       "    .dataframe tbody tr th:only-of-type {\n",
       "        vertical-align: middle;\n",
       "    }\n",
       "\n",
       "    .dataframe tbody tr th {\n",
       "        vertical-align: top;\n",
       "    }\n",
       "\n",
       "    .dataframe thead th {\n",
       "        text-align: right;\n",
       "    }\n",
       "</style>\n",
       "<table border=\"1\" class=\"dataframe\">\n",
       "  <thead>\n",
       "    <tr style=\"text-align: right;\">\n",
       "      <th></th>\n",
       "      <th>market_value</th>\n",
       "      <th>retornos</th>\n",
       "    </tr>\n",
       "    <tr>\n",
       "      <th>date</th>\n",
       "      <th></th>\n",
       "      <th></th>\n",
       "    </tr>\n",
       "  </thead>\n",
       "  <tbody>\n",
       "    <tr>\n",
       "      <th>1994-01-07</th>\n",
       "      <td>3445.98</td>\n",
       "      <td>NaN</td>\n",
       "    </tr>\n",
       "    <tr>\n",
       "      <th>1994-01-10</th>\n",
       "      <td>3440.58</td>\n",
       "      <td>-0.156704</td>\n",
       "    </tr>\n",
       "    <tr>\n",
       "      <th>1994-01-11</th>\n",
       "      <td>3413.77</td>\n",
       "      <td>-0.779229</td>\n",
       "    </tr>\n",
       "    <tr>\n",
       "      <th>1994-01-12</th>\n",
       "      <td>3372.02</td>\n",
       "      <td>-1.222988</td>\n",
       "    </tr>\n",
       "    <tr>\n",
       "      <th>1994-01-13</th>\n",
       "      <td>3360.01</td>\n",
       "      <td>-0.356166</td>\n",
       "    </tr>\n",
       "    <tr>\n",
       "      <th>...</th>\n",
       "      <td>...</td>\n",
       "      <td>...</td>\n",
       "    </tr>\n",
       "    <tr>\n",
       "      <th>2013-03-22</th>\n",
       "      <td>6392.76</td>\n",
       "      <td>0.065899</td>\n",
       "    </tr>\n",
       "    <tr>\n",
       "      <th>2013-03-25</th>\n",
       "      <td>6378.38</td>\n",
       "      <td>-0.224942</td>\n",
       "    </tr>\n",
       "    <tr>\n",
       "      <th>2013-03-26</th>\n",
       "      <td>6399.37</td>\n",
       "      <td>0.329080</td>\n",
       "    </tr>\n",
       "    <tr>\n",
       "      <th>2013-03-27</th>\n",
       "      <td>6387.56</td>\n",
       "      <td>-0.184549</td>\n",
       "    </tr>\n",
       "    <tr>\n",
       "      <th>2013-03-28</th>\n",
       "      <td>6411.74</td>\n",
       "      <td>0.378548</td>\n",
       "    </tr>\n",
       "  </tbody>\n",
       "</table>\n",
       "<p>5015 rows × 2 columns</p>\n",
       "</div>"
      ],
      "text/plain": [
       "            market_value  retornos\n",
       "date                              \n",
       "1994-01-07       3445.98       NaN\n",
       "1994-01-10       3440.58 -0.156704\n",
       "1994-01-11       3413.77 -0.779229\n",
       "1994-01-12       3372.02 -1.222988\n",
       "1994-01-13       3360.01 -0.356166\n",
       "...                  ...       ...\n",
       "2013-03-22       6392.76  0.065899\n",
       "2013-03-25       6378.38 -0.224942\n",
       "2013-03-26       6399.37  0.329080\n",
       "2013-03-27       6387.56 -0.184549\n",
       "2013-03-28       6411.74  0.378548\n",
       "\n",
       "[5015 rows x 2 columns]"
      ]
     },
     "execution_count": 34,
     "metadata": {},
     "output_type": "execute_result"
    }
   ],
   "source": [
    "datos[\"retornos\"]=datos.market_value.pct_change(1)*100\n",
    "#Guardamos los retornos en la columna retornos del DataFrame datos\n",
    "datos"
   ]
  },
  {
   "cell_type": "markdown",
   "id": "dd45f928",
   "metadata": {},
   "source": [
    "<h1> ARMA(1,1) </h1>"
   ]
  },
  {
   "cell_type": "code",
   "execution_count": 55,
   "id": "d44e36c6",
   "metadata": {},
   "outputs": [
    {
     "data": {
      "text/html": [
       "<table class=\"simpletable\">\n",
       "<caption>SARIMAX Results</caption>\n",
       "<tr>\n",
       "  <th>Dep. Variable:</th>       <td>retornos</td>     <th>  No. Observations:  </th>   <td>5014</td>   \n",
       "</tr>\n",
       "<tr>\n",
       "  <th>Model:</th>            <td>ARIMA(1, 0, 1)</td>  <th>  Log Likelihood     </th> <td>-7907.666</td>\n",
       "</tr>\n",
       "<tr>\n",
       "  <th>Date:</th>            <td>Wed, 25 May 2022</td> <th>  AIC                </th> <td>15823.333</td>\n",
       "</tr>\n",
       "<tr>\n",
       "  <th>Time:</th>                <td>02:48:31</td>     <th>  BIC                </th> <td>15849.413</td>\n",
       "</tr>\n",
       "<tr>\n",
       "  <th>Sample:</th>             <td>01-10-1994</td>    <th>  HQIC               </th> <td>15832.472</td>\n",
       "</tr>\n",
       "<tr>\n",
       "  <th></th>                   <td>- 03-28-2013</td>   <th>                     </th>     <td> </td>    \n",
       "</tr>\n",
       "<tr>\n",
       "  <th>Covariance Type:</th>        <td>opg</td>       <th>                     </th>     <td> </td>    \n",
       "</tr>\n",
       "</table>\n",
       "<table class=\"simpletable\">\n",
       "<tr>\n",
       "     <td></td>       <th>coef</th>     <th>std err</th>      <th>z</th>      <th>P>|z|</th>  <th>[0.025</th>    <th>0.975]</th>  \n",
       "</tr>\n",
       "<tr>\n",
       "  <th>const</th>  <td>    0.0193</td> <td>    0.015</td> <td>    1.317</td> <td> 0.188</td> <td>   -0.009</td> <td>    0.048</td>\n",
       "</tr>\n",
       "<tr>\n",
       "  <th>ar.L1</th>  <td>    0.7645</td> <td>    0.045</td> <td>   16.975</td> <td> 0.000</td> <td>    0.676</td> <td>    0.853</td>\n",
       "</tr>\n",
       "<tr>\n",
       "  <th>ma.L1</th>  <td>   -0.8138</td> <td>    0.040</td> <td>  -20.167</td> <td> 0.000</td> <td>   -0.893</td> <td>   -0.735</td>\n",
       "</tr>\n",
       "<tr>\n",
       "  <th>sigma2</th> <td>    1.3721</td> <td>    0.014</td> <td>   98.083</td> <td> 0.000</td> <td>    1.345</td> <td>    1.400</td>\n",
       "</tr>\n",
       "</table>\n",
       "<table class=\"simpletable\">\n",
       "<tr>\n",
       "  <th>Ljung-Box (L1) (Q):</th>     <td>2.02</td> <th>  Jarque-Bera (JB):  </th> <td>7492.48</td>\n",
       "</tr>\n",
       "<tr>\n",
       "  <th>Prob(Q):</th>                <td>0.15</td> <th>  Prob(JB):          </th>  <td>0.00</td>  \n",
       "</tr>\n",
       "<tr>\n",
       "  <th>Heteroskedasticity (H):</th> <td>2.03</td> <th>  Skew:              </th>  <td>-0.18</td> \n",
       "</tr>\n",
       "<tr>\n",
       "  <th>Prob(H) (two-sided):</th>    <td>0.00</td> <th>  Kurtosis:          </th>  <td>8.98</td>  \n",
       "</tr>\n",
       "</table><br/><br/>Warnings:<br/>[1] Covariance matrix calculated using the outer product of gradients (complex-step)."
      ],
      "text/plain": [
       "<class 'statsmodels.iolib.summary.Summary'>\n",
       "\"\"\"\n",
       "                               SARIMAX Results                                \n",
       "==============================================================================\n",
       "Dep. Variable:               retornos   No. Observations:                 5014\n",
       "Model:                 ARIMA(1, 0, 1)   Log Likelihood               -7907.666\n",
       "Date:                Wed, 25 May 2022   AIC                          15823.333\n",
       "Time:                        02:48:31   BIC                          15849.413\n",
       "Sample:                    01-10-1994   HQIC                         15832.472\n",
       "                         - 03-28-2013                                         \n",
       "Covariance Type:                  opg                                         \n",
       "==============================================================================\n",
       "                 coef    std err          z      P>|z|      [0.025      0.975]\n",
       "------------------------------------------------------------------------------\n",
       "const          0.0193      0.015      1.317      0.188      -0.009       0.048\n",
       "ar.L1          0.7645      0.045     16.975      0.000       0.676       0.853\n",
       "ma.L1         -0.8138      0.040    -20.167      0.000      -0.893      -0.735\n",
       "sigma2         1.3721      0.014     98.083      0.000       1.345       1.400\n",
       "===================================================================================\n",
       "Ljung-Box (L1) (Q):                   2.02   Jarque-Bera (JB):              7492.48\n",
       "Prob(Q):                              0.15   Prob(JB):                         0.00\n",
       "Heteroskedasticity (H):               2.03   Skew:                            -0.18\n",
       "Prob(H) (two-sided):                  0.00   Kurtosis:                         8.98\n",
       "===================================================================================\n",
       "\n",
       "Warnings:\n",
       "[1] Covariance matrix calculated using the outer product of gradients (complex-step).\n",
       "\"\"\""
      ]
     },
     "execution_count": 55,
     "metadata": {},
     "output_type": "execute_result"
    }
   ],
   "source": [
    "modelo_retornos_AR_1_MA_1 = ARIMA(datos.retornos[1:], order = (1,0,1))\n",
    "#Omitimos el primer dato de la columna retornos porque es NA\n",
    "resultados_retornos_AR_1_MA_1 = modelo_retornos_AR_1_MA_1.fit()\n",
    "#Guardamos los valores ajustados del modelo ARMA(1,1)=ARIMA(1,0,1) \n",
    "resultados_retornos_AR_1_MA_1.summary()"
   ]
  },
  {
   "cell_type": "markdown",
   "id": "2216b0cf",
   "metadata": {},
   "source": [
    "Observamos que:\n",
    "* El coeficiente de $\\Phi _1$ y $\\theta _1$ son significativamente diferentes de $0$ y el coeficiente de $c$ es significativamente igual a $0$. Lo anterior, se ve ya sea por el $p-valor$ o por el intervalo de confianza.\n",
    "* El coefiente de $\\Phi _1$ tiene signo positivo y el de $\\theta _1$ tiene signo negativo.\n",
    "\n",
    "Ahora, debemos aplicar **Prueba de razón Log-LikeLihood** para comparar el modelo $ARMA(1,1)=ARIMA(1,0,1)$, uno a uno con sus versiones individuales. El Autorregresivo $AR(1)$ y el de Medias Móviles $MA(1)$ para determinar si la combinación de los dos es mejor modelo.\n"
   ]
  },
  {
   "cell_type": "code",
   "execution_count": 45,
   "id": "a99292b6",
   "metadata": {},
   "outputs": [
    {
     "name": "stdout",
     "output_type": "stream",
     "text": [
      "AR(1) vs ARMA(1,1)\n",
      "p-valor=0.0\n",
      " \n",
      "MA(1) vs ARMA(1,1)\n",
      "p-valor=0.0\n"
     ]
    }
   ],
   "source": [
    "modelo_retornos_AR_1 = ARIMA(datos.retornos[1:], order = (1,0,0)) # AR(1)\n",
    "modelo_retornos_MA_1 = ARIMA(datos.retornos[1:], order = (0,0,1)) # MA(1)\n",
    "resultados_retornos_AR_1 = modelo_retornos_AR_1.fit()\n",
    "resultados_retornos_MA_1 = modelo_retornos_MA_1.fit()\n",
    "print(\"AR(1) vs ARMA(1,1)\")\n",
    "print(f\"p-valor={LLR_test(resultados_retornos_AR_1, resultados_retornos_AR_1_MA_1)}\\n \")\n",
    "print(\"MA(1) vs ARMA(1,1)\")\n",
    "print(f\"p-valor={LLR_test(resultados_retornos_MA_1, resultados_retornos_AR_1_MA_1)}\")"
   ]
  },
  {
   "cell_type": "markdown",
   "id": "ef581051",
   "metadata": {},
   "source": [
    "Compararando el modelo $ARMA(1,1)=ARIMA(1,0,1)$ con sus versiones individuales, obtenemos que su $p-valor$ en ambos da $0.00$, es decir, $p-valor<\\alpha $, entonces, *Rechamos* $H_0$ en la prueba de **Prueba de razón Log-LikeLihood**  así que en las dos pruebas los modelos son diferntes. \n",
    "\n",
    "Por complejidad concluimos que es mejor modelo $ARMA(1,1)$ en este caso.\n",
    "\n",
    "Nota: Observamos que el modelo $AR(1,1)$ tiene $2$ grados de libertad y el modelo $AR(1)$ tiene $1$ grado de libertad, por eso seguimos poniendo $DF=1$"
   ]
  },
  {
   "cell_type": "markdown",
   "id": "f7af13f3",
   "metadata": {},
   "source": [
    "<h1> Ajustando un modelo ARMA(p,q) </h1>\n",
    "\n",
    "Anteriormente propusimos el modelo $ARMA(1,1)$ o sea, el modelo más simple. Para el procedimiento de comparación de la **Prueba de razón Log-LikeLihood** se propuso los modelos indivuales de cada modelo implicado, es decir, $AR(1)$ y $MA(1)$, sin embargo con los modelos $ARMA(p,q)$ se están combinando ambos modelos, tanto la parte autorregresiva $AR(p)$ como la parte de medias móviles $MA(q)$. \n",
    "\n",
    "ARMA(p,q) tiene más \"potencia\" que solamente aplicar el modelo $AR(p)$ o $MA(q)$ por separado, así que los $ARMA(p,q)$ necesitan menos retrasos ($p,q$) porque se utilizando los dos métodos.\n",
    "\n",
    "Con lo anterior, ya no nos basaremos en los valores que obteniamos a través de la gráfica de $PACF$ para el valor de $p$ del modelo $AR(p)$ ni con la gráfica de $ACF$ para el valor de $q$ del modelo $MA(q)$, ahora se va a comenzar con un modelo **sobreparametrizado**, es decir, consideraremos varios retrasos tanto para el componente autoregresivo $AR(p)$ como para el de medias móviles $MA(q)$\n",
    "\n",
    "(a) Obtener un modelo parametrizado.\n",
    "\n",
    "\n",
    "(b) Los modelos siguientes a considerar serán caracterizados por una disminución del número de componentes, es decir, se disminuye hasta el más simple.\n",
    "\n",
    "Para que un modelo sea adecuado, tendrá que cumplir lo siguiente.\n",
    "1. TODOS los coeficientes significativos.\n",
    "2. Alta log-verosimilitud.\n",
    "3. Bajo criterio de Información (AIC o BIC)"
   ]
  },
  {
   "cell_type": "markdown",
   "id": "11bb6a9e",
   "metadata": {},
   "source": [
    "<h1> Gráfica $ACF$ y $PACF$ </h1>\n",
    "Los gráficos nos dan una idea de cual serían el número correcto de retrasos si sólo incluyéramos los componentes de Medias Móviles y de los componentes de Autorregresivos\n",
    "\n",
    "Recordemos que:\n",
    "* Para obtener el valor de $p$ del modelo $AR(p)$ nos basamos en la gráfica de $PACF$, ver hasta que período los datos son significativos, es decir, mayor a la franja azul. \n",
    "\n",
    "* Para obtener el valor de $q$ del modelo $MA(q)$ nos basamos en la gráfica de $ACF$, ver hasta que período los datos son significativos, es decir, mayor a la franja azul."
   ]
  },
  {
   "cell_type": "code",
   "execution_count": 51,
   "id": "38373bbb",
   "metadata": {},
   "outputs": [
    {
     "data": {
      "image/png": "[encoded data removed]",
      "text/plain": [
       "<Figure size 432x288 with 1 Axes>"
      ]
     },
     "metadata": {
      "needs_background": "light"
     },
     "output_type": "display_data"
    }
   ],
   "source": [
    "sgt.plot_acf(datos.retornos[1:], zero = False, lags = 40)\n",
    "plt.title(\"ACF para retornos\", size = 20)\n",
    "plt.ylim(-0.09,0.06)\n",
    "plt.show()"
   ]
  },
  {
   "cell_type": "markdown",
   "id": "dbefe047",
   "metadata": {},
   "source": [
    "Para esta gráfica tendríamos que el moelo $MA(q)$ no contenga más de $8$ componentes, porque observamos que $\\varphi _8$ es significativo y los demás componetes $\\varphi _9,\\ldots ,\\varphi _{17}$ NO son significativos (porque están dentro de la franja azul). \n",
    " \n",
    " Así que propondríamos un modelo $MA(8)$"
   ]
  },
  {
   "cell_type": "code",
   "execution_count": 54,
   "id": "259dd191",
   "metadata": {},
   "outputs": [
    {
     "data": {
      "image/png": "[encoded data removed]",
      "text/plain": [
       "<Figure size 432x288 with 1 Axes>"
      ]
     },
     "metadata": {
      "needs_background": "light"
     },
     "output_type": "display_data"
    }
   ],
   "source": [
    "sgt.plot_pacf(datos.retornos[1:], zero = False, lags = 40, alpha =0.05, method = (\"ols\"))\n",
    "plt.title(\"PACF para retornos\", size = 24)\n",
    "plt.ylim(-0.09,0.06)\n",
    "plt.show()"
   ]
  },
  {
   "cell_type": "markdown",
   "id": "d9abfa76",
   "metadata": {},
   "source": [
    "Para esta gráfica tendríamos que el moelo $AR(p)$ no contenga más de $6$ componentes, porque observamos que $\\varphi _6$ es significativo y de los componetes $\\varphi _7,\\ldots ,\\varphi _{17}$ NO son significativos (porque están dentro de la franja azul).\n",
    "\n",
    "Así que propondríamos un modelo $AR(6)$\n",
    "\n",
    "\n",
    "De lo anterior, sería \"lógico\" tener un modelo $ARMA(6,8)$, el cual se expresaría de la siguiente manera:\n",
    "$$x_t=c+\\Phi _1x_{t-1}+\\cdots + \\Phi _6x_{t-6}+\\theta _1\\varepsilon _{t-1}+\\cdots + \\theta _8 \\varepsilon _{t-8}+\\varepsilon _t$$Este modelo es  excesivamente complejo ya que tendríamos que calcular $15$ coeficientes, pero como estamos tomando la combinación de los dos modelos $AR(p)$ y $MA(q)$ se tiene que **sobrparametrizar** con la finalidad de obtener un **MODELO PARAMETRIZADO**.\n",
    "\n",
    "Una manera de hacerlo es : $$ARMA\\left( \\frac{min\\{ p,q\\} }{2}, \\frac{min\\{p,q\\} }{2} \\right)$$\n",
    "\n",
    "En el caso anterior, teniamos que $p=6$ y $q=8$, así que:\n",
    "\n",
    "$$\\begin{array}{l} &ARMA \\left( \\frac{min\\{ 6,8\\} }{2}, \\frac{min\\{6,8\\} }{2} \\right) \\\\ &ARMA \\left( \\frac{6}{2}, \\frac{6 }{2} \\right)  \\\\ \\therefore &ARMA(3,3) \\;\\;\\; \\textit{ Modelo parametrizado} \\end{array}$$"
   ]
  },
  {
   "cell_type": "markdown",
   "id": "4b7ca035",
   "metadata": {},
   "source": [
    "<h1> Prueba de razón Log-LikeLihood </h1>\n",
    "\n",
    "* $H_0:$ Los dos modelos son significativamente **iguales.**\n",
    "* $H_a:$ Los dos modelos son significativamente **diferentes.** \n",
    "\n",
    "Esta prueba solo funciona para **MODELOS ANIDADOS**, es decir, supongamos que queremos compara los modelos $Modelo_1 = ARIMA(p_1,d,q_1)$ vs $Modelo _2= ARIMA(p_2,d,q_2)$, entonces tendrán que tener las siguientes características:\n",
    "\n",
    "Ojo: El $Modelo_1$ es el más complejo de los dos.\n",
    "\n",
    "1. $p_1+q_1\\geq p_2+q_2$\n",
    "2. $p_1 \\geq p_2$\n",
    "3. $q_1 \\geq q_2$\n",
    "\n",
    "Sino cumple lo anterior, entonces tendremos que comparar cual de los dos modelos tiene mayor **Log Likelihood** y menor **AIC**, quien cumpla es el mejor modelo. \n",
    "\n",
    "\n",
    "\n",
    "\n",
    "Realizamos esta prueba para observar si el modelo $ARMA(3,3)$ es mejor sus modelos \"anteriores\", es decir, $ARMA(2,3)$ , $ARMA(3,2)$, etc. \n",
    "\n",
    "EL modelo $ARMA(3,3)$ es el máximo modelo que ocuparemos, por ende se compara como modelos menores a el.\n",
    "\n",
    "\n",
    "$ARMA(1,1)$ vs $ARMA(3,3)$"
   ]
  },
  {
   "cell_type": "code",
   "execution_count": 62,
   "id": "59a1126b",
   "metadata": {},
   "outputs": [
    {
     "name": "stdout",
     "output_type": "stream",
     "text": [
      "                               SARIMAX Results                                \n",
      "==============================================================================\n",
      "Dep. Variable:               retornos   No. Observations:                 5014\n",
      "Model:                 ARIMA(3, 0, 3)   Log Likelihood               -7884.795\n",
      "Date:                Wed, 25 May 2022   AIC                          15785.590\n",
      "Time:                        02:58:49   BIC                          15837.749\n",
      "Sample:                    01-10-1994   HQIC                         15803.868\n",
      "                         - 03-28-2013                                         \n",
      "Covariance Type:                  opg                                         \n",
      "==============================================================================\n",
      "                 coef    std err          z      P>|z|      [0.025      0.975]\n",
      "------------------------------------------------------------------------------\n",
      "const          0.0193      0.015      1.311      0.190      -0.010       0.048\n",
      "ar.L1         -0.1891      0.068     -2.790      0.005      -0.322      -0.056\n",
      "ar.L2         -0.2939      0.054     -5.394      0.000      -0.401      -0.187\n",
      "ar.L3          0.4465      0.062      7.231      0.000       0.325       0.568\n",
      "ma.L1          0.1698      0.063      2.695      0.007       0.046       0.293\n",
      "ma.L2          0.2273      0.052      4.344      0.000       0.125       0.330\n",
      "ma.L3         -0.5437      0.057     -9.602      0.000      -0.655      -0.433\n",
      "sigma2         1.3597      0.015     92.504      0.000       1.331       1.388\n",
      "===================================================================================\n",
      "Ljung-Box (L1) (Q):                   0.18   Jarque-Bera (JB):              6865.99\n",
      "Prob(Q):                              0.67   Prob(JB):                         0.00\n",
      "Heteroskedasticity (H):               2.00   Skew:                            -0.17\n",
      "Prob(H) (two-sided):                  0.00   Kurtosis:                         8.72\n",
      "===================================================================================\n",
      "\n",
      "Warnings:\n",
      "[1] Covariance matrix calculated using the outer product of gradients (complex-step).\n",
      "0.0\n"
     ]
    }
   ],
   "source": [
    "modelo_retornos_AR_3_MA_3 = ARIMA(datos.retornos[1:], order = (3,0,3))\n",
    "resultados_retornos_AR_3_MA_3 = modelo_retornos_AR_3_MA_3.fit() \n",
    "print(f\"{resultados_retornos_AR_3_MA_3.summary()}\")\n",
    "print(f\"{LLR_test(resultados_retornos_AR_1_MA_1,resultados_retornos_AR_3_MA_3,DF=4)}\")"
   ]
  },
  {
   "cell_type": "markdown",
   "id": "3d2e1b55",
   "metadata": {},
   "source": [
    "Observamos que:\n",
    "*$DF=4$, e este caso, ya que $ARMA(3,3)$ tiene $6$ grados de libertad y $ARMA(1,1)$ solo $2$ grados de libertad.\n",
    "* Solamente el coeficiente $c$ del modelo $ARMA(3,3)$ es significativamente igual a $0$.\n",
    "*  Por la **Prueba de razón Log-LikeLihood** obtenemos un $p-valor=0.0$, así que los modelos $ARMA(1,1)$ y $ARMA(3,3)$ son diferentes.\n",
    "\n",
    "**Conclusión:** Como estamos utilizando retornos, entonces sea significativamente igual a $0$ el coeficiente $c$ del modelo, no importa demasiado. Así que el modelo $ARMA(3,3)$ es óptimo.\n",
    "\n",
    "Checando los demás modelos, reduciendo componentes para ver que modelo es mejor.\n",
    "\n",
    "$ARMA(2,3)$ vs $ARMA(3,3)$"
   ]
  },
  {
   "cell_type": "code",
   "execution_count": 66,
   "id": "74bfccdc",
   "metadata": {},
   "outputs": [
    {
     "name": "stdout",
     "output_type": "stream",
     "text": [
      "                               SARIMAX Results                                \n",
      "==============================================================================\n",
      "Dep. Variable:               retornos   No. Observations:                 5014\n",
      "Model:                 ARIMA(2, 0, 3)   Log Likelihood               -7886.835\n",
      "Date:                Wed, 25 May 2022   AIC                          15787.669\n",
      "Time:                        03:34:44   BIC                          15833.309\n",
      "Sample:                    01-10-1994   HQIC                         15803.663\n",
      "                         - 03-28-2013                                         \n",
      "Covariance Type:                  opg                                         \n",
      "==============================================================================\n",
      "                 coef    std err          z      P>|z|      [0.025      0.975]\n",
      "------------------------------------------------------------------------------\n",
      "const          0.0193      0.015      1.252      0.211      -0.011       0.050\n",
      "ar.L1         -0.5601      0.057     -9.766      0.000      -0.673      -0.448\n",
      "ar.L2         -0.4186      0.066     -6.384      0.000      -0.547      -0.290\n",
      "ma.L1          0.5372      0.057      9.402      0.000       0.425       0.649\n",
      "ma.L2          0.3537      0.066      5.385      0.000       0.225       0.482\n",
      "ma.L3         -0.1158      0.009    -12.662      0.000      -0.134      -0.098\n",
      "sigma2         1.3608      0.015     91.288      0.000       1.332       1.390\n",
      "===================================================================================\n",
      "Ljung-Box (L1) (Q):                   0.00   Jarque-Bera (JB):              6519.71\n",
      "Prob(Q):                              0.99   Prob(JB):                         0.00\n",
      "Heteroskedasticity (H):               1.99   Skew:                            -0.12\n",
      "Prob(H) (two-sided):                  0.00   Kurtosis:                         8.58\n",
      "===================================================================================\n",
      "\n",
      "Warnings:\n",
      "[1] Covariance matrix calculated using the outer product of gradients (complex-step).\n",
      "0.043\n"
     ]
    }
   ],
   "source": [
    "modelo_retornos_AR_2_MA_3 = ARIMA(datos.retornos[1:], order = (2,0,3))\n",
    "resultados_retornos_AR_2_MA_3 = modelo_retornos_AR_2_MA_3.fit() \n",
    "print(f\"{resultados_retornos_AR_2_MA_3.summary()}\")\n",
    "print(f\"{LLR_test(resultados_retornos_AR_2_MA_3,resultados_retornos_AR_3_MA_3)}\")"
   ]
  },
  {
   "cell_type": "markdown",
   "id": "95c26945",
   "metadata": {},
   "source": [
    "Observamos que:\n",
    "*$DF=1$, ya que $ARMA(3,3)$ tiene $6$ grados de libertad y $ARMA(2,3)$ solo $5$ grados de libertad.\n",
    "* Solamente el coeficiente $c$ del modelo $ARMA(2,3)$ es significativamente igual a $0$.\n",
    "*  Por la **Prueba de razón Log-LikeLihood** obtenemos un $p-valor=0.043$, así que los modelos $ARMA(2,3)$ y $ARMA(3,3)$ son diferentes.\n",
    "\n",
    "**Conclusión:** Como estamos utilizando retornos, entonces aunque sea significativamente igual a $0$ el coeficiente $c$ del modelo, no importa demasiado, por lo que el modelo $ARMA(2,3)$ es óptimo, pero como es diferente del modelo $ARMA(3,3)$ entonces por complejidad nos quedamos con el modelo $ARMA(3,3)$\n",
    "\n",
    "\n",
    "\n",
    "$ARMA(3,2)$ vs $ARMA(3,3)$"
   ]
  },
  {
   "cell_type": "code",
   "execution_count": 67,
   "id": "451e9dd8",
   "metadata": {},
   "outputs": [
    {
     "name": "stdout",
     "output_type": "stream",
     "text": [
      "                               SARIMAX Results                                \n",
      "==============================================================================\n",
      "Dep. Variable:               retornos   No. Observations:                 5014\n",
      "Model:                 ARIMA(3, 0, 2)   Log Likelihood               -7886.981\n",
      "Date:                Wed, 25 May 2022   AIC                          15787.963\n",
      "Time:                        03:39:11   BIC                          15833.603\n",
      "Sample:                    01-10-1994   HQIC                         15803.956\n",
      "                         - 03-28-2013                                         \n",
      "Covariance Type:                  opg                                         \n",
      "==============================================================================\n",
      "                 coef    std err          z      P>|z|      [0.025      0.975]\n",
      "------------------------------------------------------------------------------\n",
      "const          0.0193      0.016      1.240      0.215      -0.011       0.050\n",
      "ar.L1         -0.6781      0.055    -12.284      0.000      -0.786      -0.570\n",
      "ar.L2         -0.5080      0.063     -8.017      0.000      -0.632      -0.384\n",
      "ar.L3         -0.1141      0.009    -12.757      0.000      -0.132      -0.097\n",
      "ma.L1          0.6562      0.056     11.728      0.000       0.547       0.766\n",
      "ma.L2          0.4464      0.064      7.013      0.000       0.322       0.571\n",
      "sigma2         1.3608      0.015     91.770      0.000       1.332       1.390\n",
      "===================================================================================\n",
      "Ljung-Box (L1) (Q):                   0.00   Jarque-Bera (JB):              6516.38\n",
      "Prob(Q):                              1.00   Prob(JB):                         0.00\n",
      "Heteroskedasticity (H):               1.99   Skew:                            -0.11\n",
      "Prob(H) (two-sided):                  0.00   Kurtosis:                         8.58\n",
      "===================================================================================\n",
      "\n",
      "Warnings:\n",
      "[1] Covariance matrix calculated using the outer product of gradients (complex-step).\n",
      "0.037\n"
     ]
    }
   ],
   "source": [
    "modelo_retornos_AR_3_MA_2 = ARIMA(datos.retornos[1:], order = (3,0,2))\n",
    "resultados_retornos_AR_3_MA_2 = modelo_retornos_AR_3_MA_2.fit() \n",
    "print(f\"{resultados_retornos_AR_3_MA_2.summary()}\")\n",
    "print(f\"{LLR_test(resultados_retornos_AR_3_MA_2,resultados_retornos_AR_3_MA_3)}\")"
   ]
  },
  {
   "cell_type": "markdown",
   "id": "7a0cdca4",
   "metadata": {},
   "source": [
    "Observamos que:\n",
    "\n",
    "* $DF=1$, ya que $ARMA(3,3)$ tiene $6$ grados de libertad y $ARMA(3,2)$ solo $5$ grados de libertad.\n",
    "* Solamente el coeficiente $c$ del modelo $ARMA(2,3)$ es significativamente igual a $0$.\n",
    "*  Por la **Prueba de razón Log-LikeLihood** obtenemos un $p-valor=0.043$, así que los modelos $ARMA(3,2)$ y $ARMA(3,3)$ son diferentes.\n",
    "\n",
    "**Conclusión:** Como estamos utilizando retornos, entonces aunque sea significativamente igual a $0$ el coeficiente $c$ del modelo, no importa demasiado, por lo que el modelo $ARMA(3,2)$ es óptimo, pero como es diferente del modelo $ARMA(3,3)$ **por lo tanto por complejidad nos quedamos con el modelo $ARMA(3,3)$**\n",
    "\n",
    "\n",
    "\n",
    "$ARMA(2,2)$ vs $ARMA(3,3)$"
   ]
  },
  {
   "cell_type": "code",
   "execution_count": 68,
   "id": "20ce1078",
   "metadata": {},
   "outputs": [
    {
     "name": "stdout",
     "output_type": "stream",
     "text": [
      "                               SARIMAX Results                                \n",
      "==============================================================================\n",
      "Dep. Variable:               retornos   No. Observations:                 5014\n",
      "Model:                 ARIMA(2, 0, 2)   Log Likelihood               -7905.837\n",
      "Date:                Wed, 25 May 2022   AIC                          15823.674\n",
      "Time:                        03:43:07   BIC                          15862.794\n",
      "Sample:                    01-10-1994   HQIC                         15837.383\n",
      "                         - 03-28-2013                                         \n",
      "Covariance Type:                  opg                                         \n",
      "==============================================================================\n",
      "                 coef    std err          z      P>|z|      [0.025      0.975]\n",
      "------------------------------------------------------------------------------\n",
      "const          0.0193      0.015      1.315      0.188      -0.009       0.048\n",
      "ar.L1         -0.0973      0.090     -1.078      0.281      -0.274       0.080\n",
      "ar.L2          0.6976      0.066     10.567      0.000       0.568       0.827\n",
      "ma.L1          0.0401      0.091      0.441      0.660      -0.138       0.219\n",
      "ma.L2         -0.7260      0.070    -10.335      0.000      -0.864      -0.588\n",
      "sigma2         1.3712      0.014     95.216      0.000       1.343       1.399\n",
      "===================================================================================\n",
      "Ljung-Box (L1) (Q):                   4.29   Jarque-Bera (JB):              7239.67\n",
      "Prob(Q):                              0.04   Prob(JB):                         0.00\n",
      "Heteroskedasticity (H):               2.02   Skew:                            -0.19\n",
      "Prob(H) (two-sided):                  0.00   Kurtosis:                         8.87\n",
      "===================================================================================\n",
      "\n",
      "Warnings:\n",
      "[1] Covariance matrix calculated using the outer product of gradients (complex-step).\n",
      "0.0\n"
     ]
    }
   ],
   "source": [
    "modelo_retornos_AR_2_MA_2 = ARIMA(datos.retornos[1:], order = (2,0,2))\n",
    "resultados_retornos_AR_2_MA_2 = modelo_retornos_AR_2_MA_2.fit() \n",
    "print(f\"{resultados_retornos_AR_2_MA_2.summary()}\")\n",
    "print(f\"{LLR_test(resultados_retornos_AR_2_MA_2,resultados_retornos_AR_3_MA_3,DF=2)}\")"
   ]
  },
  {
   "cell_type": "markdown",
   "id": "8120d28d",
   "metadata": {},
   "source": [
    "Como el coeficiente del modelo Autorrregresivo $\\Phi _1$ es significativamente igual a $0$, este modelo no es óptimo.\n",
    "\n",
    "$ARMA(1,3)$ vs $ARMA(3,3)$"
   ]
  },
  {
   "cell_type": "code",
   "execution_count": 69,
   "id": "b310973f",
   "metadata": {},
   "outputs": [
    {
     "name": "stdout",
     "output_type": "stream",
     "text": [
      "                               SARIMAX Results                                \n",
      "==============================================================================\n",
      "Dep. Variable:               retornos   No. Observations:                 5014\n",
      "Model:                 ARIMA(1, 0, 3)   Log Likelihood               -7888.080\n",
      "Date:                Wed, 25 May 2022   AIC                          15788.161\n",
      "Time:                        03:45:42   BIC                          15827.281\n",
      "Sample:                    01-10-1994   HQIC                         15801.870\n",
      "                         - 03-28-2013                                         \n",
      "Covariance Type:                  opg                                         \n",
      "==============================================================================\n",
      "                 coef    std err          z      P>|z|      [0.025      0.975]\n",
      "------------------------------------------------------------------------------\n",
      "const          0.0193      0.015      1.293      0.196      -0.010       0.049\n",
      "ar.L1         -0.4710      0.060     -7.904      0.000      -0.588      -0.354\n",
      "ma.L1          0.4483      0.060      7.458      0.000       0.330       0.566\n",
      "ma.L2         -0.0638      0.009     -7.286      0.000      -0.081      -0.047\n",
      "ma.L3         -0.1181      0.008    -14.671      0.000      -0.134      -0.102\n",
      "sigma2         1.3614      0.015     92.513      0.000       1.333       1.390\n",
      "===================================================================================\n",
      "Ljung-Box (L1) (Q):                   0.00   Jarque-Bera (JB):              6405.05\n",
      "Prob(Q):                              0.96   Prob(JB):                         0.00\n",
      "Heteroskedasticity (H):               2.00   Skew:                            -0.16\n",
      "Prob(H) (two-sided):                  0.00   Kurtosis:                         8.53\n",
      "===================================================================================\n",
      "\n",
      "Warnings:\n",
      "[1] Covariance matrix calculated using the outer product of gradients (complex-step).\n",
      "0.037\n"
     ]
    }
   ],
   "source": [
    "modelo_retornos_AR_1_MA_3 = ARIMA(datos.retornos[1:], order = (1,0,3))\n",
    "resultados_retornos_AR_1_MA_3 = modelo_retornos_AR_1_MA_3.fit() \n",
    "print(f\"{resultados_retornos_AR_1_MA_3.summary()}\")\n",
    "print(f\"{LLR_test(resultados_retornos_AR_1_MA_3,resultados_retornos_AR_3_MA_3,DF=2)}\")"
   ]
  },
  {
   "cell_type": "markdown",
   "id": "5eb9bd49",
   "metadata": {},
   "source": [
    "Observamos que:\n",
    "\n",
    "* $DF=1$, ya que $ARMA(3,3)$ tiene $6$ grados de libertad y $ARMA(1,3)$ solo $4$ grados de libertad.\n",
    "* Solamente el coeficiente $c$ del modelo $ARMA(1,3)$ es significativamente igual a $0$.\n",
    "*  Por la **Prueba de razón Log-LikeLihood** obtenemos un $p-valor=0.037$, así que los modelos $ARMA(1,3)$ y $ARMA(3,3)$ son diferentes.\n",
    "\n",
    "**Conclusión:** Como estamos utilizando retornos, entonces aunque sea significativamente igual a $0$ el coeficiente $c$ del modelo, no importa demasiado, por lo que el modelo $ARMA(1,3)$ es óptimo, pero como es diferente del modelo $ARMA(3,3)$ **por lo tanto por complejidad nos quedamos con el modelo $ARMA(3,3)$**\n",
    "\n",
    "\n",
    "\n",
    "$ARMA(3,1)$ vs $ARMA(3,3)$"
   ]
  },
  {
   "cell_type": "code",
   "execution_count": 70,
   "id": "7ba978d7",
   "metadata": {},
   "outputs": [
    {
     "name": "stdout",
     "output_type": "stream",
     "text": [
      "                               SARIMAX Results                                \n",
      "==============================================================================\n",
      "Dep. Variable:               retornos   No. Observations:                 5014\n",
      "Model:                 ARIMA(3, 0, 1)   Log Likelihood               -7890.291\n",
      "Date:                Wed, 25 May 2022   AIC                          15792.581\n",
      "Time:                        03:46:45   BIC                          15831.701\n",
      "Sample:                    01-10-1994   HQIC                         15806.290\n",
      "                         - 03-28-2013                                         \n",
      "Covariance Type:                  opg                                         \n",
      "==============================================================================\n",
      "                 coef    std err          z      P>|z|      [0.025      0.975]\n",
      "------------------------------------------------------------------------------\n",
      "const          0.0193      0.015      1.276      0.202      -0.010       0.049\n",
      "ar.L1         -0.5088      0.062     -8.177      0.000      -0.631      -0.387\n",
      "ar.L2         -0.0640      0.009     -7.038      0.000      -0.082      -0.046\n",
      "ar.L3         -0.1101      0.008    -13.597      0.000      -0.126      -0.094\n",
      "ma.L1          0.4847      0.064      7.625      0.000       0.360       0.609\n",
      "sigma2         1.3626      0.015     92.757      0.000       1.334       1.391\n",
      "===================================================================================\n",
      "Ljung-Box (L1) (Q):                   0.01   Jarque-Bera (JB):              6493.64\n",
      "Prob(Q):                              0.94   Prob(JB):                         0.00\n",
      "Heteroskedasticity (H):               2.00   Skew:                            -0.14\n",
      "Prob(H) (two-sided):                  0.00   Kurtosis:                         8.57\n",
      "===================================================================================\n",
      "\n",
      "Warnings:\n",
      "[1] Covariance matrix calculated using the outer product of gradients (complex-step).\n",
      "0.004\n"
     ]
    }
   ],
   "source": [
    "modelo_retornos_AR_3_MA_1 = ARIMA(datos.retornos[1:], order = (3,0,1))\n",
    "resultados_retornos_AR_3_MA_1 = modelo_retornos_AR_3_MA_1.fit() \n",
    "print(f\"{resultados_retornos_AR_3_MA_1.summary()}\")\n",
    "print(f\"{LLR_test(resultados_retornos_AR_3_MA_1,resultados_retornos_AR_3_MA_3,DF=2)}\")"
   ]
  },
  {
   "cell_type": "markdown",
   "id": "06ec452a",
   "metadata": {},
   "source": [
    "Observamos que:\n",
    "\n",
    "* $DF=1$, ya que $ARMA(3,3)$ tiene $6$ grados de libertad y $ARMA(3,1)$ solo $4$ grados de libertad.\n",
    "* Solamente el coeficiente $c$ del modelo $ARMA(3,1)$ es significativamente igual a $0$.\n",
    "*  Por la **Prueba de razón Log-LikeLihood** obtenemos un $p-valor=0.004$, así que los modelos $ARMA(3,1)$ y $ARMA(3,3)$ son diferentes.\n",
    "\n",
    "**Conclusión:** Como estamos utilizando retornos, entonces aunque sea significativamente igual a $0$ el coeficiente $c$ del modelo, no importa demasiado, por lo que el modelo $ARMA(3,1)$ es óptimo, pero como es diferente del modelo $ARMA(3,3)$ **por lo tanto, dada la complejidad nos quedamos con el modelo $ARMA(3,3)$**\n",
    "\n",
    "\n",
    "\n",
    "$ARMA(4,3)$ vs $ARMA(3,3)$"
   ]
  },
  {
   "cell_type": "code",
   "execution_count": 71,
   "id": "89abba58",
   "metadata": {},
   "outputs": [
    {
     "name": "stdout",
     "output_type": "stream",
     "text": [
      "                               SARIMAX Results                                \n",
      "==============================================================================\n",
      "Dep. Variable:               retornos   No. Observations:                 5014\n",
      "Model:                 ARIMA(4, 0, 3)   Log Likelihood               -7882.536\n",
      "Date:                Wed, 25 May 2022   AIC                          15783.071\n",
      "Time:                        03:53:23   BIC                          15841.751\n",
      "Sample:                    01-10-1994   HQIC                         15803.635\n",
      "                         - 03-28-2013                                         \n",
      "Covariance Type:                  opg                                         \n",
      "==============================================================================\n",
      "                 coef    std err          z      P>|z|      [0.025      0.975]\n",
      "------------------------------------------------------------------------------\n",
      "const          0.0193      0.015      1.311      0.190      -0.010       0.048\n",
      "ar.L1          0.0961      0.099      0.969      0.333      -0.098       0.290\n",
      "ar.L2         -0.0046      0.072     -0.064      0.949      -0.145       0.136\n",
      "ar.L3          0.4155      0.061      6.761      0.000       0.295       0.536\n",
      "ar.L4          0.0679      0.016      4.348      0.000       0.037       0.099\n",
      "ma.L1         -0.1211      0.100     -1.217      0.224      -0.316       0.074\n",
      "ma.L2         -0.0491      0.070     -0.701      0.483      -0.186       0.088\n",
      "ma.L3         -0.4943      0.059     -8.398      0.000      -0.610      -0.379\n",
      "sigma2         1.3584      0.015     91.175      0.000       1.329       1.388\n",
      "===================================================================================\n",
      "Ljung-Box (L1) (Q):                   0.00   Jarque-Bera (JB):              6630.02\n",
      "Prob(Q):                              0.95   Prob(JB):                         0.00\n",
      "Heteroskedasticity (H):               1.99   Skew:                            -0.20\n",
      "Prob(H) (two-sided):                  0.00   Kurtosis:                         8.62\n",
      "===================================================================================\n",
      "\n",
      "Warnings:\n",
      "[1] Covariance matrix calculated using the outer product of gradients (complex-step).\n",
      "0.034\n"
     ]
    }
   ],
   "source": [
    "modelo_retornos_AR_4_MA_3 = ARIMA(datos.retornos[1:], order = (4,0,3))\n",
    "resultados_retornos_AR_4_MA_3 = modelo_retornos_AR_4_MA_3.fit() \n",
    "print(f\"{resultados_retornos_AR_4_MA_3.summary()}\")\n",
    "print(f\"{LLR_test(resultados_retornos_AR_3_MA_3,resultados_retornos_AR_4_MA_3)}\")"
   ]
  },
  {
   "cell_type": "markdown",
   "id": "e3d44b68",
   "metadata": {},
   "source": [
    "En este caso, como los coeficientes $\\Phi _1, \\Phi _2, \\theta _1, \\theta _2$ son significativamente iguales a $0$, entonces el modelo $ARMA(4,3)$ no es óptimo. **Por lo tanto, nos seguimos quedando con el modelo $ARMA(3,3)$**\n",
    "\n",
    "\n",
    "$ARMA(3,4)$ vs $ARMA(3,3)$"
   ]
  },
  {
   "cell_type": "code",
   "execution_count": 72,
   "id": "687593d8",
   "metadata": {},
   "outputs": [
    {
     "name": "stdout",
     "output_type": "stream",
     "text": [
      "                               SARIMAX Results                                \n",
      "==============================================================================\n",
      "Dep. Variable:               retornos   No. Observations:                 5014\n",
      "Model:                 ARIMA(3, 0, 4)   Log Likelihood               -7883.130\n",
      "Date:                Wed, 25 May 2022   AIC                          15784.259\n",
      "Time:                        03:57:21   BIC                          15842.939\n",
      "Sample:                    01-10-1994   HQIC                         15804.823\n",
      "                         - 03-28-2013                                         \n",
      "Covariance Type:                  opg                                         \n",
      "==============================================================================\n",
      "                 coef    std err          z      P>|z|      [0.025      0.975]\n",
      "------------------------------------------------------------------------------\n",
      "const          0.0193      0.015      1.307      0.191      -0.010       0.048\n",
      "ar.L1          0.1518      0.119      1.278      0.201      -0.081       0.385\n",
      "ar.L2         -0.0570      0.074     -0.768      0.442      -0.202       0.088\n",
      "ar.L3          0.4692      0.062      7.620      0.000       0.348       0.590\n",
      "ma.L1         -0.1752      0.120     -1.464      0.143      -0.410       0.059\n",
      "ma.L2          0.0028      0.072      0.039      0.969      -0.138       0.143\n",
      "ma.L3         -0.5443      0.057     -9.496      0.000      -0.657      -0.432\n",
      "ma.L4          0.0630      0.019      3.355      0.001       0.026       0.100\n",
      "sigma2         1.3585      0.015     91.262      0.000       1.329       1.388\n",
      "===================================================================================\n",
      "Ljung-Box (L1) (Q):                   0.00   Jarque-Bera (JB):              6715.01\n",
      "Prob(Q):                              0.94   Prob(JB):                         0.00\n",
      "Heteroskedasticity (H):               1.99   Skew:                            -0.19\n",
      "Prob(H) (two-sided):                  0.00   Kurtosis:                         8.66\n",
      "===================================================================================\n",
      "\n",
      "Warnings:\n",
      "[1] Covariance matrix calculated using the outer product of gradients (complex-step).\n",
      "0.068\n"
     ]
    }
   ],
   "source": [
    "modelo_retornos_AR_3_MA_4 = ARIMA(datos.retornos[1:], order = (3,0,4))\n",
    "resultados_retornos_AR_3_MA_4 = modelo_retornos_AR_3_MA_4.fit() \n",
    "print(f\"{resultados_retornos_AR_3_MA_4.summary()}\")\n",
    "print(f\"{LLR_test(resultados_retornos_AR_3_MA_3,resultados_retornos_AR_3_MA_4)}\")"
   ]
  },
  {
   "cell_type": "markdown",
   "id": "55c48e1c",
   "metadata": {},
   "source": [
    "En este caso, como los coeficientes $\\Phi _1, \\Phi _2, \\theta _1, \\theta _2$ son significativamente iguales a $0$, entonces el modelo $ARMA(3,4)$ no es óptimo. **Por lo tanto, nos seguimos quedando con el modelo $ARMA(3,3)$**\n",
    "\n",
    "\n",
    "$ARMA(4,4)$ vs $ARMA(3,3)$"
   ]
  },
  {
   "cell_type": "code",
   "execution_count": 75,
   "id": "b203cab1",
   "metadata": {},
   "outputs": [
    {
     "name": "stdout",
     "output_type": "stream",
     "text": [
      "                               SARIMAX Results                                \n",
      "==============================================================================\n",
      "Dep. Variable:               retornos   No. Observations:                 5014\n",
      "Model:                 ARIMA(4, 0, 4)   Log Likelihood               -7880.399\n",
      "Date:                Wed, 25 May 2022   AIC                          15780.797\n",
      "Time:                        04:05:46   BIC                          15845.997\n",
      "Sample:                    01-10-1994   HQIC                         15803.645\n",
      "                         - 03-28-2013                                         \n",
      "Covariance Type:                  opg                                         \n",
      "==============================================================================\n",
      "                 coef    std err          z      P>|z|      [0.025      0.975]\n",
      "------------------------------------------------------------------------------\n",
      "const          0.0193      0.015      1.310      0.190      -0.010       0.048\n",
      "ar.L1         -0.3630      0.180     -2.016      0.044      -0.716      -0.010\n",
      "ar.L2         -0.0652      0.100     -0.651      0.515      -0.262       0.131\n",
      "ar.L3          0.2805      0.072      3.911      0.000       0.140       0.421\n",
      "ar.L4          0.2916      0.068      4.257      0.000       0.157       0.426\n",
      "ma.L1          0.3384      0.181      1.869      0.062      -0.016       0.693\n",
      "ma.L2          0.0031      0.096      0.032      0.975      -0.184       0.190\n",
      "ma.L3         -0.3886      0.065     -5.985      0.000      -0.516      -0.261\n",
      "ma.L4         -0.2655      0.082     -3.233      0.001      -0.426      -0.105\n",
      "sigma2         1.3572      0.015     91.088      0.000       1.328       1.386\n",
      "===================================================================================\n",
      "Ljung-Box (L1) (Q):                   0.00   Jarque-Bera (JB):              6549.22\n",
      "Prob(Q):                              0.95   Prob(JB):                         0.00\n",
      "Heteroskedasticity (H):               1.99   Skew:                            -0.20\n",
      "Prob(H) (two-sided):                  0.00   Kurtosis:                         8.58\n",
      "===================================================================================\n",
      "\n",
      "Warnings:\n",
      "[1] Covariance matrix calculated using the outer product of gradients (complex-step).\n",
      "0.012\n"
     ]
    }
   ],
   "source": [
    "modelo_retornos_AR_4_MA_4 = ARIMA(datos.retornos[1:], order = (4,0,4))\n",
    "resultados_retornos_AR_4_MA_4 = modelo_retornos_AR_4_MA_4.fit() \n",
    "print(f\"{resultados_retornos_AR_4_MA_4.summary()}\")\n",
    "print(f\"{LLR_test(resultados_retornos_AR_3_MA_3,resultados_retornos_AR_4_MA_4,DF=2)}\")"
   ]
  },
  {
   "cell_type": "markdown",
   "id": "f7a56a74",
   "metadata": {},
   "source": [
    "En este caso, como los coeficientes $\\Phi _1, \\theta _1, \\theta _2$ son significativamente iguales a $0$, entonces el modelo $ARMA(4,4)$ no es óptimo. **Por lo tanto, nos seguimos quedando con el modelo $ARMA(3,3)$**\n"
   ]
  },
  {
   "cell_type": "markdown",
   "id": "b94f7a72",
   "metadata": {},
   "source": [
    "<h1> Conclusión </h1>\n",
    "\n",
    "Dado lo anterior, nuestro mejor modelo para pronosticar los retornos es $ARMA(3,3)$ que la obtendremos de la siguiente manera: $$x_t=c+\\Phi _1x_{t-1}+\\cdots + \\Phi _3 x_{t-3}+\\theta _1\\varepsilon _{t-1}+\\cdots +\\theta _3\\varepsilon _{t-3}+\\varepsilon _t$$"
   ]
  }
 ],
 "metadata": {
  "kernelspec": {
   "display_name": "Python 3 (ipykernel)",
   "language": "python",
   "name": "python3"
  },
  "language_info": {
   "codemirror_mode": {
    "name": "ipython",
    "version": 3
   },
   "file_extension": ".py",
   "mimetype": "text/x-python",
   "name": "python",
   "nbconvert_exporter": "python",
   "pygments_lexer": "ipython3",
   "version": "3.9.12"
  }
 },
 "nbformat": 4,
 "nbformat_minor": 5
}
