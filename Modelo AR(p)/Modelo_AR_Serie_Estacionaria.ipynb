{
 "cells": [
  {
   "cell_type": "code",
   "execution_count": 1,
   "id": "d2618bb4",
   "metadata": {},
   "outputs": [],
   "source": [
    "import numpy as np # Para utilizar numpy\n",
    "import pandas as pd # Para utilizar pandas\n",
    "import matplotlib.pyplot as plt #Para las gráficas\n",
    "import statsmodels.graphics.tsaplots as sgt #Gráficas de autocorrelación \n",
    "import statsmodels.tsa.stattools as sts #Para prueba de Dickey-Fuller\n",
    "import seaborn as sns \n",
    "from statsmodels.tsa.arima.model import ARIMA #Para hacer el modelo ARIMA\n",
    "from scipy.stats.distributions import chi2 #Nos sirve para la distribución Xi cuadrada \n",
    "from datetime import datetime #Para trabajar con fechas\n",
    "import os #Para poner la dirección donde esta la base de datos.\n",
    "sns.set()"
   ]
  },
  {
   "cell_type": "markdown",
   "id": "c5373b02",
   "metadata": {},
   "source": [
    "<h1> Preprocesamiento de datos </h1>\n",
    "\n",
    "Dado que los modelos Autorregresivos NO son muy buenos con datos que son estacionarios, entonces primero hacemos un preprocesamiento para después ver con la prueba de *Dickey-Fuller* si lo son o no."
   ]
  },
  {
   "cell_type": "code",
   "execution_count": 5,
   "id": "d3834b2c",
   "metadata": {},
   "outputs": [],
   "source": [
    "os.chdir(\"C:\\\\Users\\\\81799\\\\OneDrive\\\\Documentos\\\\ESFM_CLASES\\\\Servicio Social ARTF\\\\Machine Learning\\\\curso-series-temporales-master\\\\5. Modelos AR autorregresivos\\\\Python\") \n",
    "raw_csv_data = pd.read_csv(\"Index2018.csv\") #Leer DataFrame Index2018\n",
    "df_comp = raw_csv_data.copy() #Copia el DataFrame raw_csv_data con el nombre de df_comp\n",
    "df_comp.date = pd.to_datetime(df_comp.date, dayfirst =True ) #Modifica las fechas\n",
    "df_comp.set_index(\"date\",inplace = True) # Ponemos las fechas como índices\n",
    "df_comp=df_comp.asfreq(\"b\") #Frecuencias a días laborales.\n",
    "df_comp=df_comp.fillna(method=\"ffill\")#Arregla problema d valores faltantes tomando su diferencia\n",
    "df_comp[\"market_value\"]=df_comp.ftse #Agregamos una nueva columna llamada market_value\n",
    "del df_comp[\"spx\"] #Eliminamos la columna spx del DataFrame de_comp\n",
    "del df_comp[\"dax\"] #Eliminamos la columna dax del DataFrame de_comp\n",
    "del df_comp[\"ftse\"] #Eliminamos la columna ftse del DataFrame de_comp\n",
    "del df_comp[\"nikkei\"] #Eliminamos la columna nikkei del DataFrame de_comp\n",
    "size=int(len(df_comp)*0.8) #int (no. de filas*0.8)= int(6277*0.8)= int(5021.6)=5021\n",
    "df, df_test = df_comp.iloc[:size], df_comp.iloc[size:]"
   ]
  },
  {
   "cell_type": "markdown",
   "id": "63a2c0dc",
   "metadata": {},
   "source": [
    "<h1> Prueba de Dickey-Fuller </h1>"
   ]
  },
  {
   "cell_type": "code",
   "execution_count": 6,
   "id": "ecdf0f95",
   "metadata": {},
   "outputs": [
    {
     "data": {
      "text/plain": [
       "(-1.9041551418836855,\n",
       " 0.33010893277028364,\n",
       " 6,\n",
       " 5014,\n",
       " {'1%': -3.4316548765428174,\n",
       "  '5%': -2.8621166146845334,\n",
       "  '10%': -2.5670769326348926},\n",
       " 54854.15304507557)"
      ]
     },
     "execution_count": 6,
     "metadata": {},
     "output_type": "execute_result"
    }
   ],
   "source": [
    "sts.adfuller(df.market_value)"
   ]
  },
  {
   "cell_type": "markdown",
   "id": "89b0c18d",
   "metadata": {},
   "source": [
    "Dada la prueba de *Dickey-Fuller* tenemos que $p-valor>\\alpha $, es decir $0.3301>0.05$ entonces tenemos que **Aceptamos** $H_0$ por lo cual los **datos son NO estacionarios**."
   ]
  },
  {
   "cell_type": "markdown",
   "id": "d90795a9",
   "metadata": {},
   "source": [
    "<h1> Usando Retornos </h1>\n",
    "\n",
    "En finanzas se suele hacer una transformación para convertir los precios en **datos de retorno** porque con retorno se salvará el problema de tener datos NO estacionarios. Los retornos son un porcentaje de cambio entre los valores para períodos consecutivos, es decir un porcentaje de cambio entre los precios de dos períodos consecutivos:\n",
    "\n",
    "$$y_t=\\frac{x_t-x_{t-1}}{x_t}\\cdot 100 \\% $$\n",
    "\n",
    "* Si el retorno ($y_t$) es **positivo**, esto significa que **hay un crecimiento** en los precios de un día para otro.\n",
    "* Si el retorno ($y_t$) es **negativo**, esto significa que los precios **han disminuido** entre esos dos períodos."
   ]
  },
  {
   "cell_type": "code",
   "execution_count": 14,
   "id": "fd2db63f",
   "metadata": {},
   "outputs": [
    {
     "name": "stderr",
     "output_type": "stream",
     "text": [
      "C:\\Users\\81799\\AppData\\Local\\Temp\\ipykernel_18364\\2677877128.py:1: SettingWithCopyWarning: \n",
      "A value is trying to be set on a copy of a slice from a DataFrame.\n",
      "Try using .loc[row_indexer,col_indexer] = value instead\n",
      "\n",
      "See the caveats in the documentation: https://pandas.pydata.org/pandas-docs/stable/user_guide/indexing.html#returning-a-view-versus-a-copy\n",
      "  df[\"Returns\"]=df.market_value.pct_change(1).mul(100)\n"
     ]
    },
    {
     "data": {
      "text/html": [
       "<div>\n",
       "<style scoped>\n",
       "    .dataframe tbody tr th:only-of-type {\n",
       "        vertical-align: middle;\n",
       "    }\n",
       "\n",
       "    .dataframe tbody tr th {\n",
       "        vertical-align: top;\n",
       "    }\n",
       "\n",
       "    .dataframe thead th {\n",
       "        text-align: right;\n",
       "    }\n",
       "</style>\n",
       "<table border=\"1\" class=\"dataframe\">\n",
       "  <thead>\n",
       "    <tr style=\"text-align: right;\">\n",
       "      <th></th>\n",
       "      <th>market_value</th>\n",
       "      <th>Returns</th>\n",
       "    </tr>\n",
       "    <tr>\n",
       "      <th>date</th>\n",
       "      <th></th>\n",
       "      <th></th>\n",
       "    </tr>\n",
       "  </thead>\n",
       "  <tbody>\n",
       "    <tr>\n",
       "      <th>1994-01-07</th>\n",
       "      <td>3445.98</td>\n",
       "      <td>NaN</td>\n",
       "    </tr>\n",
       "    <tr>\n",
       "      <th>1994-01-10</th>\n",
       "      <td>3440.58</td>\n",
       "      <td>-0.156704</td>\n",
       "    </tr>\n",
       "    <tr>\n",
       "      <th>1994-01-11</th>\n",
       "      <td>3413.77</td>\n",
       "      <td>-0.779229</td>\n",
       "    </tr>\n",
       "    <tr>\n",
       "      <th>1994-01-12</th>\n",
       "      <td>3372.02</td>\n",
       "      <td>-1.222988</td>\n",
       "    </tr>\n",
       "    <tr>\n",
       "      <th>1994-01-13</th>\n",
       "      <td>3360.01</td>\n",
       "      <td>-0.356166</td>\n",
       "    </tr>\n",
       "    <tr>\n",
       "      <th>...</th>\n",
       "      <td>...</td>\n",
       "      <td>...</td>\n",
       "    </tr>\n",
       "    <tr>\n",
       "      <th>2013-04-01</th>\n",
       "      <td>6411.74</td>\n",
       "      <td>0.000000</td>\n",
       "    </tr>\n",
       "    <tr>\n",
       "      <th>2013-04-02</th>\n",
       "      <td>6490.66</td>\n",
       "      <td>1.230867</td>\n",
       "    </tr>\n",
       "    <tr>\n",
       "      <th>2013-04-03</th>\n",
       "      <td>6420.28</td>\n",
       "      <td>-1.084327</td>\n",
       "    </tr>\n",
       "    <tr>\n",
       "      <th>2013-04-04</th>\n",
       "      <td>6344.11</td>\n",
       "      <td>-1.186397</td>\n",
       "    </tr>\n",
       "    <tr>\n",
       "      <th>2013-04-05</th>\n",
       "      <td>6249.77</td>\n",
       "      <td>-1.487049</td>\n",
       "    </tr>\n",
       "  </tbody>\n",
       "</table>\n",
       "<p>5021 rows × 2 columns</p>\n",
       "</div>"
      ],
      "text/plain": [
       "            market_value   Returns\n",
       "date                              \n",
       "1994-01-07       3445.98       NaN\n",
       "1994-01-10       3440.58 -0.156704\n",
       "1994-01-11       3413.77 -0.779229\n",
       "1994-01-12       3372.02 -1.222988\n",
       "1994-01-13       3360.01 -0.356166\n",
       "...                  ...       ...\n",
       "2013-04-01       6411.74  0.000000\n",
       "2013-04-02       6490.66  1.230867\n",
       "2013-04-03       6420.28 -1.084327\n",
       "2013-04-04       6344.11 -1.186397\n",
       "2013-04-05       6249.77 -1.487049\n",
       "\n",
       "[5021 rows x 2 columns]"
      ]
     },
     "execution_count": 14,
     "metadata": {},
     "output_type": "execute_result"
    }
   ],
   "source": [
    "df[\"Returns\"]=df.market_value.pct_change(1).mul(100) # Guarda los retornos en la columna Returns\n",
    "df"
   ]
  },
  {
   "cell_type": "markdown",
   "id": "257eb6e1",
   "metadata": {},
   "source": [
    "Tenemos que el $2$do valor de la columna *Returns* se calcula de la siguiente manera:\n",
    "$$\\begin{array}{l} y_2&=\\frac{x_2-x_1}{x_2}\\cdot 100\\% \\\\ y_2&=\\frac{3440.58-3445.98}{3440.58}\\cdot 100 \\%  \\\\ y_2 &=-0.156704 \\end{array}$$\n",
    "\n",
    "\n",
    "\n",
    "\n"
   ]
  },
  {
   "cell_type": "code",
   "execution_count": 16,
   "id": "7c58ad47",
   "metadata": {},
   "outputs": [
    {
     "data": {
      "text/html": [
       "<div>\n",
       "<style scoped>\n",
       "    .dataframe tbody tr th:only-of-type {\n",
       "        vertical-align: middle;\n",
       "    }\n",
       "\n",
       "    .dataframe tbody tr th {\n",
       "        vertical-align: top;\n",
       "    }\n",
       "\n",
       "    .dataframe thead th {\n",
       "        text-align: right;\n",
       "    }\n",
       "</style>\n",
       "<table border=\"1\" class=\"dataframe\">\n",
       "  <thead>\n",
       "    <tr style=\"text-align: right;\">\n",
       "      <th></th>\n",
       "      <th>market_value</th>\n",
       "      <th>Returns</th>\n",
       "    </tr>\n",
       "    <tr>\n",
       "      <th>date</th>\n",
       "      <th></th>\n",
       "      <th></th>\n",
       "    </tr>\n",
       "  </thead>\n",
       "  <tbody>\n",
       "    <tr>\n",
       "      <th>1994-01-11</th>\n",
       "      <td>3413.77</td>\n",
       "      <td>-0.779229</td>\n",
       "    </tr>\n",
       "    <tr>\n",
       "      <th>1994-01-12</th>\n",
       "      <td>3372.02</td>\n",
       "      <td>-1.222988</td>\n",
       "    </tr>\n",
       "    <tr>\n",
       "      <th>1994-01-13</th>\n",
       "      <td>3360.01</td>\n",
       "      <td>-0.356166</td>\n",
       "    </tr>\n",
       "    <tr>\n",
       "      <th>1994-01-14</th>\n",
       "      <td>3400.56</td>\n",
       "      <td>1.206842</td>\n",
       "    </tr>\n",
       "    <tr>\n",
       "      <th>1994-01-17</th>\n",
       "      <td>3407.83</td>\n",
       "      <td>0.213788</td>\n",
       "    </tr>\n",
       "    <tr>\n",
       "      <th>...</th>\n",
       "      <td>...</td>\n",
       "      <td>...</td>\n",
       "    </tr>\n",
       "    <tr>\n",
       "      <th>2013-04-01</th>\n",
       "      <td>6411.74</td>\n",
       "      <td>0.000000</td>\n",
       "    </tr>\n",
       "    <tr>\n",
       "      <th>2013-04-02</th>\n",
       "      <td>6490.66</td>\n",
       "      <td>1.230867</td>\n",
       "    </tr>\n",
       "    <tr>\n",
       "      <th>2013-04-03</th>\n",
       "      <td>6420.28</td>\n",
       "      <td>-1.084327</td>\n",
       "    </tr>\n",
       "    <tr>\n",
       "      <th>2013-04-04</th>\n",
       "      <td>6344.11</td>\n",
       "      <td>-1.186397</td>\n",
       "    </tr>\n",
       "    <tr>\n",
       "      <th>2013-04-05</th>\n",
       "      <td>6249.77</td>\n",
       "      <td>-1.487049</td>\n",
       "    </tr>\n",
       "  </tbody>\n",
       "</table>\n",
       "<p>5019 rows × 2 columns</p>\n",
       "</div>"
      ],
      "text/plain": [
       "            market_value   Returns\n",
       "date                              \n",
       "1994-01-11       3413.77 -0.779229\n",
       "1994-01-12       3372.02 -1.222988\n",
       "1994-01-13       3360.01 -0.356166\n",
       "1994-01-14       3400.56  1.206842\n",
       "1994-01-17       3407.83  0.213788\n",
       "...                  ...       ...\n",
       "2013-04-01       6411.74  0.000000\n",
       "2013-04-02       6490.66  1.230867\n",
       "2013-04-03       6420.28 -1.084327\n",
       "2013-04-04       6344.11 -1.186397\n",
       "2013-04-05       6249.77 -1.487049\n",
       "\n",
       "[5019 rows x 2 columns]"
      ]
     },
     "execution_count": 16,
     "metadata": {},
     "output_type": "execute_result"
    }
   ],
   "source": [
    "df = df.iloc[1:] # Eliminamos la primera fila para no tener NA\n",
    "df"
   ]
  },
  {
   "cell_type": "markdown",
   "id": "f920dfd6",
   "metadata": {},
   "source": [
    "<h1> Aplicando Dickey-Fuller a la variable de retorno </h1>"
   ]
  },
  {
   "cell_type": "code",
   "execution_count": 17,
   "id": "8fc0d54c",
   "metadata": {
    "scrolled": true
   },
   "outputs": [
    {
     "data": {
      "text/plain": [
       "(-12.79033260390992,\n",
       " 7.099523586682315e-24,\n",
       " 32,\n",
       " 4986,\n",
       " {'1%': -3.43166220814716,\n",
       "  '5%': -2.862119853748156,\n",
       "  '10%': -2.567078656914853},\n",
       " 15690.778602127364)"
      ]
     },
     "execution_count": 17,
     "metadata": {},
     "output_type": "execute_result"
    }
   ],
   "source": [
    "sts.adfuller(df.Returns)"
   ]
  },
  {
   "cell_type": "markdown",
   "id": "cd928911",
   "metadata": {},
   "source": [
    "En este caso, tenemos que $p-valor<\\alpha $, ya que $7.01e^{-24}<0.05 $ entonces **Rechazamos** $H_0$ y conclui"
   ]
  },
  {
   "cell_type": "code",
   "execution_count": 25,
   "id": "611c9890",
   "metadata": {},
   "outputs": [
    {
     "data": {
      "image/png": "[encoded data removed]",
      "text/plain": [
       "<Figure size 432x288 with 1 Axes>"
      ]
     },
     "metadata": {
      "needs_background": "light"
     },
     "output_type": "display_data"
    }
   ],
   "source": [
    "sgt.plot_acf(df.Returns, zero = False, lags = 40)\n",
    "plt.title(\"ACF for Returns\", size = 20)\n",
    "plt.ylim(-0.085,0.06)\n",
    "plt.show()"
   ]
  },
  {
   "cell_type": "markdown",
   "id": "4cf602ab",
   "metadata": {},
   "source": [
    "De la gráfica **ACF for Returns** observamos que:\n",
    "* Hay  $13$ coeficientes de correlación  $\\varphi _k$ significativos."
   ]
  },
  {
   "cell_type": "code",
   "execution_count": 27,
   "id": "5beeb18e",
   "metadata": {},
   "outputs": [
    {
     "data": {
      "image/png": "[encoded data removed]",
      "text/plain": [
       "<Figure size 432x288 with 1 Axes>"
      ]
     },
     "metadata": {
      "needs_background": "light"
     },
     "output_type": "display_data"
    }
   ],
   "source": [
    "sgt.plot_pacf(df.Returns, zero = False, lags = 40, alpha =0.05, method = \"ols\")\n",
    "plt.title(\"PACF for Returns\", size = 20)\n",
    "plt.ylim(-0.085,0.06)\n",
    "plt.show()"
   ]
  },
  {
   "cell_type": "markdown",
   "id": "59cd645c",
   "metadata": {},
   "source": [
    "Observamos que la gráfica  **PACF for Returns** es casi similiar a la gráfica **ACF for Returns**.\n",
    "\n",
    "* La mayoría de los coeficientes $\\varphi $ NO son significaativos.\n",
    "\n",
    "<h1> AR(1) para Returns </h1>"
   ]
  },
  {
   "cell_type": "code",
   "execution_count": 28,
   "id": "d793d3b1",
   "metadata": {},
   "outputs": [
    {
     "data": {
      "text/html": [
       "<table class=\"simpletable\">\n",
       "<caption>SARIMAX Results</caption>\n",
       "<tr>\n",
       "  <th>Dep. Variable:</th>        <td>Returns</td>     <th>  No. Observations:  </th>   <td>5019</td>   \n",
       "</tr>\n",
       "<tr>\n",
       "  <th>Model:</th>            <td>ARIMA(1, 0, 0)</td>  <th>  Log Likelihood     </th> <td>-7928.655</td>\n",
       "</tr>\n",
       "<tr>\n",
       "  <th>Date:</th>            <td>Mon, 23 May 2022</td> <th>  AIC                </th> <td>15863.311</td>\n",
       "</tr>\n",
       "<tr>\n",
       "  <th>Time:</th>                <td>17:39:51</td>     <th>  BIC                </th> <td>15882.874</td>\n",
       "</tr>\n",
       "<tr>\n",
       "  <th>Sample:</th>             <td>01-11-1994</td>    <th>  HQIC               </th> <td>15870.166</td>\n",
       "</tr>\n",
       "<tr>\n",
       "  <th></th>                   <td>- 04-05-2013</td>   <th>                     </th>     <td> </td>    \n",
       "</tr>\n",
       "<tr>\n",
       "  <th>Covariance Type:</th>        <td>opg</td>       <th>                     </th>     <td> </td>    \n",
       "</tr>\n",
       "</table>\n",
       "<table class=\"simpletable\">\n",
       "<tr>\n",
       "     <td></td>       <th>coef</th>     <th>std err</th>      <th>z</th>      <th>P>|z|</th>  <th>[0.025</th>    <th>0.975]</th>  \n",
       "</tr>\n",
       "<tr>\n",
       "  <th>const</th>  <td>    0.0188</td> <td>    0.016</td> <td>    1.145</td> <td> 0.252</td> <td>   -0.013</td> <td>    0.051</td>\n",
       "</tr>\n",
       "<tr>\n",
       "  <th>ar.L1</th>  <td>   -0.0230</td> <td>    0.009</td> <td>   -2.699</td> <td> 0.007</td> <td>   -0.040</td> <td>   -0.006</td>\n",
       "</tr>\n",
       "<tr>\n",
       "  <th>sigma2</th> <td>    1.3793</td> <td>    0.014</td> <td>  100.071</td> <td> 0.000</td> <td>    1.352</td> <td>    1.406</td>\n",
       "</tr>\n",
       "</table>\n",
       "<table class=\"simpletable\">\n",
       "<tr>\n",
       "  <th>Ljung-Box (L1) (Q):</th>     <td>0.01</td> <th>  Jarque-Bera (JB):  </th> <td>7866.61</td>\n",
       "</tr>\n",
       "<tr>\n",
       "  <th>Prob(Q):</th>                <td>0.93</td> <th>  Prob(JB):          </th>  <td>0.00</td>  \n",
       "</tr>\n",
       "<tr>\n",
       "  <th>Heteroskedasticity (H):</th> <td>2.04</td> <th>  Skew:              </th>  <td>-0.03</td> \n",
       "</tr>\n",
       "<tr>\n",
       "  <th>Prob(H) (two-sided):</th>    <td>0.00</td> <th>  Kurtosis:          </th>  <td>9.13</td>  \n",
       "</tr>\n",
       "</table><br/><br/>Warnings:<br/>[1] Covariance matrix calculated using the outer product of gradients (complex-step)."
      ],
      "text/plain": [
       "<class 'statsmodels.iolib.summary.Summary'>\n",
       "\"\"\"\n",
       "                               SARIMAX Results                                \n",
       "==============================================================================\n",
       "Dep. Variable:                Returns   No. Observations:                 5019\n",
       "Model:                 ARIMA(1, 0, 0)   Log Likelihood               -7928.655\n",
       "Date:                Mon, 23 May 2022   AIC                          15863.311\n",
       "Time:                        17:39:51   BIC                          15882.874\n",
       "Sample:                    01-11-1994   HQIC                         15870.166\n",
       "                         - 04-05-2013                                         \n",
       "Covariance Type:                  opg                                         \n",
       "==============================================================================\n",
       "                 coef    std err          z      P>|z|      [0.025      0.975]\n",
       "------------------------------------------------------------------------------\n",
       "const          0.0188      0.016      1.145      0.252      -0.013       0.051\n",
       "ar.L1         -0.0230      0.009     -2.699      0.007      -0.040      -0.006\n",
       "sigma2         1.3793      0.014    100.071      0.000       1.352       1.406\n",
       "===================================================================================\n",
       "Ljung-Box (L1) (Q):                   0.01   Jarque-Bera (JB):              7866.61\n",
       "Prob(Q):                              0.93   Prob(JB):                         0.00\n",
       "Heteroskedasticity (H):               2.04   Skew:                            -0.03\n",
       "Prob(H) (two-sided):                  0.00   Kurtosis:                         9.13\n",
       "===================================================================================\n",
       "\n",
       "Warnings:\n",
       "[1] Covariance matrix calculated using the outer product of gradients (complex-step).\n",
       "\"\"\""
      ]
     },
     "execution_count": 28,
     "metadata": {},
     "output_type": "execute_result"
    }
   ],
   "source": [
    "model_ar_1 = ARIMA(df.Returns, order=(1,0,0)) \n",
    "results_ar_1 = model_ar_1.fit() #Guardamos en results para ver como se ajustan\n",
    "#los datos (fit() es para ajustarlo)\n",
    "results_ar_1.summary()"
   ]
  },
  {
   "cell_type": "markdown",
   "id": "b025c22d",
   "metadata": {},
   "source": [
    "Dado lo anterior, tenemos que:\n",
    "\n",
    "* El $p-valor$ del coeficiente $c$ es igual a $0.252$, lo cual indica que $p-valor _c >0.05$, por lo cual aceptamos $H_0$, así que **el coeficiente de c es significativamente igual a $0$**.\n",
    "\n",
    "* El $p-valor$ del coeficiente $\\Phi _1$ es igual a $0.007$, lo cual indica que $p-valor _{\\Phi _1} <0.05$, por lo cual Rechazamos $H_0$, así que **el coeficiente de $\\Phi _1$ es significativamente diferente de $0$**.\n",
    "\n",
    "<h1>Comparando Modelos AR (p) Higher-Lag sobre Returns </h1>\n",
    "\n",
    "* Si al comparar los modelos $AR(p)$ con $AR(p+l)$ obtenemos que los modelos son diferentes, escogeremos el de mayor complejidad, siempre y cuando el último coeficiente de $AR(p+l)$ sea significativamente distinto de $0$\n",
    "\n",
    "\n",
    "La siguiente función *LLR_test(mod_1,mod_2,DF)* Nos sirve para obtener el $p-valor$ de la comparación de dos modelos.\n"
   ]
  },
  {
   "cell_type": "code",
   "execution_count": null,
   "id": "862bd429",
   "metadata": {},
   "outputs": [],
   "source": [
    "def LLR_test(mod_1,mod_2,DF=1): #DF son los grados de libertad\n",
    "    L1=mod_1.llf # Me da Log Likelihood del mod_1 que de como entrada\n",
    "    L2=mod_2.llf # Me da Log Likelihood del mod_2 que de como entrada\n",
    "    LR=(2*(L2-L1)) # Estadístico de prueba\n",
    "    p=chi2.sf(LR,DF).round(3) #P-valor\n",
    "    return p"
   ]
  },
  {
   "cell_type": "markdown",
   "id": "446843d6",
   "metadata": {},
   "source": [
    "<h2> AR(1) y AR(2) </h2>"
   ]
  },
  {
   "cell_type": "code",
   "execution_count": 30,
   "id": "5e87ab5f",
   "metadata": {},
   "outputs": [
    {
     "name": "stdout",
     "output_type": "stream",
     "text": [
      "                               SARIMAX Results                                \n",
      "==============================================================================\n",
      "Dep. Variable:                Returns   No. Observations:                 5019\n",
      "Model:                 ARIMA(2, 0, 0)   Log Likelihood               -7922.353\n",
      "Date:                Mon, 23 May 2022   AIC                          15852.707\n",
      "Time:                        17:50:57   BIC                          15878.790\n",
      "Sample:                    01-11-1994   HQIC                         15861.847\n",
      "                         - 04-05-2013                                         \n",
      "Covariance Type:                  opg                                         \n",
      "==============================================================================\n",
      "                 coef    std err          z      P>|z|      [0.025      0.975]\n",
      "------------------------------------------------------------------------------\n",
      "const          0.0188      0.016      1.197      0.231      -0.012       0.050\n",
      "ar.L1         -0.0242      0.009     -2.802      0.005      -0.041      -0.007\n",
      "ar.L2         -0.0501      0.008     -6.375      0.000      -0.065      -0.035\n",
      "sigma2         1.3758      0.014     99.572      0.000       1.349       1.403\n",
      "===================================================================================\n",
      "Ljung-Box (L1) (Q):                   0.08   Jarque-Bera (JB):              7724.32\n",
      "Prob(Q):                              0.77   Prob(JB):                         0.00\n",
      "Heteroskedasticity (H):               2.03   Skew:                            -0.07\n",
      "Prob(H) (two-sided):                  0.00   Kurtosis:                         9.08\n",
      "===================================================================================\n",
      "\n",
      "Warnings:\n",
      "[1] Covariance matrix calculated using the outer product of gradients (complex-step).\n",
      "LRR test: 0.0\n"
     ]
    }
   ],
   "source": [
    "model_ar_2 = ARIMA(df.Returns, order =(2,0,0))\n",
    "results_ar_2 = model_ar_2.fit()\n",
    "print(results_ar_2.summary())\n",
    "print(\"LRR test: \"+str(LLR_test(results_ar_1, results_ar_2)))"
   ]
  },
  {
   "cell_type": "markdown",
   "id": "23a6b250",
   "metadata": {},
   "source": [
    "En este caso: $AR(1)$ y $AR(2)$\n",
    "\n",
    "* El $p-valor$ del coeficiente $\\Phi _2$ es $0.000$, lo cual tendremos que $p-valor _{\\Phi _2}<0.05$, por lo cual **Rechazamos** $H_0$ y concluimos que $\\Phi _2$ es significativamente distinto de $0$.\n",
    "\n",
    "* Al realizar la **Prueba de Razón Log-LikeLihood** respecto a $AR(1)$ y $AR(2)$ tenemos que $p-valor <\\alpha $, es decir $0.0<0.05$, con esto **Rechazamos** $H_0$ y tenemos que los dos modelos son significativamente diferentes.\n",
    "\n",
    "\n",
    "Dado los anteriores puntos, nos quedamos con el modelo $AR(2)$, ya que tiene mayor complejidad y $\\Phi _2$ es significativamente distinto de $0$\n",
    "\n",
    "\n",
    "<h2> AR(2) y AR(3) </h2>"
   ]
  },
  {
   "cell_type": "code",
   "execution_count": 31,
   "id": "3d425f65",
   "metadata": {},
   "outputs": [
    {
     "name": "stdout",
     "output_type": "stream",
     "text": [
      "                               SARIMAX Results                                \n",
      "==============================================================================\n",
      "Dep. Variable:                Returns   No. Observations:                 5019\n",
      "Model:                 ARIMA(3, 0, 0)   Log Likelihood               -7905.632\n",
      "Date:                Mon, 23 May 2022   AIC                          15821.264\n",
      "Time:                        18:03:00   BIC                          15853.869\n",
      "Sample:                    01-11-1994   HQIC                         15832.689\n",
      "                         - 04-05-2013                                         \n",
      "Covariance Type:                  opg                                         \n",
      "==============================================================================\n",
      "                 coef    std err          z      P>|z|      [0.025      0.975]\n",
      "------------------------------------------------------------------------------\n",
      "const          0.0189      0.015      1.275      0.202      -0.010       0.048\n",
      "ar.L1         -0.0283      0.009     -3.203      0.001      -0.046      -0.011\n",
      "ar.L2         -0.0521      0.008     -6.689      0.000      -0.067      -0.037\n",
      "ar.L3         -0.0815      0.008    -10.192      0.000      -0.097      -0.066\n",
      "sigma2         1.3667      0.014     94.499      0.000       1.338       1.395\n",
      "===================================================================================\n",
      "Ljung-Box (L1) (Q):                   0.07   Jarque-Bera (JB):              6853.73\n",
      "Prob(Q):                              0.79   Prob(JB):                         0.00\n",
      "Heteroskedasticity (H):               2.02   Skew:                            -0.15\n",
      "Prob(H) (two-sided):                  0.00   Kurtosis:                         8.72\n",
      "===================================================================================\n",
      "\n",
      "Warnings:\n",
      "[1] Covariance matrix calculated using the outer product of gradients (complex-step).\n",
      "LRR test: 0.0\n"
     ]
    }
   ],
   "source": [
    "model_ar_3 = ARIMA(df.Returns, order =(3,0,0))\n",
    "results_ar_3 = model_ar_3.fit()\n",
    "print(results_ar_3.summary())\n",
    "print(\"LRR test: \"+str(LLR_test(results_ar_2, results_ar_3)))"
   ]
  },
  {
   "cell_type": "markdown",
   "id": "c7e8064b",
   "metadata": {},
   "source": [
    "En este caso: $AR(2)$ y $AR(3)$\n",
    "\n",
    "* El $p-valor$ del coeficiente $\\Phi _3$ es $0.000$, lo cual tendremos que $p-valor _{\\Phi _3}<0.05$, por lo cual **Rechazamos** $H_0$ y concluimos que $\\Phi _3$ es significativamente distinto de $0$.\n",
    "\n",
    "* Al realizar la **Prueba de Razón Log-LikeLihood** respecto a $AR(3)$ y $AR(2)$ tenemos que $p-valor <\\alpha $, es decir $0.0<0.05$, con esto **Rechazamos** $H_0$ y tenemos que los dos modelos son significativamente diferentes.\n",
    "\n",
    "\n",
    "Dado los anteriores puntos, nos quedamos con el modelo $AR(3)$, ya que tiene mayor complejidad y $\\Phi _3$ es significativamente distinto de $0$\n",
    "\n",
    "\n",
    "<h2> AR(3) y AR(4) </h2>"
   ]
  },
  {
   "cell_type": "code",
   "execution_count": 32,
   "id": "7e2b7695",
   "metadata": {},
   "outputs": [
    {
     "name": "stdout",
     "output_type": "stream",
     "text": [
      "                               SARIMAX Results                                \n",
      "==============================================================================\n",
      "Dep. Variable:                Returns   No. Observations:                 5019\n",
      "Model:                 ARIMA(4, 0, 0)   Log Likelihood               -7900.213\n",
      "Date:                Mon, 23 May 2022   AIC                          15812.427\n",
      "Time:                        18:09:34   BIC                          15851.553\n",
      "Sample:                    01-11-1994   HQIC                         15826.137\n",
      "                         - 04-05-2013                                         \n",
      "Covariance Type:                  opg                                         \n",
      "==============================================================================\n",
      "                 coef    std err          z      P>|z|      [0.025      0.975]\n",
      "------------------------------------------------------------------------------\n",
      "const          0.0189      0.016      1.212      0.226      -0.012       0.049\n",
      "ar.L1         -0.0246      0.009     -2.773      0.006      -0.042      -0.007\n",
      "ar.L2         -0.0497      0.008     -6.335      0.000      -0.065      -0.034\n",
      "ar.L3         -0.0802      0.008     -9.994      0.000      -0.096      -0.064\n",
      "ar.L4          0.0465      0.008      5.655      0.000       0.030       0.063\n",
      "sigma2         1.3637      0.015     92.758      0.000       1.335       1.393\n",
      "===================================================================================\n",
      "Ljung-Box (L1) (Q):                   0.04   Jarque-Bera (JB):              6575.53\n",
      "Prob(Q):                              0.84   Prob(JB):                         0.00\n",
      "Heteroskedasticity (H):               2.00   Skew:                            -0.12\n",
      "Prob(H) (two-sided):                  0.00   Kurtosis:                         8.60\n",
      "===================================================================================\n",
      "\n",
      "Warnings:\n",
      "[1] Covariance matrix calculated using the outer product of gradients (complex-step).\n",
      "LRR test: 0.001\n"
     ]
    }
   ],
   "source": [
    "model_ar_4 = ARIMA(df.Returns, order =(4,0,0))\n",
    "results_ar_4 = model_ar_4.fit()\n",
    "print(results_ar_4.summary())\n",
    "print(\"LRR test: \"+str(LLR_test(results_ar_3, results_ar_4)))"
   ]
  },
  {
   "cell_type": "markdown",
   "id": "9383ef7a",
   "metadata": {},
   "source": [
    "En este caso: $AR(3)$ y $AR(4)$\n",
    "\n",
    "* El $p-valor$ del coeficiente $\\Phi _4$ es $0.000$, lo cual tendremos que $p-valor _{\\Phi _4}<0.05$, por lo cual **Rechazamos** $H_0$ y concluimos que $\\Phi _4$ es significativamente distinto de $0$.\n",
    "\n",
    "* Al realizar la **Prueba de Razón Log-LikeLihood** respecto a $AR(3)$ y $AR(4)$ tenemos que $p-valor <\\alpha $, es decir $0.001<0.05$, con esto **Rechazamos** $H_0$ y tenemos que los dos modelos son significativamente diferentes.\n",
    "\n",
    "\n",
    "Dado los anteriores puntos, nos quedamos con el modelo $AR(4)$, ya que tiene mayor complejidad y $\\Phi _4$ es significativamente distinto de $0$\n",
    "\n",
    "\n",
    "<h2> AR(4) y AR(5) </h2>"
   ]
  },
  {
   "cell_type": "code",
   "execution_count": 33,
   "id": "0250899f",
   "metadata": {},
   "outputs": [
    {
     "name": "stdout",
     "output_type": "stream",
     "text": [
      "                               SARIMAX Results                                \n",
      "==============================================================================\n",
      "Dep. Variable:                Returns   No. Observations:                 5019\n",
      "Model:                 ARIMA(5, 0, 0)   Log Likelihood               -7891.277\n",
      "Date:                Mon, 23 May 2022   AIC                          15796.553\n",
      "Time:                        18:12:59   BIC                          15842.200\n",
      "Sample:                    01-11-1994   HQIC                         15812.549\n",
      "                         - 04-05-2013                                         \n",
      "Covariance Type:                  opg                                         \n",
      "==============================================================================\n",
      "                 coef    std err          z      P>|z|      [0.025      0.975]\n",
      "------------------------------------------------------------------------------\n",
      "const          0.0189      0.015      1.277      0.202      -0.010       0.048\n",
      "ar.L1         -0.0218      0.009     -2.400      0.016      -0.040      -0.004\n",
      "ar.L2         -0.0545      0.008     -6.832      0.000      -0.070      -0.039\n",
      "ar.L3         -0.0831      0.008    -10.406      0.000      -0.099      -0.067\n",
      "ar.L4          0.0450      0.008      5.436      0.000       0.029       0.061\n",
      "ar.L5         -0.0596      0.008     -7.466      0.000      -0.075      -0.044\n",
      "sigma2         1.3589      0.015     92.509      0.000       1.330       1.388\n",
      "===================================================================================\n",
      "Ljung-Box (L1) (Q):                   0.04   Jarque-Bera (JB):              6393.53\n",
      "Prob(Q):                              0.84   Prob(JB):                         0.00\n",
      "Heteroskedasticity (H):               2.00   Skew:                            -0.17\n",
      "Prob(H) (two-sided):                  0.00   Kurtosis:                         8.52\n",
      "===================================================================================\n",
      "\n",
      "Warnings:\n",
      "[1] Covariance matrix calculated using the outer product of gradients (complex-step).\n",
      "LRR test: 0.0\n"
     ]
    }
   ],
   "source": [
    "model_ar_5 = ARIMA(df.Returns, order =(5,0,0))\n",
    "results_ar_5 = model_ar_5.fit()\n",
    "print(results_ar_5.summary())\n",
    "print(\"LRR test: \"+str(LLR_test(results_ar_4, results_ar_5)))"
   ]
  },
  {
   "cell_type": "markdown",
   "id": "50994a22",
   "metadata": {},
   "source": [
    "En este caso: $AR(4)$ y $AR(5)$\n",
    "\n",
    "* El $p-valor$ del coeficiente $\\Phi _5$ es $0.000$, lo cual tendremos que $p-valor _{\\Phi _5}<0.05$, por lo cual **Rechazamos** $H_0$ y concluimos que $\\Phi _5$ es significativamente distinto de $0$.\n",
    "\n",
    "* Al realizar la **Prueba de Razón Log-LikeLihood** respecto a $AR(4)$ y $AR(5)$ tenemos que $p-valor <\\alpha $, es decir $0.0<0.05$, con esto **Rechazamos** $H_0$ y tenemos que los dos modelos son significativamente diferentes.\n",
    "\n",
    "\n",
    "Dado los anteriores puntos, nos quedamos con el modelo $AR(5)$, ya que tiene mayor complejidad y $\\Phi _5$ es significativamente distinto de $0$\n",
    "\n",
    "\n",
    "<h2> AR(5) y AR(6) </h2>"
   ]
  },
  {
   "cell_type": "code",
   "execution_count": 34,
   "id": "a3045235",
   "metadata": {},
   "outputs": [
    {
     "name": "stdout",
     "output_type": "stream",
     "text": [
      "                               SARIMAX Results                                \n",
      "==============================================================================\n",
      "Dep. Variable:                Returns   No. Observations:                 5019\n",
      "Model:                 ARIMA(6, 0, 0)   Log Likelihood               -7885.842\n",
      "Date:                Mon, 23 May 2022   AIC                          15787.684\n",
      "Time:                        18:15:30   BIC                          15839.852\n",
      "Sample:                    01-11-1994   HQIC                         15805.965\n",
      "                         - 04-05-2013                                         \n",
      "Covariance Type:                  opg                                         \n",
      "==============================================================================\n",
      "                 coef    std err          z      P>|z|      [0.025      0.975]\n",
      "------------------------------------------------------------------------------\n",
      "const          0.0190      0.014      1.327      0.185      -0.009       0.047\n",
      "ar.L1         -0.0246      0.009     -2.643      0.008      -0.043      -0.006\n",
      "ar.L2         -0.0524      0.008     -6.511      0.000      -0.068      -0.037\n",
      "ar.L3         -0.0870      0.008    -10.852      0.000      -0.103      -0.071\n",
      "ar.L4          0.0424      0.008      5.138      0.000       0.026       0.059\n",
      "ar.L5         -0.0607      0.008     -7.565      0.000      -0.076      -0.045\n",
      "ar.L6         -0.0465      0.009     -5.211      0.000      -0.064      -0.029\n",
      "sigma2         1.3559      0.015     92.496      0.000       1.327       1.385\n",
      "===================================================================================\n",
      "Ljung-Box (L1) (Q):                   0.00   Jarque-Bera (JB):              6481.90\n",
      "Prob(Q):                              0.97   Prob(JB):                         0.00\n",
      "Heteroskedasticity (H):               2.00   Skew:                            -0.20\n",
      "Prob(H) (two-sided):                  0.00   Kurtosis:                         8.55\n",
      "===================================================================================\n",
      "\n",
      "Warnings:\n",
      "[1] Covariance matrix calculated using the outer product of gradients (complex-step).\n",
      "LRR test: 0.001\n"
     ]
    }
   ],
   "source": [
    "model_ar_6 = ARIMA(df.Returns, order =(6,0,0))\n",
    "results_ar_6 = model_ar_6.fit()\n",
    "print(results_ar_6.summary())\n",
    "print(\"LRR test: \"+str(LLR_test(results_ar_5, results_ar_6)))"
   ]
  },
  {
   "cell_type": "markdown",
   "id": "e39a0ead",
   "metadata": {},
   "source": [
    "En este caso: $AR(5)$ y $AR(6)$\n",
    "\n",
    "* El $p-valor$ del coeficiente $\\Phi _6$ es $0.000$, lo cual tendremos que $p-valor _{\\Phi _6}<0.05$, por lo cual **Rechazamos** $H_0$ y concluimos que $\\Phi _6$ es significativamente distinto de $0$.\n",
    "\n",
    "* Al realizar la **Prueba de Razón Log-LikeLihood** respecto a $AR(5)$ y $AR(6)$ tenemos que $p-valor <\\alpha $, es decir $0.001<0.05$, con esto **Rechazamos** $H_0$ y tenemos que los dos modelos son significativamente diferentes.\n",
    "\n",
    "\n",
    "Dado los anteriores puntos, nos quedamos con el modelo $AR(6)$, ya que tiene mayor complejidad y $\\Phi _6$ es significativamente distinto de $0$\n",
    "\n",
    "\n",
    "<h2> AR(6) y AR(7) </h2>"
   ]
  },
  {
   "cell_type": "code",
   "execution_count": 35,
   "id": "ff4f8b34",
   "metadata": {},
   "outputs": [
    {
     "name": "stdout",
     "output_type": "stream",
     "text": [
      "                               SARIMAX Results                                \n",
      "==============================================================================\n",
      "Dep. Variable:                Returns   No. Observations:                 5019\n",
      "Model:                 ARIMA(7, 0, 0)   Log Likelihood               -7885.542\n",
      "Date:                Mon, 23 May 2022   AIC                          15789.083\n",
      "Time:                        18:18:03   BIC                          15847.772\n",
      "Sample:                    01-11-1994   HQIC                         15809.649\n",
      "                         - 04-05-2013                                         \n",
      "Covariance Type:                  opg                                         \n",
      "==============================================================================\n",
      "                 coef    std err          z      P>|z|      [0.025      0.975]\n",
      "------------------------------------------------------------------------------\n",
      "const          0.0190      0.015      1.307      0.191      -0.009       0.047\n",
      "ar.L1         -0.0240      0.009     -2.582      0.010      -0.042      -0.006\n",
      "ar.L2         -0.0517      0.008     -6.380      0.000      -0.068      -0.036\n",
      "ar.L3         -0.0874      0.008    -10.725      0.000      -0.103      -0.071\n",
      "ar.L4          0.0434      0.008      5.188      0.000       0.027       0.060\n",
      "ar.L5         -0.0601      0.008     -7.460      0.000      -0.076      -0.044\n",
      "ar.L6         -0.0462      0.009     -5.168      0.000      -0.064      -0.029\n",
      "ar.L7          0.0109      0.009      1.211      0.226      -0.007       0.029\n",
      "sigma2         1.3558      0.015     91.760      0.000       1.327       1.385\n",
      "===================================================================================\n",
      "Ljung-Box (L1) (Q):                   0.00   Jarque-Bera (JB):              6442.56\n",
      "Prob(Q):                              0.99   Prob(JB):                         0.00\n",
      "Heteroskedasticity (H):               2.00   Skew:                            -0.19\n",
      "Prob(H) (two-sided):                  0.00   Kurtosis:                         8.54\n",
      "===================================================================================\n",
      "\n",
      "Warnings:\n",
      "[1] Covariance matrix calculated using the outer product of gradients (complex-step).\n",
      "LRR test: 0.438\n"
     ]
    }
   ],
   "source": [
    "model_ar_7 = ARIMA(df.Returns, order =(7,0,0))\n",
    "results_ar_7 = model_ar_7.fit()\n",
    "print(results_ar_7.summary())\n",
    "print(\"LRR test: \"+str(LLR_test(results_ar_6, results_ar_7)))"
   ]
  },
  {
   "cell_type": "markdown",
   "id": "e325071b",
   "metadata": {},
   "source": [
    "En este caso: $AR(6)$ y $AR(7)$\n",
    "\n",
    "* El $p-valor$ del coeficiente $\\Phi _7$ es $0.226$, lo cual tendremos que $p-valor _{\\Phi _7}>0.05$, por lo cual **Aceptamos** $H_0$ y concluimos que $\\Phi _7$ es significativamente igual a $0$.\n",
    "\n",
    "* Al realizar la **Prueba de Razón Log-LikeLihood** respecto a $AR(6)$ y $AR(7)$ tenemos que $p-valor >\\alpha $, es decir $0.438>0.05$, con esto **Aceptamos** $H_0$ y tenemos que los dos modelos son significaticativamente iguales.\n",
    "\n",
    "\n",
    "Dado los anteriores puntos, nos quedamos con el modelo $AR(6)$, ya que son modelos significativamente iguales, por ende escogemos el más simple, además $\\Phi _7$ es significativamente igual a $0$\n",
    "\n",
    "<h2> AR(6) y AR(8) </h2>"
   ]
  },
  {
   "cell_type": "code",
   "execution_count": 36,
   "id": "6ad74876",
   "metadata": {},
   "outputs": [
    {
     "name": "stdout",
     "output_type": "stream",
     "text": [
      "                               SARIMAX Results                                \n",
      "==============================================================================\n",
      "Dep. Variable:                Returns   No. Observations:                 5019\n",
      "Model:                 ARIMA(8, 0, 0)   Log Likelihood               -7884.495\n",
      "Date:                Mon, 23 May 2022   AIC                          15788.990\n",
      "Time:                        18:24:43   BIC                          15854.200\n",
      "Sample:                    01-11-1994   HQIC                         15811.841\n",
      "                         - 04-05-2013                                         \n",
      "Covariance Type:                  opg                                         \n",
      "==============================================================================\n",
      "                 coef    std err          z      P>|z|      [0.025      0.975]\n",
      "------------------------------------------------------------------------------\n",
      "const          0.0190      0.015      1.270      0.204      -0.010       0.048\n",
      "ar.L1         -0.0243      0.009     -2.587      0.010      -0.043      -0.006\n",
      "ar.L2         -0.0508      0.008     -6.255      0.000      -0.067      -0.035\n",
      "ar.L3         -0.0862      0.008    -10.459      0.000      -0.102      -0.070\n",
      "ar.L4          0.0425      0.008      5.066      0.000       0.026       0.059\n",
      "ar.L5         -0.0583      0.008     -7.098      0.000      -0.074      -0.042\n",
      "ar.L6         -0.0452      0.009     -5.037      0.000      -0.063      -0.028\n",
      "ar.L7          0.0115      0.009      1.262      0.207      -0.006       0.029\n",
      "ar.L8          0.0204      0.009      2.152      0.031       0.002       0.039\n",
      "sigma2         1.3552      0.015     91.762      0.000       1.326       1.384\n",
      "===================================================================================\n",
      "Ljung-Box (L1) (Q):                   0.00   Jarque-Bera (JB):              6431.62\n",
      "Prob(Q):                              1.00   Prob(JB):                         0.00\n",
      "Heteroskedasticity (H):               2.00   Skew:                            -0.18\n",
      "Prob(H) (two-sided):                  0.00   Kurtosis:                         8.53\n",
      "===================================================================================\n",
      "\n",
      "Warnings:\n",
      "[1] Covariance matrix calculated using the outer product of gradients (complex-step).\n",
      "LRR test: 0.26\n"
     ]
    }
   ],
   "source": [
    "model_ar_8 = ARIMA(df.Returns, order =(8,0,0))\n",
    "results_ar_8 = model_ar_8.fit()\n",
    "print(results_ar_8.summary())\n",
    "print(\"LRR test: \"+str(LLR_test(results_ar_6, results_ar_8, DF=2)))"
   ]
  },
  {
   "cell_type": "markdown",
   "id": "082cec94",
   "metadata": {},
   "source": [
    "En este caso: $AR(6)$ y $AR(8)$\n",
    "\n",
    "* El $p-valor$ del coeficiente $\\Phi _8$ es $0.031$, lo cual tendremos que $p-valor _{\\Phi _7}<0.05$, por lo cual **Rechazamos** $H_0$ y concluimos que $\\Phi _8$ es significativamente diferente de $0$.\n",
    "\n",
    "* Al realizar la **Prueba de Razón Log-LikeLihood** respecto de $AR(6)$ y $AR(8)$ tenemos que $p-valor >\\alpha $, es decir $0.26>0.05$, con esto **Aceptamos** $H_0$ y tenemos que los dos modelos son significaticativamente iguales.\n",
    "\n",
    "\n",
    "Dado los anteriores puntos, nos quedamos con el modelo $AR(6)$, ya que son modelos significativamente iguales, por ende escogemos el más simple."
   ]
  },
  {
   "cell_type": "markdown",
   "id": "bd7b3a32",
   "metadata": {},
   "source": [
    "<h1> Análisis de los Residuos con respecto a los Returns del modelo AR(6) </h1>"
   ]
  },
  {
   "cell_type": "code",
   "execution_count": 37,
   "id": "f8ee48c0",
   "metadata": {},
   "outputs": [
    {
     "name": "stderr",
     "output_type": "stream",
     "text": [
      "C:\\Users\\81799\\AppData\\Local\\Temp\\ipykernel_18364\\3811982464.py:1: SettingWithCopyWarning: \n",
      "A value is trying to be set on a copy of a slice from a DataFrame.\n",
      "Try using .loc[row_indexer,col_indexer] = value instead\n",
      "\n",
      "See the caveats in the documentation: https://pandas.pydata.org/pandas-docs/stable/user_guide/indexing.html#returning-a-view-versus-a-copy\n",
      "  df[\"Residuos_price\"] = results_ar_6.resid # Extrae los residuos del modelo\n"
     ]
    }
   ],
   "source": [
    "df[\"Residuos_price\"] = results_ar_6.resid # Extrae los residuos del modelo"
   ]
  },
  {
   "cell_type": "code",
   "execution_count": 38,
   "id": "a28fd698",
   "metadata": {},
   "outputs": [
    {
     "data": {
      "text/plain": [
       "(-70.77915840668122,\n",
       " 0.0,\n",
       " 0,\n",
       " 5018,\n",
       " {'1%': -3.4316538358533277,\n",
       "  '5%': -2.8621161549128313,\n",
       "  '10%': -2.567076687880585},\n",
       " 15686.691414583955)"
      ]
     },
     "execution_count": 38,
     "metadata": {},
     "output_type": "execute_result"
    }
   ],
   "source": [
    "sts.adfuller(df.Residuos_price)"
   ]
  },
  {
   "cell_type": "markdown",
   "id": "7bcee4f7",
   "metadata": {},
   "source": [
    "Con un $p-valor<\\alpha $, es decir, $0<0.05$ tenemos que **Rechazamos $H_0$**, por lo cual concluimos que **los residuos del modelo son Estacionarios**"
   ]
  },
  {
   "cell_type": "code",
   "execution_count": 44,
   "id": "262b46d0",
   "metadata": {},
   "outputs": [
    {
     "data": {
      "image/png": "[encoded data removed]",
      "text/plain": [
       "<Figure size 432x288 with 1 Axes>"
      ]
     },
     "metadata": {
      "needs_background": "light"
     },
     "output_type": "display_data"
    }
   ],
   "source": [
    "sgt.plot_acf(df.Residuos_price, zero = False , lags =40)\n",
    "plt.title(\"ACF de Residuos del modelo AR(6)\", size = 24)\n",
    "plt.ylim(-.05,.04)\n",
    "plt.show()"
   ]
  },
  {
   "cell_type": "markdown",
   "id": "91bfd8d1",
   "metadata": {},
   "source": [
    "Observamos que la mayoria de los retraso $\\varphi $ caen dentro de la zona azul, por lo cual son significativmente iguales a $0$, es decir, que no hay autocorrelación. Sin embargo hay puntos que salen del área azul, esto sugiere que aunque el modelo $AR(6)$ es un buen modelo para predecir, lo que nos sugiere es que puede haber un mejor predictor."
   ]
  },
  {
   "cell_type": "code",
   "execution_count": 45,
   "id": "31451ae7",
   "metadata": {},
   "outputs": [
    {
     "data": {
      "image/png": "[encoded data removed]",
      "text/plain": [
       "<Figure size 1440x360 with 1 Axes>"
      ]
     },
     "metadata": {
      "needs_background": "light"
     },
     "output_type": "display_data"
    }
   ],
   "source": [
    "df.Residuos_price[1:].plot(figsize=(20,5))\n",
    "plt.title(\"Residuals of prices\", size =24)\n",
    "plt.show()"
   ]
  },
  {
   "cell_type": "markdown",
   "id": "6d3dade9",
   "metadata": {},
   "source": [
    "Observamos que la gráfica de los residuos se parecen a los de un **ruido blanco**, es decir, que no hay ningún patrón.\n",
    "\n",
    "<h1> CONCLUSIÓN </h1>\n",
    "\n",
    "\n",
    "Si se mira el modelo $AR(6)$ se observa que todos los coeficientes son significativos distintos de $0$, con excepción del coeficiente de $c$ que es significativamente igual a $0$, aún con esto, observamos que los modelos $AR(p)$ se ajustan muy bien cuando tenemos datos estacionarios. "
   ]
  }
 ],
 "metadata": {
  "kernelspec": {
   "display_name": "Python 3 (ipykernel)",
   "language": "python",
   "name": "python3"
  },
  "language_info": {
   "codemirror_mode": {
    "name": "ipython",
    "version": 3
   },
   "file_extension": ".py",
   "mimetype": "text/x-python",
   "name": "python",
   "nbconvert_exporter": "python",
   "pygments_lexer": "ipython3",
   "version": "3.9.12"
  }
 },
 "nbformat": 4,
 "nbformat_minor": 5
}
