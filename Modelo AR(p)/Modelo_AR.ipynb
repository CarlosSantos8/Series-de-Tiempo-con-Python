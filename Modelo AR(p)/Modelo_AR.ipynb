{
 "cells": [
  {
   "cell_type": "markdown",
   "id": "f527115a",
   "metadata": {},
   "source": [
    "<h1> 1. Modelos AR autorregresivos </h1>\n",
    "\n",
    "Despupes de un análisis descriptivo y exploratorio de la serie temporal, el objetivo siguiente, va a ser predecir el futuro en base a un modelo de series temporales. El procedimiento general es el siguiente:\n",
    "1. Escoger el modelo.\n",
    "2. Dividir los datos en datos de entrenamiento y datos de prueba.\n",
    "3. Ajustar el modelo  los datos de entrenamiento.\n",
    "4. Evaluar el modelo en los datos de prueba.\n",
    "5. Re-ajustar el modelo con todos los datos.\n",
    "6. Predecir los datos futuros.\n",
    "\n",
    "**¿Cómo seleccionar el modelo más apropiado?**\n",
    "\n",
    "Usualmente comenzamos con un modelo simple y luego lo expandimos siempre que se cumplan varias condiciones. Obviamente podemos complejizar el modelo introduciendo más retrasos, pero este modelo más complejo tendrá más coeficientes para estimar. Cuando hagamos esto, puede ser que el modelo no sea apropiado, por eso una de las cosas que debemos **comprobar es que los nuevos coeficientes sean significativamente diferentes de cero.**\n",
    "\n",
    "Si eso no es cierto, las estimaciones para estos parámetros son esencialmente cero. Por lo tanto, no nos ayudan a estimar valores futuros. Esto significa que no tienen poder predictivo, por lo que debemos desecharlo y volver al modelo más simple.\n",
    "\n",
    "Una vez que tengamos varios posibles modelos, debemos compaararlos entre sí. Para determinar si las predicciones de un modelo son significativamente mejores que las de otro, utilizaremos la **inferencia.** Donde tendremos una prueba estadística llamada **prueba de razón de log-verosimilitudes o log-likelihood test**. Sin embargo, la prueba solo se puede aplicar a modelos con diferentes *grados de liberad* (número de parámetros que estima).\n",
    "\n",
    "Por lo tanto, al comparar varios modelos con el mismo número total de parámetros estimados, vamos a usar los **Criterios de Información** de cada uno. Los dos criterios de información más usados son el $AIC$ y el $BIC$.\n",
    "\n",
    "1. $AIC.$ Akaike Information Criteria.\n",
    "2. $BIC.$ Bayesian Information Criteria.\n",
    "\n",
    "El mejor modelo será el que tenga menor $AIC$ o $BIC$.\n",
    "\n",
    "Además se mirará el valor de la *log-verosimilitud*  (LL: Log Likelihood) de ambos modelos en el resumen estadístico. El mejor modelo será el que tenga mayor LL.  \n",
    "\n",
    "Por otro lado, si nuestro modelo se ajusta bien, no debería haber un efecto de tendencia que no hayamos tenido en cuenta, esto se traduce en que los residuos del modelo deben parecerse al ruido blanco, por lo que podemos concluir que no hay otro patrón por ahí escondido. Esto debe comprobarse a través de la prueba *DF* de estacionariedad, que debe dar positiva a favor de los residuos siendo estacionarios. Y a travpes de la función de autocorrelación de los residuos, en la que se debería obtener que no hay correlaciones significativas.\n",
    "\n",
    "<h2> 1.1 Modelo Autorregresivo AR </h2>\n",
    "\n",
    "Los modelos autorregresivos predicen el valor de nuestra serie temporal en función de los valores pasados. Un modelo autorregresivo de orden simple, de orden uno, sólo consideraría el valor del período anterior $x_{t-1}$, y el modelo se expresaría de la siguiente manera: $$x_t=c+\\Phi _1x_{t-1}+\\varepsilon _t$$\n",
    "Donde: \n",
    "* $x_t$ es el valor de interés, del período actual, de nuestra serie de tiempo.\n",
    "* $c$ es la constante.\n",
    "* $\\Phi _1$ es el coeficiente que debemos estimar.\n",
    "* $\\varepsilon _t$ es el residuo en el período actual.\n",
    "* $x_{t-1}$ es el valor de laa serie en el período anterios.\n",
    "\n",
    "Además, $|\\Phi _1|<1$, es decir, $-1<\\Phi _1<1$\n",
    "\n",
    "\n",
    "De manera general, tendremos lo siguiente: $$x_t=c+\\Phi _1x_{t-1}+\\Phi _2x_{t-2}+\\cdots +\\Phi _p x_{t-p}  +\\varepsilon _t$$\n",
    "\n",
    "\n",
    "**OJO:** NO funcionan bien si los datos NO son estacionarios, es decir, **los datos tiene que ser estacionarios.** \n",
    "\n",
    "\n",
    "<h3>  ¿Cómo saber si debemos incluir más retraso y cuantos </h3>\n",
    "\n",
    "Sabemos que la $ACF$ captura los efectos directos e indirectos del valor anterior sobre el valor presente. Como queremos un modelo eficiente solo queremos considerar aquellos retraso que tengan un efecto DIRECTO y SIGNIFICATIVO sobre el período presente. Por lo tanto, debemos examinar la $PACF$ antes de construir un modelo con demasiados coeficientes de retraso."
   ]
  },
  {
   "cell_type": "code",
   "execution_count": 1,
   "id": "b69f6582",
   "metadata": {},
   "outputs": [],
   "source": [
    "import numpy as np\n",
    "import pandas as pd\n",
    "import matplotlib.pyplot as plt\n",
    "import statsmodels.graphics.tsaplots as sgt #Gráficas de autocorrelación \n",
    "import statsmodels.tsa.stattools as sts #Para prueba de Dickey-Fuller\n",
    "import seaborn as sns \n",
    "from statsmodels.tsa.arima.model import ARIMA\n",
    "from scipy.stats.distributions import chi2\n",
    "from datetime import datetime #Para trabajar con fechas\n",
    "import os #Para poner la dirección donde esta la base de datos.\n",
    "sns.set()"
   ]
  },
  {
   "cell_type": "code",
   "execution_count": 2,
   "id": "6a6aa983",
   "metadata": {},
   "outputs": [
    {
     "data": {
      "text/html": [
       "<div>\n",
       "<style scoped>\n",
       "    .dataframe tbody tr th:only-of-type {\n",
       "        vertical-align: middle;\n",
       "    }\n",
       "\n",
       "    .dataframe tbody tr th {\n",
       "        vertical-align: top;\n",
       "    }\n",
       "\n",
       "    .dataframe thead th {\n",
       "        text-align: right;\n",
       "    }\n",
       "</style>\n",
       "<table border=\"1\" class=\"dataframe\">\n",
       "  <thead>\n",
       "    <tr style=\"text-align: right;\">\n",
       "      <th></th>\n",
       "      <th>date</th>\n",
       "      <th>spx</th>\n",
       "      <th>dax</th>\n",
       "      <th>ftse</th>\n",
       "      <th>nikkei</th>\n",
       "    </tr>\n",
       "  </thead>\n",
       "  <tbody>\n",
       "    <tr>\n",
       "      <th>0</th>\n",
       "      <td>07/01/1994</td>\n",
       "      <td>469.900000</td>\n",
       "      <td>2224.95</td>\n",
       "      <td>3445.980000</td>\n",
       "      <td>18124.01</td>\n",
       "    </tr>\n",
       "    <tr>\n",
       "      <th>1</th>\n",
       "      <td>10/01/1994</td>\n",
       "      <td>475.270000</td>\n",
       "      <td>2225.00</td>\n",
       "      <td>3440.580000</td>\n",
       "      <td>18443.44</td>\n",
       "    </tr>\n",
       "    <tr>\n",
       "      <th>2</th>\n",
       "      <td>11/01/1994</td>\n",
       "      <td>474.130000</td>\n",
       "      <td>2228.10</td>\n",
       "      <td>3413.770000</td>\n",
       "      <td>18485.25</td>\n",
       "    </tr>\n",
       "    <tr>\n",
       "      <th>3</th>\n",
       "      <td>12/01/1994</td>\n",
       "      <td>474.170000</td>\n",
       "      <td>2182.06</td>\n",
       "      <td>3372.020000</td>\n",
       "      <td>18793.88</td>\n",
       "    </tr>\n",
       "    <tr>\n",
       "      <th>4</th>\n",
       "      <td>13/01/1994</td>\n",
       "      <td>472.470000</td>\n",
       "      <td>2142.37</td>\n",
       "      <td>3360.010000</td>\n",
       "      <td>18577.26</td>\n",
       "    </tr>\n",
       "    <tr>\n",
       "      <th>...</th>\n",
       "      <td>...</td>\n",
       "      <td>...</td>\n",
       "      <td>...</td>\n",
       "      <td>...</td>\n",
       "      <td>...</td>\n",
       "    </tr>\n",
       "    <tr>\n",
       "      <th>6264</th>\n",
       "      <td>23/01/2018</td>\n",
       "      <td>2839.130362</td>\n",
       "      <td>13559.60</td>\n",
       "      <td>7731.827774</td>\n",
       "      <td>24124.15</td>\n",
       "    </tr>\n",
       "    <tr>\n",
       "      <th>6265</th>\n",
       "      <td>24/01/2018</td>\n",
       "      <td>2837.544008</td>\n",
       "      <td>13414.74</td>\n",
       "      <td>7643.428966</td>\n",
       "      <td>23940.78</td>\n",
       "    </tr>\n",
       "    <tr>\n",
       "      <th>6266</th>\n",
       "      <td>25/01/2018</td>\n",
       "      <td>2839.253031</td>\n",
       "      <td>13298.36</td>\n",
       "      <td>7615.839954</td>\n",
       "      <td>23669.49</td>\n",
       "    </tr>\n",
       "    <tr>\n",
       "      <th>6267</th>\n",
       "      <td>26/01/2018</td>\n",
       "      <td>2872.867839</td>\n",
       "      <td>13340.17</td>\n",
       "      <td>7665.541292</td>\n",
       "      <td>23631.88</td>\n",
       "    </tr>\n",
       "    <tr>\n",
       "      <th>6268</th>\n",
       "      <td>29/01/2018</td>\n",
       "      <td>2853.528411</td>\n",
       "      <td>13324.48</td>\n",
       "      <td>7671.533300</td>\n",
       "      <td>23629.34</td>\n",
       "    </tr>\n",
       "  </tbody>\n",
       "</table>\n",
       "<p>6269 rows × 5 columns</p>\n",
       "</div>"
      ],
      "text/plain": [
       "            date          spx       dax         ftse    nikkei\n",
       "0     07/01/1994   469.900000   2224.95  3445.980000  18124.01\n",
       "1     10/01/1994   475.270000   2225.00  3440.580000  18443.44\n",
       "2     11/01/1994   474.130000   2228.10  3413.770000  18485.25\n",
       "3     12/01/1994   474.170000   2182.06  3372.020000  18793.88\n",
       "4     13/01/1994   472.470000   2142.37  3360.010000  18577.26\n",
       "...          ...          ...       ...          ...       ...\n",
       "6264  23/01/2018  2839.130362  13559.60  7731.827774  24124.15\n",
       "6265  24/01/2018  2837.544008  13414.74  7643.428966  23940.78\n",
       "6266  25/01/2018  2839.253031  13298.36  7615.839954  23669.49\n",
       "6267  26/01/2018  2872.867839  13340.17  7665.541292  23631.88\n",
       "6268  29/01/2018  2853.528411  13324.48  7671.533300  23629.34\n",
       "\n",
       "[6269 rows x 5 columns]"
      ]
     },
     "execution_count": 2,
     "metadata": {},
     "output_type": "execute_result"
    }
   ],
   "source": [
    "os.chdir(\"C:\\\\Users\\\\81799\\\\OneDrive\\\\Documentos\\\\ESFM_CLASES\\\\Servicio Social ARTF\\\\Machine Learning\\\\curso-series-temporales-master\\\\5. Modelos AR autorregresivos\\\\Python\") \n",
    "raw_csv_data = pd.read_csv(\"Index2018.csv\") #Leer DataFrame Index2018\n",
    "df_comp = raw_csv_data.copy() #Copia el DataFrame raw_csv_data con el nombre de df_comp\n",
    "raw_csv_data"
   ]
  },
  {
   "cell_type": "code",
   "execution_count": 3,
   "id": "783f3364",
   "metadata": {},
   "outputs": [
    {
     "data": {
      "text/html": [
       "<div>\n",
       "<style scoped>\n",
       "    .dataframe tbody tr th:only-of-type {\n",
       "        vertical-align: middle;\n",
       "    }\n",
       "\n",
       "    .dataframe tbody tr th {\n",
       "        vertical-align: top;\n",
       "    }\n",
       "\n",
       "    .dataframe thead th {\n",
       "        text-align: right;\n",
       "    }\n",
       "</style>\n",
       "<table border=\"1\" class=\"dataframe\">\n",
       "  <thead>\n",
       "    <tr style=\"text-align: right;\">\n",
       "      <th></th>\n",
       "      <th>date</th>\n",
       "      <th>spx</th>\n",
       "      <th>dax</th>\n",
       "      <th>ftse</th>\n",
       "      <th>nikkei</th>\n",
       "    </tr>\n",
       "  </thead>\n",
       "  <tbody>\n",
       "    <tr>\n",
       "      <th>0</th>\n",
       "      <td>1994-01-07</td>\n",
       "      <td>469.900000</td>\n",
       "      <td>2224.95</td>\n",
       "      <td>3445.980000</td>\n",
       "      <td>18124.01</td>\n",
       "    </tr>\n",
       "    <tr>\n",
       "      <th>1</th>\n",
       "      <td>1994-01-10</td>\n",
       "      <td>475.270000</td>\n",
       "      <td>2225.00</td>\n",
       "      <td>3440.580000</td>\n",
       "      <td>18443.44</td>\n",
       "    </tr>\n",
       "    <tr>\n",
       "      <th>2</th>\n",
       "      <td>1994-01-11</td>\n",
       "      <td>474.130000</td>\n",
       "      <td>2228.10</td>\n",
       "      <td>3413.770000</td>\n",
       "      <td>18485.25</td>\n",
       "    </tr>\n",
       "    <tr>\n",
       "      <th>3</th>\n",
       "      <td>1994-01-12</td>\n",
       "      <td>474.170000</td>\n",
       "      <td>2182.06</td>\n",
       "      <td>3372.020000</td>\n",
       "      <td>18793.88</td>\n",
       "    </tr>\n",
       "    <tr>\n",
       "      <th>4</th>\n",
       "      <td>1994-01-13</td>\n",
       "      <td>472.470000</td>\n",
       "      <td>2142.37</td>\n",
       "      <td>3360.010000</td>\n",
       "      <td>18577.26</td>\n",
       "    </tr>\n",
       "    <tr>\n",
       "      <th>...</th>\n",
       "      <td>...</td>\n",
       "      <td>...</td>\n",
       "      <td>...</td>\n",
       "      <td>...</td>\n",
       "      <td>...</td>\n",
       "    </tr>\n",
       "    <tr>\n",
       "      <th>6264</th>\n",
       "      <td>2018-01-23</td>\n",
       "      <td>2839.130362</td>\n",
       "      <td>13559.60</td>\n",
       "      <td>7731.827774</td>\n",
       "      <td>24124.15</td>\n",
       "    </tr>\n",
       "    <tr>\n",
       "      <th>6265</th>\n",
       "      <td>2018-01-24</td>\n",
       "      <td>2837.544008</td>\n",
       "      <td>13414.74</td>\n",
       "      <td>7643.428966</td>\n",
       "      <td>23940.78</td>\n",
       "    </tr>\n",
       "    <tr>\n",
       "      <th>6266</th>\n",
       "      <td>2018-01-25</td>\n",
       "      <td>2839.253031</td>\n",
       "      <td>13298.36</td>\n",
       "      <td>7615.839954</td>\n",
       "      <td>23669.49</td>\n",
       "    </tr>\n",
       "    <tr>\n",
       "      <th>6267</th>\n",
       "      <td>2018-01-26</td>\n",
       "      <td>2872.867839</td>\n",
       "      <td>13340.17</td>\n",
       "      <td>7665.541292</td>\n",
       "      <td>23631.88</td>\n",
       "    </tr>\n",
       "    <tr>\n",
       "      <th>6268</th>\n",
       "      <td>2018-01-29</td>\n",
       "      <td>2853.528411</td>\n",
       "      <td>13324.48</td>\n",
       "      <td>7671.533300</td>\n",
       "      <td>23629.34</td>\n",
       "    </tr>\n",
       "  </tbody>\n",
       "</table>\n",
       "<p>6269 rows × 5 columns</p>\n",
       "</div>"
      ],
      "text/plain": [
       "           date          spx       dax         ftse    nikkei\n",
       "0    1994-01-07   469.900000   2224.95  3445.980000  18124.01\n",
       "1    1994-01-10   475.270000   2225.00  3440.580000  18443.44\n",
       "2    1994-01-11   474.130000   2228.10  3413.770000  18485.25\n",
       "3    1994-01-12   474.170000   2182.06  3372.020000  18793.88\n",
       "4    1994-01-13   472.470000   2142.37  3360.010000  18577.26\n",
       "...         ...          ...       ...          ...       ...\n",
       "6264 2018-01-23  2839.130362  13559.60  7731.827774  24124.15\n",
       "6265 2018-01-24  2837.544008  13414.74  7643.428966  23940.78\n",
       "6266 2018-01-25  2839.253031  13298.36  7615.839954  23669.49\n",
       "6267 2018-01-26  2872.867839  13340.17  7665.541292  23631.88\n",
       "6268 2018-01-29  2853.528411  13324.48  7671.533300  23629.34\n",
       "\n",
       "[6269 rows x 5 columns]"
      ]
     },
     "execution_count": 3,
     "metadata": {},
     "output_type": "execute_result"
    }
   ],
   "source": [
    "df_comp.date = pd.to_datetime(df_comp.date, dayfirst =True ) #Modifica las fechas\n",
    "df_comp"
   ]
  },
  {
   "cell_type": "code",
   "execution_count": 4,
   "id": "9f4de0ee",
   "metadata": {},
   "outputs": [
    {
     "data": {
      "text/html": [
       "<div>\n",
       "<style scoped>\n",
       "    .dataframe tbody tr th:only-of-type {\n",
       "        vertical-align: middle;\n",
       "    }\n",
       "\n",
       "    .dataframe tbody tr th {\n",
       "        vertical-align: top;\n",
       "    }\n",
       "\n",
       "    .dataframe thead th {\n",
       "        text-align: right;\n",
       "    }\n",
       "</style>\n",
       "<table border=\"1\" class=\"dataframe\">\n",
       "  <thead>\n",
       "    <tr style=\"text-align: right;\">\n",
       "      <th></th>\n",
       "      <th>spx</th>\n",
       "      <th>dax</th>\n",
       "      <th>ftse</th>\n",
       "      <th>nikkei</th>\n",
       "    </tr>\n",
       "    <tr>\n",
       "      <th>date</th>\n",
       "      <th></th>\n",
       "      <th></th>\n",
       "      <th></th>\n",
       "      <th></th>\n",
       "    </tr>\n",
       "  </thead>\n",
       "  <tbody>\n",
       "    <tr>\n",
       "      <th>1994-01-07</th>\n",
       "      <td>469.900000</td>\n",
       "      <td>2224.95</td>\n",
       "      <td>3445.980000</td>\n",
       "      <td>18124.01</td>\n",
       "    </tr>\n",
       "    <tr>\n",
       "      <th>1994-01-10</th>\n",
       "      <td>475.270000</td>\n",
       "      <td>2225.00</td>\n",
       "      <td>3440.580000</td>\n",
       "      <td>18443.44</td>\n",
       "    </tr>\n",
       "    <tr>\n",
       "      <th>1994-01-11</th>\n",
       "      <td>474.130000</td>\n",
       "      <td>2228.10</td>\n",
       "      <td>3413.770000</td>\n",
       "      <td>18485.25</td>\n",
       "    </tr>\n",
       "    <tr>\n",
       "      <th>1994-01-12</th>\n",
       "      <td>474.170000</td>\n",
       "      <td>2182.06</td>\n",
       "      <td>3372.020000</td>\n",
       "      <td>18793.88</td>\n",
       "    </tr>\n",
       "    <tr>\n",
       "      <th>1994-01-13</th>\n",
       "      <td>472.470000</td>\n",
       "      <td>2142.37</td>\n",
       "      <td>3360.010000</td>\n",
       "      <td>18577.26</td>\n",
       "    </tr>\n",
       "    <tr>\n",
       "      <th>...</th>\n",
       "      <td>...</td>\n",
       "      <td>...</td>\n",
       "      <td>...</td>\n",
       "      <td>...</td>\n",
       "    </tr>\n",
       "    <tr>\n",
       "      <th>2018-01-23</th>\n",
       "      <td>2839.130362</td>\n",
       "      <td>13559.60</td>\n",
       "      <td>7731.827774</td>\n",
       "      <td>24124.15</td>\n",
       "    </tr>\n",
       "    <tr>\n",
       "      <th>2018-01-24</th>\n",
       "      <td>2837.544008</td>\n",
       "      <td>13414.74</td>\n",
       "      <td>7643.428966</td>\n",
       "      <td>23940.78</td>\n",
       "    </tr>\n",
       "    <tr>\n",
       "      <th>2018-01-25</th>\n",
       "      <td>2839.253031</td>\n",
       "      <td>13298.36</td>\n",
       "      <td>7615.839954</td>\n",
       "      <td>23669.49</td>\n",
       "    </tr>\n",
       "    <tr>\n",
       "      <th>2018-01-26</th>\n",
       "      <td>2872.867839</td>\n",
       "      <td>13340.17</td>\n",
       "      <td>7665.541292</td>\n",
       "      <td>23631.88</td>\n",
       "    </tr>\n",
       "    <tr>\n",
       "      <th>2018-01-29</th>\n",
       "      <td>2853.528411</td>\n",
       "      <td>13324.48</td>\n",
       "      <td>7671.533300</td>\n",
       "      <td>23629.34</td>\n",
       "    </tr>\n",
       "  </tbody>\n",
       "</table>\n",
       "<p>6269 rows × 4 columns</p>\n",
       "</div>"
      ],
      "text/plain": [
       "                    spx       dax         ftse    nikkei\n",
       "date                                                    \n",
       "1994-01-07   469.900000   2224.95  3445.980000  18124.01\n",
       "1994-01-10   475.270000   2225.00  3440.580000  18443.44\n",
       "1994-01-11   474.130000   2228.10  3413.770000  18485.25\n",
       "1994-01-12   474.170000   2182.06  3372.020000  18793.88\n",
       "1994-01-13   472.470000   2142.37  3360.010000  18577.26\n",
       "...                 ...       ...          ...       ...\n",
       "2018-01-23  2839.130362  13559.60  7731.827774  24124.15\n",
       "2018-01-24  2837.544008  13414.74  7643.428966  23940.78\n",
       "2018-01-25  2839.253031  13298.36  7615.839954  23669.49\n",
       "2018-01-26  2872.867839  13340.17  7665.541292  23631.88\n",
       "2018-01-29  2853.528411  13324.48  7671.533300  23629.34\n",
       "\n",
       "[6269 rows x 4 columns]"
      ]
     },
     "execution_count": 4,
     "metadata": {},
     "output_type": "execute_result"
    }
   ],
   "source": [
    "df_comp.set_index(\"date\",inplace = True) # Ponemos las fechas como índices\n",
    "df_comp"
   ]
  },
  {
   "cell_type": "code",
   "execution_count": 5,
   "id": "8ed7a11e",
   "metadata": {},
   "outputs": [
    {
     "data": {
      "text/html": [
       "<div>\n",
       "<style scoped>\n",
       "    .dataframe tbody tr th:only-of-type {\n",
       "        vertical-align: middle;\n",
       "    }\n",
       "\n",
       "    .dataframe tbody tr th {\n",
       "        vertical-align: top;\n",
       "    }\n",
       "\n",
       "    .dataframe thead th {\n",
       "        text-align: right;\n",
       "    }\n",
       "</style>\n",
       "<table border=\"1\" class=\"dataframe\">\n",
       "  <thead>\n",
       "    <tr style=\"text-align: right;\">\n",
       "      <th></th>\n",
       "      <th>spx</th>\n",
       "      <th>dax</th>\n",
       "      <th>ftse</th>\n",
       "      <th>nikkei</th>\n",
       "      <th>market_value</th>\n",
       "    </tr>\n",
       "    <tr>\n",
       "      <th>date</th>\n",
       "      <th></th>\n",
       "      <th></th>\n",
       "      <th></th>\n",
       "      <th></th>\n",
       "      <th></th>\n",
       "    </tr>\n",
       "  </thead>\n",
       "  <tbody>\n",
       "    <tr>\n",
       "      <th>1994-01-07</th>\n",
       "      <td>469.900000</td>\n",
       "      <td>2224.95</td>\n",
       "      <td>3445.980000</td>\n",
       "      <td>18124.01</td>\n",
       "      <td>3445.980000</td>\n",
       "    </tr>\n",
       "    <tr>\n",
       "      <th>1994-01-10</th>\n",
       "      <td>475.270000</td>\n",
       "      <td>2225.00</td>\n",
       "      <td>3440.580000</td>\n",
       "      <td>18443.44</td>\n",
       "      <td>3440.580000</td>\n",
       "    </tr>\n",
       "    <tr>\n",
       "      <th>1994-01-11</th>\n",
       "      <td>474.130000</td>\n",
       "      <td>2228.10</td>\n",
       "      <td>3413.770000</td>\n",
       "      <td>18485.25</td>\n",
       "      <td>3413.770000</td>\n",
       "    </tr>\n",
       "    <tr>\n",
       "      <th>1994-01-12</th>\n",
       "      <td>474.170000</td>\n",
       "      <td>2182.06</td>\n",
       "      <td>3372.020000</td>\n",
       "      <td>18793.88</td>\n",
       "      <td>3372.020000</td>\n",
       "    </tr>\n",
       "    <tr>\n",
       "      <th>1994-01-13</th>\n",
       "      <td>472.470000</td>\n",
       "      <td>2142.37</td>\n",
       "      <td>3360.010000</td>\n",
       "      <td>18577.26</td>\n",
       "      <td>3360.010000</td>\n",
       "    </tr>\n",
       "    <tr>\n",
       "      <th>...</th>\n",
       "      <td>...</td>\n",
       "      <td>...</td>\n",
       "      <td>...</td>\n",
       "      <td>...</td>\n",
       "      <td>...</td>\n",
       "    </tr>\n",
       "    <tr>\n",
       "      <th>2018-01-23</th>\n",
       "      <td>2839.130362</td>\n",
       "      <td>13559.60</td>\n",
       "      <td>7731.827774</td>\n",
       "      <td>24124.15</td>\n",
       "      <td>7731.827774</td>\n",
       "    </tr>\n",
       "    <tr>\n",
       "      <th>2018-01-24</th>\n",
       "      <td>2837.544008</td>\n",
       "      <td>13414.74</td>\n",
       "      <td>7643.428966</td>\n",
       "      <td>23940.78</td>\n",
       "      <td>7643.428966</td>\n",
       "    </tr>\n",
       "    <tr>\n",
       "      <th>2018-01-25</th>\n",
       "      <td>2839.253031</td>\n",
       "      <td>13298.36</td>\n",
       "      <td>7615.839954</td>\n",
       "      <td>23669.49</td>\n",
       "      <td>7615.839954</td>\n",
       "    </tr>\n",
       "    <tr>\n",
       "      <th>2018-01-26</th>\n",
       "      <td>2872.867839</td>\n",
       "      <td>13340.17</td>\n",
       "      <td>7665.541292</td>\n",
       "      <td>23631.88</td>\n",
       "      <td>7665.541292</td>\n",
       "    </tr>\n",
       "    <tr>\n",
       "      <th>2018-01-29</th>\n",
       "      <td>2853.528411</td>\n",
       "      <td>13324.48</td>\n",
       "      <td>7671.533300</td>\n",
       "      <td>23629.34</td>\n",
       "      <td>7671.533300</td>\n",
       "    </tr>\n",
       "  </tbody>\n",
       "</table>\n",
       "<p>6277 rows × 5 columns</p>\n",
       "</div>"
      ],
      "text/plain": [
       "                    spx       dax         ftse    nikkei  market_value\n",
       "date                                                                  \n",
       "1994-01-07   469.900000   2224.95  3445.980000  18124.01   3445.980000\n",
       "1994-01-10   475.270000   2225.00  3440.580000  18443.44   3440.580000\n",
       "1994-01-11   474.130000   2228.10  3413.770000  18485.25   3413.770000\n",
       "1994-01-12   474.170000   2182.06  3372.020000  18793.88   3372.020000\n",
       "1994-01-13   472.470000   2142.37  3360.010000  18577.26   3360.010000\n",
       "...                 ...       ...          ...       ...           ...\n",
       "2018-01-23  2839.130362  13559.60  7731.827774  24124.15   7731.827774\n",
       "2018-01-24  2837.544008  13414.74  7643.428966  23940.78   7643.428966\n",
       "2018-01-25  2839.253031  13298.36  7615.839954  23669.49   7615.839954\n",
       "2018-01-26  2872.867839  13340.17  7665.541292  23631.88   7665.541292\n",
       "2018-01-29  2853.528411  13324.48  7671.533300  23629.34   7671.533300\n",
       "\n",
       "[6277 rows x 5 columns]"
      ]
     },
     "execution_count": 5,
     "metadata": {},
     "output_type": "execute_result"
    }
   ],
   "source": [
    "df_comp=df_comp.asfreq(\"b\") #Frecuencias a días laborales.\n",
    "df_comp=df_comp.fillna(method=\"ffill\")#Arregla problema d valores faltantes tomando su diferencia\n",
    "df_comp[\"market_value\"]=df_comp.ftse #Agregamos una nueva columna llamada market_value\n",
    "#Tomando los valores de la columna ftse\n",
    "df_comp"
   ]
  },
  {
   "cell_type": "code",
   "execution_count": 6,
   "id": "56b462af",
   "metadata": {},
   "outputs": [
    {
     "data": {
      "text/html": [
       "<div>\n",
       "<style scoped>\n",
       "    .dataframe tbody tr th:only-of-type {\n",
       "        vertical-align: middle;\n",
       "    }\n",
       "\n",
       "    .dataframe tbody tr th {\n",
       "        vertical-align: top;\n",
       "    }\n",
       "\n",
       "    .dataframe thead th {\n",
       "        text-align: right;\n",
       "    }\n",
       "</style>\n",
       "<table border=\"1\" class=\"dataframe\">\n",
       "  <thead>\n",
       "    <tr style=\"text-align: right;\">\n",
       "      <th></th>\n",
       "      <th>market_value</th>\n",
       "    </tr>\n",
       "    <tr>\n",
       "      <th>date</th>\n",
       "      <th></th>\n",
       "    </tr>\n",
       "  </thead>\n",
       "  <tbody>\n",
       "    <tr>\n",
       "      <th>1994-01-07</th>\n",
       "      <td>3445.980000</td>\n",
       "    </tr>\n",
       "    <tr>\n",
       "      <th>1994-01-10</th>\n",
       "      <td>3440.580000</td>\n",
       "    </tr>\n",
       "    <tr>\n",
       "      <th>1994-01-11</th>\n",
       "      <td>3413.770000</td>\n",
       "    </tr>\n",
       "    <tr>\n",
       "      <th>1994-01-12</th>\n",
       "      <td>3372.020000</td>\n",
       "    </tr>\n",
       "    <tr>\n",
       "      <th>1994-01-13</th>\n",
       "      <td>3360.010000</td>\n",
       "    </tr>\n",
       "    <tr>\n",
       "      <th>...</th>\n",
       "      <td>...</td>\n",
       "    </tr>\n",
       "    <tr>\n",
       "      <th>2018-01-23</th>\n",
       "      <td>7731.827774</td>\n",
       "    </tr>\n",
       "    <tr>\n",
       "      <th>2018-01-24</th>\n",
       "      <td>7643.428966</td>\n",
       "    </tr>\n",
       "    <tr>\n",
       "      <th>2018-01-25</th>\n",
       "      <td>7615.839954</td>\n",
       "    </tr>\n",
       "    <tr>\n",
       "      <th>2018-01-26</th>\n",
       "      <td>7665.541292</td>\n",
       "    </tr>\n",
       "    <tr>\n",
       "      <th>2018-01-29</th>\n",
       "      <td>7671.533300</td>\n",
       "    </tr>\n",
       "  </tbody>\n",
       "</table>\n",
       "<p>6277 rows × 1 columns</p>\n",
       "</div>"
      ],
      "text/plain": [
       "            market_value\n",
       "date                    \n",
       "1994-01-07   3445.980000\n",
       "1994-01-10   3440.580000\n",
       "1994-01-11   3413.770000\n",
       "1994-01-12   3372.020000\n",
       "1994-01-13   3360.010000\n",
       "...                  ...\n",
       "2018-01-23   7731.827774\n",
       "2018-01-24   7643.428966\n",
       "2018-01-25   7615.839954\n",
       "2018-01-26   7665.541292\n",
       "2018-01-29   7671.533300\n",
       "\n",
       "[6277 rows x 1 columns]"
      ]
     },
     "execution_count": 6,
     "metadata": {},
     "output_type": "execute_result"
    }
   ],
   "source": [
    "del df_comp[\"spx\"] #Eliminamos la columna spx del DataFrame de_comp\n",
    "del df_comp[\"dax\"] #Eliminamos la columna dax del DataFrame de_comp\n",
    "del df_comp[\"ftse\"] #Eliminamos la columna ftse del DataFrame de_comp\n",
    "del df_comp[\"nikkei\"] #Eliminamos la columna nikkei del DataFrame de_comp\n",
    "df_comp"
   ]
  },
  {
   "cell_type": "code",
   "execution_count": 7,
   "id": "bd2b5732",
   "metadata": {},
   "outputs": [],
   "source": [
    "size=int(len(df_comp)*0.8) #int (no. de filas*0.8)= int(6277*0.8)= int(5021.6)=5021\n",
    "df, df_test = df_comp.iloc[:size], df_comp.iloc[size:]"
   ]
  },
  {
   "cell_type": "markdown",
   "id": "8a75a275",
   "metadata": {},
   "source": [
    "<h2> ACF </h2>"
   ]
  },
  {
   "cell_type": "code",
   "execution_count": 8,
   "id": "ed3cfba6",
   "metadata": {},
   "outputs": [
    {
     "data": {
      "image/png": "[encoded data removed]",
      "text/plain": [
       "<Figure size 432x288 with 1 Axes>"
      ]
     },
     "metadata": {
      "needs_background": "light"
     },
     "output_type": "display_data"
    }
   ],
   "source": [
    "sgt.plot_acf(df.market_value, zero = False, lags = 40)\n",
    "plt.title(\"ACF for prices\", size = 20)\n",
    "plt.show()"
   ]
  },
  {
   "cell_type": "markdown",
   "id": "e2b45eb3",
   "metadata": {},
   "source": [
    "De la gráfica de $ACF$, observamos que:\n",
    "* Todos los $40$ coeficientes de autocorrelación ($\\varphi _1, \\ldots , \\varphi _{40}$) son significativos y además disminuyen lentamente.\n",
    "* Todos son positivos\n",
    "\n",
    "Como sabemos que la $ACF$ captura los efectos directos e indirectos en ambos del valor anterior sobre el valor presente y nosotros queremos un modelo eficiente, es decir, solo queremos considerar aquellos retrasos que tenga un **efecto directo y significativo** sobre el período presente. Por lo tanto, debemos examinar la función de autocorrelación parcial $PACF$ .\n",
    "\n",
    "<h2> PACF </h2>"
   ]
  },
  {
   "cell_type": "code",
   "execution_count": 9,
   "id": "b50d165b",
   "metadata": {},
   "outputs": [
    {
     "data": {
      "image/png": "[encoded data removed]",
      "text/plain": [
       "<Figure size 432x288 with 1 Axes>"
      ]
     },
     "metadata": {
      "needs_background": "light"
     },
     "output_type": "display_data"
    }
   ],
   "source": [
    "sgt.plot_pacf(df.market_value, zero = False, lags = 40, alpha =0.05, method = (\"ols\"))\n",
    "plt.title(\"PACF for prices\", size = 20)\n",
    "plt.ylim(-1,1)\n",
    "plt.show()"
   ]
  },
  {
   "cell_type": "markdown",
   "id": "72133d4c",
   "metadata": {},
   "source": [
    "Con la gráfica de autocorrelación parcial podemos observar lo siguiente:\n",
    "\n",
    "* Los coeficientes $\\varphi $ son de diferentes tamaños.\n",
    "* Hay coefientes $\\varphi $ negativos y positivos. \n",
    "* Hay coeficientes $\\varphi $ que son la mayoría que son NO significativos.\n",
    "* Este gráfico es muy diferente con respecto al $ACF$.\n",
    "* Después del retraso $22$ son negativos a primera vista esto parece algo extraño, pero conociendo los detalles de nuestros datos podemos encontrar una justificación razonable. Dado que la frecuencia de los datos son días hábiles y aproximadamente hay $22$ días háblies en un mes, podemos anticipar algunos cambios cíclicos cada mes.  \n",
    "\n",
    "* El $\\varphi _1$ tiene mucho más impacto, entonces estamos seguros de que el valor de nuestro primer retraso es muy significativo por lo que debemos incluir en nuestro modelo. Así que veremos que pasa con el modelo $AR(1)$\n",
    "\n",
    "\n",
    "**AR(1)**"
   ]
  },
  {
   "cell_type": "code",
   "execution_count": 10,
   "id": "93783068",
   "metadata": {},
   "outputs": [
    {
     "data": {
      "text/html": [
       "<table class=\"simpletable\">\n",
       "<caption>SARIMAX Results</caption>\n",
       "<tr>\n",
       "  <th>Dep. Variable:</th>     <td>market_value</td>   <th>  No. Observations:  </th>    <td>5021</td>   \n",
       "</tr>\n",
       "<tr>\n",
       "  <th>Model:</th>            <td>ARIMA(1, 0, 0)</td>  <th>  Log Likelihood     </th> <td>-27622.604</td>\n",
       "</tr>\n",
       "<tr>\n",
       "  <th>Date:</th>            <td>Mon, 23 May 2022</td> <th>  AIC                </th>  <td>55251.207</td>\n",
       "</tr>\n",
       "<tr>\n",
       "  <th>Time:</th>                <td>17:42:15</td>     <th>  BIC                </th>  <td>55270.772</td>\n",
       "</tr>\n",
       "<tr>\n",
       "  <th>Sample:</th>             <td>01-07-1994</td>    <th>  HQIC               </th>  <td>55258.063</td>\n",
       "</tr>\n",
       "<tr>\n",
       "  <th></th>                   <td>- 04-05-2013</td>   <th>                     </th>      <td> </td>    \n",
       "</tr>\n",
       "<tr>\n",
       "  <th>Covariance Type:</th>        <td>opg</td>       <th>                     </th>      <td> </td>    \n",
       "</tr>\n",
       "</table>\n",
       "<table class=\"simpletable\">\n",
       "<tr>\n",
       "     <td></td>       <th>coef</th>     <th>std err</th>      <th>z</th>      <th>P>|z|</th>  <th>[0.025</th>    <th>0.975]</th>  \n",
       "</tr>\n",
       "<tr>\n",
       "  <th>const</th>  <td> 5089.6375</td> <td>  423.328</td> <td>   12.023</td> <td> 0.000</td> <td> 4259.930</td> <td> 5919.345</td>\n",
       "</tr>\n",
       "<tr>\n",
       "  <th>ar.L1</th>  <td>    0.9984</td> <td>    0.001</td> <td> 1147.579</td> <td> 0.000</td> <td>    0.997</td> <td>    1.000</td>\n",
       "</tr>\n",
       "<tr>\n",
       "  <th>sigma2</th> <td> 3511.3843</td> <td>   40.874</td> <td>   85.907</td> <td> 0.000</td> <td> 3431.272</td> <td> 3591.496</td>\n",
       "</tr>\n",
       "</table>\n",
       "<table class=\"simpletable\">\n",
       "<tr>\n",
       "  <th>Ljung-Box (L1) (Q):</th>     <td>1.51</td> <th>  Jarque-Bera (JB):  </th> <td>3313.33</td>\n",
       "</tr>\n",
       "<tr>\n",
       "  <th>Prob(Q):</th>                <td>0.22</td> <th>  Prob(JB):          </th>  <td>0.00</td>  \n",
       "</tr>\n",
       "<tr>\n",
       "  <th>Heteroskedasticity (H):</th> <td>1.90</td> <th>  Skew:              </th>  <td>-0.18</td> \n",
       "</tr>\n",
       "<tr>\n",
       "  <th>Prob(H) (two-sided):</th>    <td>0.00</td> <th>  Kurtosis:          </th>  <td>6.96</td>  \n",
       "</tr>\n",
       "</table><br/><br/>Warnings:<br/>[1] Covariance matrix calculated using the outer product of gradients (complex-step)."
      ],
      "text/plain": [
       "<class 'statsmodels.iolib.summary.Summary'>\n",
       "\"\"\"\n",
       "                               SARIMAX Results                                \n",
       "==============================================================================\n",
       "Dep. Variable:           market_value   No. Observations:                 5021\n",
       "Model:                 ARIMA(1, 0, 0)   Log Likelihood              -27622.604\n",
       "Date:                Mon, 23 May 2022   AIC                          55251.207\n",
       "Time:                        17:42:15   BIC                          55270.772\n",
       "Sample:                    01-07-1994   HQIC                         55258.063\n",
       "                         - 04-05-2013                                         \n",
       "Covariance Type:                  opg                                         \n",
       "==============================================================================\n",
       "                 coef    std err          z      P>|z|      [0.025      0.975]\n",
       "------------------------------------------------------------------------------\n",
       "const       5089.6375    423.328     12.023      0.000    4259.930    5919.345\n",
       "ar.L1          0.9984      0.001   1147.579      0.000       0.997       1.000\n",
       "sigma2      3511.3843     40.874     85.907      0.000    3431.272    3591.496\n",
       "===================================================================================\n",
       "Ljung-Box (L1) (Q):                   1.51   Jarque-Bera (JB):              3313.33\n",
       "Prob(Q):                              0.22   Prob(JB):                         0.00\n",
       "Heteroskedasticity (H):               1.90   Skew:                            -0.18\n",
       "Prob(H) (two-sided):                  0.00   Kurtosis:                         6.96\n",
       "===================================================================================\n",
       "\n",
       "Warnings:\n",
       "[1] Covariance matrix calculated using the outer product of gradients (complex-step).\n",
       "\"\"\""
      ]
     },
     "execution_count": 10,
     "metadata": {},
     "output_type": "execute_result"
    }
   ],
   "source": [
    "model_ar_1 = ARIMA(df.market_value, order=(1,0,0)) \n",
    "results_ar_1 = model_ar_1.fit() #Guardamos en results para ver como se ajustan\n",
    "#los datos (fit() es para ajustarlo)\n",
    "results_ar_1.summary()"
   ]
  },
  {
   "cell_type": "markdown",
   "id": "bcf0b9cd",
   "metadata": {},
   "source": [
    "**Prueba de hipótesis para la significación de los parámetros** \n",
    "* $H_0$: El coeficiente $\\Phi _k$ es significativamente igual a $0$.\n",
    "* $H_a$: El coeficiente $\\Phi _k$ es significativamente distinto de $0$\n",
    "\n",
    "Dado lo anterior, vemos que el $p-valor$ de $c$ y $\\Phi _1$ es igual a $0.000$, con esto tenemos que, en los dos caso $p-valor<\\alpha $, es decir, $p-valor<0.05$ así que  en ambos **rechazamos $H_0$**. \n",
    "\n",
    "Ojo: También se puede ver lo anterior si en el intervalo de confianza contiene al $0$, si $[a<0<b]$ entonces el coefiente es significativamente igual a $0$, sino entonces es significativamente distinto de $0$\n",
    "\n",
    "Ejemplo: Para el coeficiente $c$, tenemos que el intervalo de confianza está dado por $[4269.93, 5919.345]$, el cual no contiene al $0$ por tal motivo el coeficiente de $c$ es significativamente distinto de $0$\n",
    "\n",
    "Concluimos que los coeficientes $c$ y $\\Phi _1$ son significativamentes distinto de $0$."
   ]
  },
  {
   "cell_type": "markdown",
   "id": "b95b2b7d",
   "metadata": {},
   "source": [
    "<h2> Ajustar un modelo autorregresivo </h2> \n",
    "\n",
    "En este caso usaremos la **Prueba de Razón de Verosimilitud** para ver si un modelo más complejo nos da mejores predicciones o no.\n",
    "\n",
    "\n",
    "**AR(2)**"
   ]
  },
  {
   "cell_type": "code",
   "execution_count": 11,
   "id": "f9bd925f",
   "metadata": {},
   "outputs": [
    {
     "data": {
      "text/html": [
       "<table class=\"simpletable\">\n",
       "<caption>SARIMAX Results</caption>\n",
       "<tr>\n",
       "  <th>Dep. Variable:</th>     <td>market_value</td>   <th>  No. Observations:  </th>    <td>5021</td>   \n",
       "</tr>\n",
       "<tr>\n",
       "  <th>Model:</th>            <td>ARIMA(2, 0, 0)</td>  <th>  Log Likelihood     </th> <td>-27621.949</td>\n",
       "</tr>\n",
       "<tr>\n",
       "  <th>Date:</th>            <td>Mon, 23 May 2022</td> <th>  AIC                </th>  <td>55251.898</td>\n",
       "</tr>\n",
       "<tr>\n",
       "  <th>Time:</th>                <td>17:42:19</td>     <th>  BIC                </th>  <td>55277.984</td>\n",
       "</tr>\n",
       "<tr>\n",
       "  <th>Sample:</th>             <td>01-07-1994</td>    <th>  HQIC               </th>  <td>55261.039</td>\n",
       "</tr>\n",
       "<tr>\n",
       "  <th></th>                   <td>- 04-05-2013</td>   <th>                     </th>      <td> </td>    \n",
       "</tr>\n",
       "<tr>\n",
       "  <th>Covariance Type:</th>        <td>opg</td>       <th>                     </th>      <td> </td>    \n",
       "</tr>\n",
       "</table>\n",
       "<table class=\"simpletable\">\n",
       "<tr>\n",
       "     <td></td>       <th>coef</th>     <th>std err</th>      <th>z</th>      <th>P>|z|</th>  <th>[0.025</th>    <th>0.975]</th>  \n",
       "</tr>\n",
       "<tr>\n",
       "  <th>const</th>  <td> 5089.6409</td> <td>  368.251</td> <td>   13.821</td> <td> 0.000</td> <td> 4367.881</td> <td> 5811.400</td>\n",
       "</tr>\n",
       "<tr>\n",
       "  <th>ar.L1</th>  <td>    0.9811</td> <td>    0.010</td> <td>   99.868</td> <td> 0.000</td> <td>    0.962</td> <td>    1.000</td>\n",
       "</tr>\n",
       "<tr>\n",
       "  <th>ar.L2</th>  <td>    0.0171</td> <td>    0.010</td> <td>    1.749</td> <td> 0.080</td> <td>   -0.002</td> <td>    0.036</td>\n",
       "</tr>\n",
       "<tr>\n",
       "  <th>sigma2</th> <td> 3510.1277</td> <td>   41.037</td> <td>   85.535</td> <td> 0.000</td> <td> 3429.696</td> <td> 3590.560</td>\n",
       "</tr>\n",
       "</table>\n",
       "<table class=\"simpletable\">\n",
       "<tr>\n",
       "  <th>Ljung-Box (L1) (Q):</th>     <td>0.00</td> <th>  Jarque-Bera (JB):  </th> <td>3282.81</td>\n",
       "</tr>\n",
       "<tr>\n",
       "  <th>Prob(Q):</th>                <td>0.95</td> <th>  Prob(JB):          </th>  <td>0.00</td>  \n",
       "</tr>\n",
       "<tr>\n",
       "  <th>Heteroskedasticity (H):</th> <td>1.89</td> <th>  Skew:              </th>  <td>-0.19</td> \n",
       "</tr>\n",
       "<tr>\n",
       "  <th>Prob(H) (two-sided):</th>    <td>0.00</td> <th>  Kurtosis:          </th>  <td>6.94</td>  \n",
       "</tr>\n",
       "</table><br/><br/>Warnings:<br/>[1] Covariance matrix calculated using the outer product of gradients (complex-step)."
      ],
      "text/plain": [
       "<class 'statsmodels.iolib.summary.Summary'>\n",
       "\"\"\"\n",
       "                               SARIMAX Results                                \n",
       "==============================================================================\n",
       "Dep. Variable:           market_value   No. Observations:                 5021\n",
       "Model:                 ARIMA(2, 0, 0)   Log Likelihood              -27621.949\n",
       "Date:                Mon, 23 May 2022   AIC                          55251.898\n",
       "Time:                        17:42:19   BIC                          55277.984\n",
       "Sample:                    01-07-1994   HQIC                         55261.039\n",
       "                         - 04-05-2013                                         \n",
       "Covariance Type:                  opg                                         \n",
       "==============================================================================\n",
       "                 coef    std err          z      P>|z|      [0.025      0.975]\n",
       "------------------------------------------------------------------------------\n",
       "const       5089.6409    368.251     13.821      0.000    4367.881    5811.400\n",
       "ar.L1          0.9811      0.010     99.868      0.000       0.962       1.000\n",
       "ar.L2          0.0171      0.010      1.749      0.080      -0.002       0.036\n",
       "sigma2      3510.1277     41.037     85.535      0.000    3429.696    3590.560\n",
       "===================================================================================\n",
       "Ljung-Box (L1) (Q):                   0.00   Jarque-Bera (JB):              3282.81\n",
       "Prob(Q):                              0.95   Prob(JB):                         0.00\n",
       "Heteroskedasticity (H):               1.89   Skew:                            -0.19\n",
       "Prob(H) (two-sided):                  0.00   Kurtosis:                         6.94\n",
       "===================================================================================\n",
       "\n",
       "Warnings:\n",
       "[1] Covariance matrix calculated using the outer product of gradients (complex-step).\n",
       "\"\"\""
      ]
     },
     "execution_count": 11,
     "metadata": {},
     "output_type": "execute_result"
    }
   ],
   "source": [
    "model_ar_2 = ARIMA(df.market_value, order=(2,0,0)) \n",
    "results_ar_2 = model_ar_2.fit() \n",
    "results_ar_2.summary()"
   ]
  },
  {
   "cell_type": "markdown",
   "id": "f1685f9d",
   "metadata": {},
   "source": [
    "Tenemos que los $p-valores$ tanto de $c$ y $\\Phi $ son $0.000$, por lo tanto son **Significativos distintos de $0$**, sin embargo el coeficiente de $\\Phi $ tiene un $p-valor=0.080>0.05$, por lo cual este coefiente es **significativamente igual a $0$**\n",
    "\n",
    "Esto lo que quiere decir que el precio de hace $2$ días no afecta severamente a los precios de hoy, una posible explicación podría ser que todos los efectos están capturados en el precio de ayer, por lo tanto agregar información adicional no proporciona un valor significativo.\n",
    "\n",
    "**AR(3)**"
   ]
  },
  {
   "cell_type": "code",
   "execution_count": 12,
   "id": "12de6492",
   "metadata": {},
   "outputs": [
    {
     "data": {
      "text/html": [
       "<table class=\"simpletable\">\n",
       "<caption>SARIMAX Results</caption>\n",
       "<tr>\n",
       "  <th>Dep. Variable:</th>     <td>market_value</td>   <th>  No. Observations:  </th>    <td>5021</td>   \n",
       "</tr>\n",
       "<tr>\n",
       "  <th>Model:</th>            <td>ARIMA(3, 0, 0)</td>  <th>  Log Likelihood     </th> <td>-27615.962</td>\n",
       "</tr>\n",
       "<tr>\n",
       "  <th>Date:</th>            <td>Mon, 23 May 2022</td> <th>  AIC                </th>  <td>55241.925</td>\n",
       "</tr>\n",
       "<tr>\n",
       "  <th>Time:</th>                <td>17:42:25</td>     <th>  BIC                </th>  <td>55274.532</td>\n",
       "</tr>\n",
       "<tr>\n",
       "  <th>Sample:</th>             <td>01-07-1994</td>    <th>  HQIC               </th>  <td>55253.351</td>\n",
       "</tr>\n",
       "<tr>\n",
       "  <th></th>                   <td>- 04-05-2013</td>   <th>                     </th>      <td> </td>    \n",
       "</tr>\n",
       "<tr>\n",
       "  <th>Covariance Type:</th>        <td>opg</td>       <th>                     </th>      <td> </td>    \n",
       "</tr>\n",
       "</table>\n",
       "<table class=\"simpletable\">\n",
       "<tr>\n",
       "     <td></td>       <th>coef</th>     <th>std err</th>      <th>z</th>      <th>P>|z|</th>  <th>[0.025</th>    <th>0.975]</th>  \n",
       "</tr>\n",
       "<tr>\n",
       "  <th>const</th>  <td> 5089.6409</td> <td>  378.583</td> <td>   13.444</td> <td> 0.000</td> <td> 4347.631</td> <td> 5831.651</td>\n",
       "</tr>\n",
       "<tr>\n",
       "  <th>ar.L1</th>  <td>    0.9802</td> <td>    0.010</td> <td>   99.076</td> <td> 0.000</td> <td>    0.961</td> <td>    1.000</td>\n",
       "</tr>\n",
       "<tr>\n",
       "  <th>ar.L2</th>  <td>   -0.0309</td> <td>    0.013</td> <td>   -2.315</td> <td> 0.021</td> <td>   -0.057</td> <td>   -0.005</td>\n",
       "</tr>\n",
       "<tr>\n",
       "  <th>ar.L3</th>  <td>    0.0489</td> <td>    0.009</td> <td>    5.383</td> <td> 0.000</td> <td>    0.031</td> <td>    0.067</td>\n",
       "</tr>\n",
       "<tr>\n",
       "  <th>sigma2</th> <td> 3502.2643</td> <td>   41.020</td> <td>   85.379</td> <td> 0.000</td> <td> 3421.866</td> <td> 3582.662</td>\n",
       "</tr>\n",
       "</table>\n",
       "<table class=\"simpletable\">\n",
       "<tr>\n",
       "  <th>Ljung-Box (L1) (Q):</th>     <td>0.06</td> <th>  Jarque-Bera (JB):  </th> <td>3286.97</td>\n",
       "</tr>\n",
       "<tr>\n",
       "  <th>Prob(Q):</th>                <td>0.80</td> <th>  Prob(JB):          </th>  <td>0.00</td>  \n",
       "</tr>\n",
       "<tr>\n",
       "  <th>Heteroskedasticity (H):</th> <td>1.90</td> <th>  Skew:              </th>  <td>-0.22</td> \n",
       "</tr>\n",
       "<tr>\n",
       "  <th>Prob(H) (two-sided):</th>    <td>0.00</td> <th>  Kurtosis:          </th>  <td>6.94</td>  \n",
       "</tr>\n",
       "</table><br/><br/>Warnings:<br/>[1] Covariance matrix calculated using the outer product of gradients (complex-step)."
      ],
      "text/plain": [
       "<class 'statsmodels.iolib.summary.Summary'>\n",
       "\"\"\"\n",
       "                               SARIMAX Results                                \n",
       "==============================================================================\n",
       "Dep. Variable:           market_value   No. Observations:                 5021\n",
       "Model:                 ARIMA(3, 0, 0)   Log Likelihood              -27615.962\n",
       "Date:                Mon, 23 May 2022   AIC                          55241.925\n",
       "Time:                        17:42:25   BIC                          55274.532\n",
       "Sample:                    01-07-1994   HQIC                         55253.351\n",
       "                         - 04-05-2013                                         \n",
       "Covariance Type:                  opg                                         \n",
       "==============================================================================\n",
       "                 coef    std err          z      P>|z|      [0.025      0.975]\n",
       "------------------------------------------------------------------------------\n",
       "const       5089.6409    378.583     13.444      0.000    4347.631    5831.651\n",
       "ar.L1          0.9802      0.010     99.076      0.000       0.961       1.000\n",
       "ar.L2         -0.0309      0.013     -2.315      0.021      -0.057      -0.005\n",
       "ar.L3          0.0489      0.009      5.383      0.000       0.031       0.067\n",
       "sigma2      3502.2643     41.020     85.379      0.000    3421.866    3582.662\n",
       "===================================================================================\n",
       "Ljung-Box (L1) (Q):                   0.06   Jarque-Bera (JB):              3286.97\n",
       "Prob(Q):                              0.80   Prob(JB):                         0.00\n",
       "Heteroskedasticity (H):               1.90   Skew:                            -0.22\n",
       "Prob(H) (two-sided):                  0.00   Kurtosis:                         6.94\n",
       "===================================================================================\n",
       "\n",
       "Warnings:\n",
       "[1] Covariance matrix calculated using the outer product of gradients (complex-step).\n",
       "\"\"\""
      ]
     },
     "execution_count": 12,
     "metadata": {},
     "output_type": "execute_result"
    }
   ],
   "source": [
    "model_ar_3 = ARIMA(df.market_value, order=(3,0,0)) \n",
    "results_ar_3 = model_ar_3.fit() \n",
    "results_ar_3.summary()"
   ]
  },
  {
   "cell_type": "markdown",
   "id": "deb983cf",
   "metadata": {},
   "source": [
    "**AR(4)**"
   ]
  },
  {
   "cell_type": "code",
   "execution_count": 13,
   "id": "0aa2ef07",
   "metadata": {},
   "outputs": [
    {
     "data": {
      "text/html": [
       "<table class=\"simpletable\">\n",
       "<caption>SARIMAX Results</caption>\n",
       "<tr>\n",
       "  <th>Dep. Variable:</th>     <td>market_value</td>   <th>  No. Observations:  </th>    <td>5021</td>   \n",
       "</tr>\n",
       "<tr>\n",
       "  <th>Model:</th>            <td>ARIMA(4, 0, 0)</td>  <th>  Log Likelihood     </th> <td>-27602.680</td>\n",
       "</tr>\n",
       "<tr>\n",
       "  <th>Date:</th>            <td>Mon, 23 May 2022</td> <th>  AIC                </th>  <td>55217.359</td>\n",
       "</tr>\n",
       "<tr>\n",
       "  <th>Time:</th>                <td>17:42:32</td>     <th>  BIC                </th>  <td>55256.488</td>\n",
       "</tr>\n",
       "<tr>\n",
       "  <th>Sample:</th>             <td>01-07-1994</td>    <th>  HQIC               </th>  <td>55231.070</td>\n",
       "</tr>\n",
       "<tr>\n",
       "  <th></th>                   <td>- 04-05-2013</td>   <th>                     </th>      <td> </td>    \n",
       "</tr>\n",
       "<tr>\n",
       "  <th>Covariance Type:</th>        <td>opg</td>       <th>                     </th>      <td> </td>    \n",
       "</tr>\n",
       "</table>\n",
       "<table class=\"simpletable\">\n",
       "<tr>\n",
       "     <td></td>       <th>coef</th>     <th>std err</th>      <th>z</th>      <th>P>|z|</th>  <th>[0.025</th>    <th>0.975]</th>  \n",
       "</tr>\n",
       "<tr>\n",
       "  <th>const</th>  <td> 5089.6409</td> <td>  391.959</td> <td>   12.985</td> <td> 0.000</td> <td> 4321.414</td> <td> 5857.867</td>\n",
       "</tr>\n",
       "<tr>\n",
       "  <th>ar.L1</th>  <td>    0.9767</td> <td>    0.010</td> <td>   97.788</td> <td> 0.000</td> <td>    0.957</td> <td>    0.996</td>\n",
       "</tr>\n",
       "<tr>\n",
       "  <th>ar.L2</th>  <td>   -0.0287</td> <td>    0.013</td> <td>   -2.129</td> <td> 0.033</td> <td>   -0.055</td> <td>   -0.002</td>\n",
       "</tr>\n",
       "<tr>\n",
       "  <th>ar.L3</th>  <td>   -0.0224</td> <td>    0.013</td> <td>   -1.784</td> <td> 0.074</td> <td>   -0.047</td> <td>    0.002</td>\n",
       "</tr>\n",
       "<tr>\n",
       "  <th>ar.L4</th>  <td>    0.0728</td> <td>    0.009</td> <td>    8.033</td> <td> 0.000</td> <td>    0.055</td> <td>    0.091</td>\n",
       "</tr>\n",
       "<tr>\n",
       "  <th>sigma2</th> <td> 3484.0262</td> <td>   41.922</td> <td>   83.108</td> <td> 0.000</td> <td> 3401.861</td> <td> 3566.191</td>\n",
       "</tr>\n",
       "</table>\n",
       "<table class=\"simpletable\">\n",
       "<tr>\n",
       "  <th>Ljung-Box (L1) (Q):</th>     <td>0.02</td> <th>  Jarque-Bera (JB):  </th> <td>3044.18</td>\n",
       "</tr>\n",
       "<tr>\n",
       "  <th>Prob(Q):</th>                <td>0.88</td> <th>  Prob(JB):          </th>  <td>0.00</td>  \n",
       "</tr>\n",
       "<tr>\n",
       "  <th>Heteroskedasticity (H):</th> <td>1.90</td> <th>  Skew:              </th>  <td>-0.28</td> \n",
       "</tr>\n",
       "<tr>\n",
       "  <th>Prob(H) (two-sided):</th>    <td>0.00</td> <th>  Kurtosis:          </th>  <td>6.77</td>  \n",
       "</tr>\n",
       "</table><br/><br/>Warnings:<br/>[1] Covariance matrix calculated using the outer product of gradients (complex-step)."
      ],
      "text/plain": [
       "<class 'statsmodels.iolib.summary.Summary'>\n",
       "\"\"\"\n",
       "                               SARIMAX Results                                \n",
       "==============================================================================\n",
       "Dep. Variable:           market_value   No. Observations:                 5021\n",
       "Model:                 ARIMA(4, 0, 0)   Log Likelihood              -27602.680\n",
       "Date:                Mon, 23 May 2022   AIC                          55217.359\n",
       "Time:                        17:42:32   BIC                          55256.488\n",
       "Sample:                    01-07-1994   HQIC                         55231.070\n",
       "                         - 04-05-2013                                         \n",
       "Covariance Type:                  opg                                         \n",
       "==============================================================================\n",
       "                 coef    std err          z      P>|z|      [0.025      0.975]\n",
       "------------------------------------------------------------------------------\n",
       "const       5089.6409    391.959     12.985      0.000    4321.414    5857.867\n",
       "ar.L1          0.9767      0.010     97.788      0.000       0.957       0.996\n",
       "ar.L2         -0.0287      0.013     -2.129      0.033      -0.055      -0.002\n",
       "ar.L3         -0.0224      0.013     -1.784      0.074      -0.047       0.002\n",
       "ar.L4          0.0728      0.009      8.033      0.000       0.055       0.091\n",
       "sigma2      3484.0262     41.922     83.108      0.000    3401.861    3566.191\n",
       "===================================================================================\n",
       "Ljung-Box (L1) (Q):                   0.02   Jarque-Bera (JB):              3044.18\n",
       "Prob(Q):                              0.88   Prob(JB):                         0.00\n",
       "Heteroskedasticity (H):               1.90   Skew:                            -0.28\n",
       "Prob(H) (two-sided):                  0.00   Kurtosis:                         6.77\n",
       "===================================================================================\n",
       "\n",
       "Warnings:\n",
       "[1] Covariance matrix calculated using the outer product of gradients (complex-step).\n",
       "\"\"\""
      ]
     },
     "execution_count": 13,
     "metadata": {},
     "output_type": "execute_result"
    }
   ],
   "source": [
    "model_ar_4 = ARIMA(df.market_value, order=(4,0,0)) \n",
    "results_ar_4 = model_ar_4.fit() \n",
    "results_ar_4.summary()"
   ]
  },
  {
   "cell_type": "markdown",
   "id": "2653cea4",
   "metadata": {},
   "source": [
    "De lo anterior podemos observar que: \n",
    "* Mientras más compejidad le vamos añadiendo al modelo, más aumenta el logaritmo de la verosimilitud **(Log Likelihood)**.\n",
    "* Aunque tengamos coefientes negativos, si su intervalo de confianza contiene al $0$ podemos suponer que el coefiente es igual a $0$.\n",
    "* Como regla general, vamos a preferir modelos con una mayor probabilidad del logaritmo de la verosimilitud.\n",
    "* Observamos que los criterios de información $AIC$ y $BIC$, van disminuyendo. Como regla general también vamos a preferir valores más bajos de estos dos criterios.\n",
    "\n",
    "Usando el contraste de **prueba de razón de log-verosimilitudes o log-likelihood test** para determinar si los dos modelos son significativamente diferentes, es decir, esto es como un contraste aparte que se hace entre $2$ modelos. Esto es para saber cual de los dos modelos es mejor:"
   ]
  },
  {
   "cell_type": "markdown",
   "id": "2055d958",
   "metadata": {},
   "source": [
    "<h2> Prueba de razón Log-LikeLihood  </h2>\n",
    "\n",
    "\n",
    "\n",
    "* $H_0:$ Los dos modelos son significativamente **iguales.**\n",
    "* $H_a:$ Los dos modelos son significativamente **diferentes.**"
   ]
  },
  {
   "cell_type": "code",
   "execution_count": 14,
   "id": "e0dcd38c",
   "metadata": {},
   "outputs": [],
   "source": [
    "def LLR_test(mod_1,mod_2,DF=1): #DF son los grados de libertad\n",
    "    L1=mod_1.llf # Me da Log Likelihood del mod_1 que de como entrada\n",
    "    L2=mod_2.llf # Me da Log Likelihood del mod_2 que de como entrada\n",
    "    LR=(2*(L2-L1)) # Estadístico de prueba\n",
    "    p=chi2.sf(LR,DF).round(3) #P-valor\n",
    "    return p"
   ]
  },
  {
   "cell_type": "markdown",
   "id": "e46b02da",
   "metadata": {},
   "source": [
    "* $DF$: Son los grados de libertad, es decir, como en este caso estamos comparando el modelo $2$ con el $1$ entonces la diferencia de estos dos modelos es $1$, por eso DF=1\n",
    "* $chi2.sf(LR,DF).round(3)$ : Se compara con la distribución (Xicuadrado) y obtenemos el p-valor dando como valores el estadístico de prueba, los grados de libertad y al final lo redondea a 3 decimales\n",
    "\n",
    "Haciendo la **Prueba de Razón Log-LikeLihood** para los modelos $AR(2)$ y $AR(3)$ tenemos un p-valor de:"
   ]
  },
  {
   "cell_type": "code",
   "execution_count": 15,
   "id": "9ca08172",
   "metadata": {},
   "outputs": [
    {
     "data": {
      "text/plain": [
       "0.001"
      ]
     },
     "execution_count": 15,
     "metadata": {},
     "output_type": "execute_result"
    }
   ],
   "source": [
    "LLR_test(results_ar_2,results_ar_3)"
   ]
  },
  {
   "cell_type": "markdown",
   "id": "326ed287",
   "metadata": {},
   "source": [
    "Tenemos que $p-valor<\\alpha $, es decir, $0.001<0.05$ con esto tenemos que **Rechazamos $H_0$**, por lo cual concluimos que **los modelos son significativamente diferentes**. Con esto, añadiendo complejidad el mejor modelo es el $AR(3)$\n",
    "\n",
    "Haciendo la **Prueba de Razón Log-LikeLihood** para los modelos $AR(3)$ y $AR(4)$ tenemos un p-valor de:"
   ]
  },
  {
   "cell_type": "code",
   "execution_count": 16,
   "id": "1110b9cb",
   "metadata": {},
   "outputs": [
    {
     "data": {
      "text/plain": [
       "0.0"
      ]
     },
     "execution_count": 16,
     "metadata": {},
     "output_type": "execute_result"
    }
   ],
   "source": [
    "LLR_test(results_ar_3,results_ar_4)"
   ]
  },
  {
   "cell_type": "markdown",
   "id": "92594fe6",
   "metadata": {},
   "source": [
    "Tenemos que $p-valor<\\alpha $, es decir, $0<0.05$ con esto tenemos que **Rechazamos $H_0$**, por lo cual concluimos que **los modelos son significativamente diferentes**. Con esto, añadiendo complejidad el mejor modelo es el $AR(4)$"
   ]
  },
  {
   "cell_type": "markdown",
   "id": "4895b692",
   "metadata": {},
   "source": [
    "<h2>Comparando Modelos AR (p) Higher-Lag  </h2>\n",
    "\n",
    "* Si al comparar los modelos $AR(p)$ con $AR(p+l)$ obtenemos que los modelos son diferentes, escogeremos el de mayor complejidad, siempre y cuando el último coeficiente de $AR(p+l)$ sea significativamente distinto de $0$\n"
   ]
  },
  {
   "cell_type": "code",
   "execution_count": 17,
   "id": "f9655476",
   "metadata": {},
   "outputs": [
    {
     "name": "stdout",
     "output_type": "stream",
     "text": [
      "                               SARIMAX Results                                \n",
      "==============================================================================\n",
      "Dep. Variable:           market_value   No. Observations:                 5021\n",
      "Model:                 ARIMA(4, 0, 0)   Log Likelihood              -27602.680\n",
      "Date:                Mon, 23 May 2022   AIC                          55217.359\n",
      "Time:                        17:42:40   BIC                          55256.488\n",
      "Sample:                    01-07-1994   HQIC                         55231.070\n",
      "                         - 04-05-2013                                         \n",
      "Covariance Type:                  opg                                         \n",
      "==============================================================================\n",
      "                 coef    std err          z      P>|z|      [0.025      0.975]\n",
      "------------------------------------------------------------------------------\n",
      "const       5089.6409    391.959     12.985      0.000    4321.414    5857.867\n",
      "ar.L1          0.9767      0.010     97.788      0.000       0.957       0.996\n",
      "ar.L2         -0.0287      0.013     -2.129      0.033      -0.055      -0.002\n",
      "ar.L3         -0.0224      0.013     -1.784      0.074      -0.047       0.002\n",
      "ar.L4          0.0728      0.009      8.033      0.000       0.055       0.091\n",
      "sigma2      3484.0262     41.922     83.108      0.000    3401.861    3566.191\n",
      "===================================================================================\n",
      "Ljung-Box (L1) (Q):                   0.02   Jarque-Bera (JB):              3044.18\n",
      "Prob(Q):                              0.88   Prob(JB):                         0.00\n",
      "Heteroskedasticity (H):               1.90   Skew:                            -0.28\n",
      "Prob(H) (two-sided):                  0.00   Kurtosis:                         6.77\n",
      "===================================================================================\n",
      "\n",
      "Warnings:\n",
      "[1] Covariance matrix calculated using the outer product of gradients (complex-step).\n",
      "LRR test: 0.0\n"
     ]
    }
   ],
   "source": [
    "model_ar_4 = ARIMA(df.market_value, order =(4,0,0))\n",
    "results_ar_4 = model_ar_4.fit()\n",
    "print(results_ar_4.summary())\n",
    "print(\"LRR test: \"+str(LLR_test(results_ar_3, results_ar_4)))"
   ]
  },
  {
   "cell_type": "markdown",
   "id": "a63657ef",
   "metadata": {},
   "source": [
    "En este caso: $AR(3)$ y $AR(4)$\n",
    "* El $p-valor$ del coeficiente $\\Phi _4$ es $0.000$, lo cual tendemos que $p-valor<\\alpha $, por lo cual **Rechazamos $H_0$** y concluimos que $\\Phi _4$ es significativamente distinto de $0$, \n",
    "* Al realizar la **Prueba de Razón Log-Like-Lihood** respecto a $AR(3)$ y $AR(4)$ tenemos que  $p-valor<\\alpha $, es decir $0<0.05$, con esto **Rechazamos $H_0$** y tenemos que los dos modelos son significativamente diferentes.\n",
    "\n",
    "Dado los anteriores, nos quedamos con el modelo $AR(4)$, ya que tiene mayor complejidad y $\\Phi _4$ es significativamente distinto de $0$."
   ]
  },
  {
   "cell_type": "code",
   "execution_count": 18,
   "id": "35c5241c",
   "metadata": {},
   "outputs": [
    {
     "name": "stdout",
     "output_type": "stream",
     "text": [
      "                               SARIMAX Results                                \n",
      "==============================================================================\n",
      "Dep. Variable:           market_value   No. Observations:                 5021\n",
      "Model:                 ARIMA(5, 0, 0)   Log Likelihood              -27600.460\n",
      "Date:                Mon, 23 May 2022   AIC                          55214.920\n",
      "Time:                        17:42:47   BIC                          55260.570\n",
      "Sample:                    01-07-1994   HQIC                         55230.916\n",
      "                         - 04-05-2013                                         \n",
      "Covariance Type:                  opg                                         \n",
      "==============================================================================\n",
      "                 coef    std err          z      P>|z|      [0.025      0.975]\n",
      "------------------------------------------------------------------------------\n",
      "const       5089.6409    386.229     13.178      0.000    4332.647    5846.635\n",
      "ar.L1          0.9788      0.010     97.867      0.000       0.959       0.998\n",
      "ar.L2         -0.0293      0.013     -2.176      0.030      -0.056      -0.003\n",
      "ar.L3         -0.0233      0.013     -1.849      0.065      -0.048       0.001\n",
      "ar.L4          0.1018      0.013      7.895      0.000       0.077       0.127\n",
      "ar.L5         -0.0297      0.009     -3.312      0.001      -0.047      -0.012\n",
      "sigma2      3481.5788     42.261     82.382      0.000    3398.748    3564.409\n",
      "===================================================================================\n",
      "Ljung-Box (L1) (Q):                   0.01   Jarque-Bera (JB):              2964.41\n",
      "Prob(Q):                              0.94   Prob(JB):                         0.00\n",
      "Heteroskedasticity (H):               1.89   Skew:                            -0.26\n",
      "Prob(H) (two-sided):                  0.00   Kurtosis:                         6.73\n",
      "===================================================================================\n",
      "\n",
      "Warnings:\n",
      "[1] Covariance matrix calculated using the outer product of gradients (complex-step).\n",
      "LRR test: 0.035\n"
     ]
    }
   ],
   "source": [
    "model_ar_5 = ARIMA(df.market_value, order =(5,0,0))\n",
    "results_ar_5 = model_ar_5.fit()\n",
    "print(results_ar_5.summary())\n",
    "print(\"LRR test: \"+str(LLR_test(results_ar_4, results_ar_5)))"
   ]
  },
  {
   "cell_type": "markdown",
   "id": "428f6678",
   "metadata": {},
   "source": [
    "En este caso: $AR(4)$ y $AR(5)$\n",
    "* El $p-valor$ del coeficiente $\\Phi _5$ es $0.001$, lo cual tendemos que $p-valor<\\alpha $, por lo cual **Rechazamos $H_0$** y concluimos que $\\Phi _5$ es significativamente distinto de $0$, \n",
    "* Al realizar la **Prueba de Razón Log-Like-Lihood** respecto a $AR(4)$ y $AR(5)$ tenemos que  $p-valor<\\alpha $, es decir $0.035<0.05$, con esto **Rechazamos $H_0$** y tenemos que los dos modelos son significativamente diferentes.\n",
    "\n",
    "Dado los anteriores, nos quedamos con el modelo $AR(5)$, ya que tiene mayor complejidad y $\\Phi _5$ es significativamente distinto de $0$."
   ]
  },
  {
   "cell_type": "code",
   "execution_count": 19,
   "id": "535deb7b",
   "metadata": {},
   "outputs": [
    {
     "name": "stdout",
     "output_type": "stream",
     "text": [
      "                               SARIMAX Results                                \n",
      "==============================================================================\n",
      "Dep. Variable:           market_value   No. Observations:                 5021\n",
      "Model:                 ARIMA(6, 0, 0)   Log Likelihood              -27596.587\n",
      "Date:                Mon, 23 May 2022   AIC                          55209.174\n",
      "Time:                        17:43:15   BIC                          55261.345\n",
      "Sample:                    01-07-1994   HQIC                         55227.455\n",
      "                         - 04-05-2013                                         \n",
      "Covariance Type:                  opg                                         \n",
      "==============================================================================\n",
      "                 coef    std err          z      P>|z|      [0.025      0.975]\n",
      "------------------------------------------------------------------------------\n",
      "const       5089.6409    396.931     12.822      0.000    4311.670    5867.612\n",
      "ar.L1          0.9800      0.010     96.873      0.000       0.960       1.000\n",
      "ar.L2         -0.0333      0.014     -2.438      0.015      -0.060      -0.007\n",
      "ar.L3         -0.0224      0.013     -1.772      0.076      -0.047       0.002\n",
      "ar.L4          0.1029      0.013      7.983      0.000       0.078       0.128\n",
      "ar.L5         -0.0682      0.012     -5.598      0.000      -0.092      -0.044\n",
      "ar.L6          0.0393      0.009      4.384      0.000       0.022       0.057\n",
      "sigma2      3476.6737     42.150     82.483      0.000    3394.061    3559.286\n",
      "===================================================================================\n",
      "Ljung-Box (L1) (Q):                   0.02   Jarque-Bera (JB):              2986.71\n",
      "Prob(Q):                              0.90   Prob(JB):                         0.00\n",
      "Heteroskedasticity (H):               1.89   Skew:                            -0.28\n",
      "Prob(H) (two-sided):                  0.00   Kurtosis:                         6.74\n",
      "===================================================================================\n",
      "\n",
      "Warnings:\n",
      "[1] Covariance matrix calculated using the outer product of gradients (complex-step).\n",
      "LRR test: 0.005\n"
     ]
    }
   ],
   "source": [
    "model_ar_6 = ARIMA(df.market_value, order =(6,0,0))\n",
    "results_ar_6 = model_ar_6.fit()\n",
    "print(results_ar_6.summary())\n",
    "print(\"LRR test: \"+str(LLR_test(results_ar_5, results_ar_6)))"
   ]
  },
  {
   "cell_type": "markdown",
   "id": "cb043365",
   "metadata": {},
   "source": [
    "En este caso: $AR(5)$ y $AR(6)$\n",
    "* El $p-valor$ del coeficiente $\\Phi _6$ es $0.000$, lo cual tendemos que $p-valor<\\alpha $, por lo cual **Rechazamos $H_0$** y concluimos que $\\Phi _6$ es significativamente distinto de $0$, \n",
    "* Al realizar la **Prueba de Razón Log-Like-Lihood** respecto a $AR(5)$ y $AR(6)$ tenemos que  $p-valor<\\alpha $, es decir $0.005<0.05$, con esto **Rechazamos $H_0$** y tenemos que los dos modelos son significativamente diferentes.\n",
    "\n",
    "Dado los anteriores, nos quedamos con el modelo $AR(6)$, ya que tiene mayor complejidad y $\\Phi _6$ es significativamente distinto de $0$."
   ]
  },
  {
   "cell_type": "code",
   "execution_count": 20,
   "id": "437fa154",
   "metadata": {},
   "outputs": [
    {
     "name": "stdout",
     "output_type": "stream",
     "text": [
      "                               SARIMAX Results                                \n",
      "==============================================================================\n",
      "Dep. Variable:           market_value   No. Observations:                 5021\n",
      "Model:                 ARIMA(7, 0, 0)   Log Likelihood              -27592.022\n",
      "Date:                Mon, 23 May 2022   AIC                          55202.044\n",
      "Time:                        17:44:14   BIC                          55260.736\n",
      "Sample:                    01-07-1994   HQIC                         55222.610\n",
      "                         - 04-05-2013                                         \n",
      "Covariance Type:                  opg                                         \n",
      "==============================================================================\n",
      "                 coef    std err          z      P>|z|      [0.025      0.975]\n",
      "------------------------------------------------------------------------------\n",
      "const       5089.6409    405.380     12.555      0.000    4295.110    5884.172\n",
      "ar.L1          0.9783      0.010     95.742      0.000       0.958       0.998\n",
      "ar.L2         -0.0304      0.014     -2.183      0.029      -0.058      -0.003\n",
      "ar.L3         -0.0267      0.013     -2.108      0.035      -0.052      -0.002\n",
      "ar.L4          0.1039      0.013      8.053      0.000       0.079       0.129\n",
      "ar.L5         -0.0668      0.012     -5.480      0.000      -0.091      -0.043\n",
      "ar.L6         -0.0025      0.013     -0.199      0.842      -0.028       0.022\n",
      "ar.L7          0.0427      0.010      4.397      0.000       0.024       0.062\n",
      "sigma2      3471.0296     42.068     82.510      0.000    3388.578    3553.481\n",
      "===================================================================================\n",
      "Ljung-Box (L1) (Q):                   0.00   Jarque-Bera (JB):              3013.82\n",
      "Prob(Q):                              0.99   Prob(JB):                         0.00\n",
      "Heteroskedasticity (H):               1.89   Skew:                            -0.30\n",
      "Prob(H) (two-sided):                  0.00   Kurtosis:                         6.75\n",
      "===================================================================================\n",
      "\n",
      "Warnings:\n",
      "[1] Covariance matrix calculated using the outer product of gradients (complex-step).\n",
      "LRR test: 0.003\n"
     ]
    }
   ],
   "source": [
    "model_ar_7 = ARIMA(df.market_value, order =(7,0,0))\n",
    "results_ar_7 = model_ar_7.fit()\n",
    "print(results_ar_7.summary())\n",
    "print(\"LRR test: \"+str(LLR_test(results_ar_6, results_ar_7)))"
   ]
  },
  {
   "cell_type": "markdown",
   "id": "96764c48",
   "metadata": {},
   "source": [
    "En este caso: $AR(6)$ y $AR(7)$\n",
    "* El $p-valor$ del coeficiente $\\Phi _7$ es $0.000$, lo cual tendemos que $p-valor<\\alpha $, por lo cual **Rechazamos $H_0$** y concluimos que $\\Phi _7$ es significativamente distinto de $0$, \n",
    "* Al realizar la **Prueba de Razón Log-Like-Lihood** respecto a $AR(6)$ y $AR(7)$ tenemos que  $p-valor<\\alpha $, es decir $0.003<0.05$, con esto **Rechazamos $H_0$** y tenemos que los dos modelos son significativamente diferentes.\n",
    "\n",
    "Dado los anteriores, nos quedamos con el modelo $AR(7)$, ya que tiene mayor complejidad y $\\Phi _7$ es significativamente distinto de $0$."
   ]
  },
  {
   "cell_type": "code",
   "execution_count": 21,
   "id": "ce3693a3",
   "metadata": {},
   "outputs": [
    {
     "name": "stdout",
     "output_type": "stream",
     "text": [
      "                               SARIMAX Results                                \n",
      "==============================================================================\n",
      "Dep. Variable:           market_value   No. Observations:                 5021\n",
      "Model:                 ARIMA(8, 0, 0)   Log Likelihood              -27591.854\n",
      "Date:                Mon, 23 May 2022   AIC                          55203.708\n",
      "Time:                        17:45:09   BIC                          55268.922\n",
      "Sample:                    01-07-1994   HQIC                         55226.560\n",
      "                         - 04-05-2013                                         \n",
      "Covariance Type:                  opg                                         \n",
      "==============================================================================\n",
      "                 coef    std err          z      P>|z|      [0.025      0.975]\n",
      "------------------------------------------------------------------------------\n",
      "const       5089.6409    407.243     12.498      0.000    4291.460    5887.822\n",
      "ar.L1          0.9787      0.010     95.719      0.000       0.959       0.999\n",
      "ar.L2         -0.0305      0.014     -2.183      0.029      -0.058      -0.003\n",
      "ar.L3         -0.0273      0.013     -2.121      0.034      -0.053      -0.002\n",
      "ar.L4          0.1047      0.013      7.984      0.000       0.079       0.130\n",
      "ar.L5         -0.0670      0.012     -5.497      0.000      -0.091      -0.043\n",
      "ar.L6         -0.0028      0.013     -0.216      0.829      -0.028       0.022\n",
      "ar.L7          0.0505      0.014      3.598      0.000       0.023       0.078\n",
      "ar.L8         -0.0080      0.010     -0.815      0.415      -0.027       0.011\n",
      "sigma2      3471.3457     42.181     82.296      0.000    3388.672    3554.019\n",
      "===================================================================================\n",
      "Ljung-Box (L1) (Q):                   0.00   Jarque-Bera (JB):              3003.28\n",
      "Prob(Q):                              0.99   Prob(JB):                         0.00\n",
      "Heteroskedasticity (H):               1.89   Skew:                            -0.30\n",
      "Prob(H) (two-sided):                  0.00   Kurtosis:                         6.74\n",
      "===================================================================================\n",
      "\n",
      "Warnings:\n",
      "[1] Covariance matrix calculated using the outer product of gradients (complex-step).\n",
      "LRR test: 0.562\n"
     ]
    }
   ],
   "source": [
    "model_ar_8 = ARIMA(df.market_value, order =(8,0,0))\n",
    "results_ar_8 = model_ar_8.fit()\n",
    "print(results_ar_8.summary())\n",
    "print(\"LRR test: \"+str(LLR_test(results_ar_7, results_ar_8)))"
   ]
  },
  {
   "cell_type": "markdown",
   "id": "edca1447",
   "metadata": {},
   "source": [
    "En este caso: $AR(7)$ y $AR(8)$\n",
    "* El $p-valor$ del coeficiente $\\Phi _8$ es $0.415$, lo cual tendemos que $p-valor>\\alpha $, por lo cual **Aceptamos $H_0$** y concluimos que $\\Phi _8$ es significativamente igual a $0$, \n",
    "* Al realizar la **Prueba de Razón Log-Like-Lihood** respecto a $AR(7)$ y $AR(8)$ tenemos que  $p-valor>\\alpha $, es decir $0.562<0.05$, con esto **Aceptamos $H_0$** y tenemos que los dos modelos son significativamente iguales.\n",
    "\n",
    "Dado los anteriores, nos quedamos con el modelo $AR(7)$, ya que su último coeficiente $\\varphi _7$ es significativamente diferente de $0$ y como son iguales, escogemos el más simple.\n",
    "\n",
    "\n",
    "Comparando el modelo $AR(1)$ respecto a $AR(3)$ tendremos lo siguiente:\n",
    "\n",
    "OJO. DF=6, ya que estamos comparando el modelo $AR(7)$ con $AR(1)$, es decir, $7-1=6$ grados de libertad. "
   ]
  },
  {
   "cell_type": "code",
   "execution_count": 22,
   "id": "59ed354b",
   "metadata": {},
   "outputs": [
    {
     "name": "stdout",
     "output_type": "stream",
     "text": [
      "LRR test: 0.0\n"
     ]
    }
   ],
   "source": [
    "print(\"LRR test: \"+str(LLR_test(results_ar_1, results_ar_7, DF=6)))"
   ]
  },
  {
   "cell_type": "markdown",
   "id": "c8f3d87f",
   "metadata": {},
   "source": [
    "En este caso: $AR(1)$ y $AR(7)$\n",
    "* El $p-valor$ del coeficiente $\\Phi _7$ es $0.0$, lo cual tendemos que $p-valor<\\alpha $, por lo cual **Rechazamos $H_0$** y concluimos que $\\Phi _7$ es significativamente diferente de $0$, \n",
    "* Al realizar la **Prueba de Razón Log-Like-Lihood** respecto de $AR(1)$ y $AR(7)$ tenemos que  $p-valor<\\alpha $, es decir $0.0<0.05$, con esto **Rechazamos $H_0$** y tenemos que los dos modelos son significativamente diferntes.\n",
    "\n",
    "\n",
    "Dado lo anterior, nos quedamos con el modelo $AR(7)$ ya que tiene mayor complejidad.\n"
   ]
  },
  {
   "cell_type": "markdown",
   "id": "11173fb5",
   "metadata": {},
   "source": [
    "<h2> Análisis de los Residuos del modelo $AR(7)$ </h2>"
   ]
  },
  {
   "cell_type": "code",
   "execution_count": 23,
   "id": "870f1fcc",
   "metadata": {},
   "outputs": [
    {
     "name": "stderr",
     "output_type": "stream",
     "text": [
      "C:\\Users\\81799\\AppData\\Local\\Temp\\ipykernel_16016\\3206254562.py:1: SettingWithCopyWarning: \n",
      "A value is trying to be set on a copy of a slice from a DataFrame.\n",
      "Try using .loc[row_indexer,col_indexer] = value instead\n",
      "\n",
      "See the caveats in the documentation: https://pandas.pydata.org/pandas-docs/stable/user_guide/indexing.html#returning-a-view-versus-a-copy\n",
      "  df[\"Residuos_price\"] = results_ar_7.resid # Extrae los residuos del modelo\n"
     ]
    }
   ],
   "source": [
    "df[\"Residuos_price\"] = results_ar_7.resid # Extrae los residuos del modelo"
   ]
  },
  {
   "cell_type": "code",
   "execution_count": 24,
   "id": "d14cce8d",
   "metadata": {},
   "outputs": [
    {
     "data": {
      "text/plain": [
       "(-76.05339409944524,\n",
       " 0.0,\n",
       " 0,\n",
       " 5020,\n",
       " {'1%': -3.431653316130827,\n",
       "  '5%': -2.8621159253018247,\n",
       "  '10%': -2.5670765656497516},\n",
       " 54842.15874022037)"
      ]
     },
     "execution_count": 24,
     "metadata": {},
     "output_type": "execute_result"
    }
   ],
   "source": [
    "sts.adfuller(df.Residuos_price)"
   ]
  },
  {
   "cell_type": "markdown",
   "id": "bb9bc854",
   "metadata": {},
   "source": [
    "Con un $p-valor<\\alpha $, es decir, $0<0.05$ tenemos que **Rechazamos $H_0$**, por lo cual concluimos que **los residuos del modelo son Estacionarios**"
   ]
  },
  {
   "cell_type": "code",
   "execution_count": 25,
   "id": "f4168574",
   "metadata": {},
   "outputs": [
    {
     "data": {
      "image/png": "[encoded data removed]",
      "text/plain": [
       "<Figure size 432x288 with 1 Axes>"
      ]
     },
     "metadata": {
      "needs_background": "light"
     },
     "output_type": "display_data"
    }
   ],
   "source": [
    "sgt.plot_acf(df.Residuos_price, zero = False , lags =40)\n",
    "plt.title(\"ACF de Residuos del modelo AR(7)\", size = 24)\n",
    "plt.ylim(-.035,.035)\n",
    "plt.show()"
   ]
  },
  {
   "cell_type": "markdown",
   "id": "033a7375",
   "metadata": {},
   "source": [
    "Observamos que la mayoria de los retraso $\\varphi $ caen dentro de la zona azul, por lo cual son significativmente iguales a $0$, es decir, que no hay autocorrelación. Sin embargo hay puntos que salen del área azul, esto sugiere que aunque el modelo $AR(7)$ es un buen modelo para predecir, lo que nos sugiere es que puede haber un mejor predictor."
   ]
  },
  {
   "cell_type": "code",
   "execution_count": 26,
   "id": "268e35e5",
   "metadata": {},
   "outputs": [
    {
     "data": {
      "image/png": "[encoded data removed]",
      "text/plain": [
       "<Figure size 1440x360 with 1 Axes>"
      ]
     },
     "metadata": {
      "needs_background": "light"
     },
     "output_type": "display_data"
    }
   ],
   "source": [
    "df.Residuos_price[1:].plot(figsize=(20,5))\n",
    "plt.title(\"Residuals of prices\", size =24)\n",
    "plt.show()"
   ]
  },
  {
   "cell_type": "markdown",
   "id": "3e2d1ada",
   "metadata": {},
   "source": [
    "Observamos que la gráfica de los residuos se parecen a los de un **ruido blanco**, es decir, que no hay ningún patrón."
   ]
  },
  {
   "cell_type": "markdown",
   "id": "9eb78d3b",
   "metadata": {},
   "source": [
    "<h2> Conclusión </h2>\n",
    "\n",
    "\n",
    "Si se mira el modelo $AR(7)$ se observa que tenemos coeficientes que NO son significativos distintos de $0$, lo cual esto puede ser un problemas. \n",
    "\n",
    "**Los modelos autoregresivos AR(p) modelan mejor la serie de tiempo que son ESTACIONARIAS**, si hacemos ajustes de Dicket-Fuller obtenemos que No proviene de un proceso estacionario, tanto esto sugiere que no podemos confiar en un modelo autorregresivo para modelar esta serie de tiempo, sin embargo la solución será transoformar los datos para que cumpla la condición de estacionalidad."
   ]
  }
 ],
 "metadata": {
  "kernelspec": {
   "display_name": "Python 3 (ipykernel)",
   "language": "python",
   "name": "python3"
  },
  "language_info": {
   "codemirror_mode": {
    "name": "ipython",
    "version": 3
   },
   "file_extension": ".py",
   "mimetype": "text/x-python",
   "name": "python",
   "nbconvert_exporter": "python",
   "pygments_lexer": "ipython3",
   "version": "3.9.12"
  }
 },
 "nbformat": 4,
 "nbformat_minor": 5
}
