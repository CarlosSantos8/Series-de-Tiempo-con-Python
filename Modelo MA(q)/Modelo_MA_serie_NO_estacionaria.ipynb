{
 "cells": [
  {
   "cell_type": "markdown",
   "id": "a14d08d4",
   "metadata": {},
   "source": [
    "<h1> Modelos de MA(q) al modelar precios </h1>\n",
    "\n",
    "En este reporte veremos como se comportan los modelos de medias móviles $MA(q)$ al modelar los precios.\n",
    "\n",
    "<h2> Preprocesamiento de datos </h2>"
   ]
  },
  {
   "cell_type": "code",
   "execution_count": 2,
   "id": "cb1ab438",
   "metadata": {},
   "outputs": [],
   "source": [
    "import numpy as np # Para utilizar numpy\n",
    "import pandas as pd # Para utilizar pandas\n",
    "import matplotlib.pyplot as plt #Para las gráficas\n",
    "import statsmodels.graphics.tsaplots as sgt #Gráficas de autocorrelación \n",
    "import statsmodels.tsa.stattools as sts #Para prueba de Dickey-Fuller\n",
    "import seaborn as sns \n",
    "from statsmodels.tsa.arima.model import ARIMA #Para hacer el modelo ARIMA\n",
    "from scipy.stats.distributions import chi2 #Nos sirve para la distribución Xi cuadrada \n",
    "from datetime import datetime #Para trabajar con fechas\n",
    "import os #Para poner la dirección donde esta la base de datos.\n",
    "sns.set()\n",
    "os.chdir(\"C:\\\\Users\\\\81799\\\\OneDrive\\\\Documentos\\\\ESFM_CLASES\\\\Servicio Social ARTF\\\\Machine Learning\\\\curso-series-temporales-master\\\\5. Modelos AR autorregresivos\\\\Python\") \n",
    "raw_csv_data = pd.read_csv(\"Index2018.csv\") #Leer DataFrame Index2018\n",
    "df_comp = raw_csv_data.copy() #Copia el DataFrame raw_csv_data con el nombre de df_comp\n",
    "df_comp.date = pd.to_datetime(df_comp.date, dayfirst =True ) #Modifica las fechas\n",
    "df_comp.set_index(\"date\",inplace = True) # Ponemos las fechas como índices\n",
    "df_comp=df_comp.asfreq(\"b\") #Frecuencias a días laborales.\n",
    "df_comp=df_comp.fillna(method=\"ffill\")#Arregla problema d valores faltantes tomando su diferencia\n",
    "df_comp[\"market_value\"]=df_comp.ftse #Agregamos una nueva columna llamada market_value\n",
    "del df_comp[\"spx\"] #Eliminamos la columna spx del DataFrame de_comp\n",
    "del df_comp[\"dax\"] #Eliminamos la columna dax del DataFrame de_comp\n",
    "del df_comp[\"ftse\"] #Eliminamos la columna ftse del DataFrame de_comp\n",
    "del df_comp[\"nikkei\"] #Eliminamos la columna nikkei del DataFrame de_comp\n",
    "size=int(len(df_comp)*0.8) #int (no. de filas*0.8)= int(6277*0.8)= int(5021.6)=5021\n",
    "df, df_test = df_comp.iloc[:size], df_comp.iloc[size:]"
   ]
  },
  {
   "cell_type": "markdown",
   "id": "47fb47d2",
   "metadata": {},
   "source": [
    "Recordemos que una manera de observar el nuúmero de coeficientes que necesitamos para el modelo $MA(q)$ es a través de la gráfica $ACF$. \n",
    "\n",
    "<h2> Gráfica $ACF$ </h2>"
   ]
  },
  {
   "cell_type": "code",
   "execution_count": 8,
   "id": "0caf6983",
   "metadata": {},
   "outputs": [
    {
     "data": {
      "image/png": "[encoded data removed]",
      "text/plain": [
       "<Figure size 432x288 with 1 Axes>"
      ]
     },
     "metadata": {
      "needs_background": "light"
     },
     "output_type": "display_data"
    }
   ],
   "source": [
    "sgt.plot_acf(df.market_value, zero = False, lags = 40) \n",
    "plt.title(\"ACF para market_value\", size = 20)\n",
    "plt.ylim(-0.25,1.1)\n",
    "plt.show() #Quitamos el primer NA para que nos de la gráfica"
   ]
  },
  {
   "cell_type": "markdown",
   "id": "6461f5b8",
   "metadata": {},
   "source": [
    "Analizando la gráfica obtenemos que los $40$ períodos son significativos, es decir, que se sugiere que se preferiría cualquier modelo de retraso superor a cualquier modelo de retraso inferior (Como cuando comparabamos los modelos ) lo que nos lleva a creer que tendríamos que usar un modelo infinito para ajustar estos datos. Pero como lo anterior, no existe, entonces parece que ningún modelo de promedio móvil sería una buena estimación de los precios.\n",
    "\n",
    "Antes de esto, ajustemos un modelo $MA(1)$ para observar lo que pasa.\n",
    "\n",
    "\n",
    "<h2> $MA(1)$ para market_value </h2>"
   ]
  },
  {
   "cell_type": "code",
   "execution_count": 9,
   "id": "9bac623e",
   "metadata": {},
   "outputs": [
    {
     "data": {
      "text/html": [
       "<table class=\"simpletable\">\n",
       "<caption>SARIMAX Results</caption>\n",
       "<tr>\n",
       "  <th>Dep. Variable:</th>     <td>market_value</td>   <th>  No. Observations:  </th>    <td>5021</td>   \n",
       "</tr>\n",
       "<tr>\n",
       "  <th>Model:</th>            <td>ARIMA(0, 0, 1)</td>  <th>  Log Likelihood     </th> <td>-38629.000</td>\n",
       "</tr>\n",
       "<tr>\n",
       "  <th>Date:</th>            <td>Tue, 24 May 2022</td> <th>  AIC                </th>  <td>77264.000</td>\n",
       "</tr>\n",
       "<tr>\n",
       "  <th>Time:</th>                <td>06:44:27</td>     <th>  BIC                </th>  <td>77283.564</td>\n",
       "</tr>\n",
       "<tr>\n",
       "  <th>Sample:</th>             <td>01-07-1994</td>    <th>  HQIC               </th>  <td>77270.856</td>\n",
       "</tr>\n",
       "<tr>\n",
       "  <th></th>                   <td>- 04-05-2013</td>   <th>                     </th>      <td> </td>    \n",
       "</tr>\n",
       "<tr>\n",
       "  <th>Covariance Type:</th>        <td>opg</td>       <th>                     </th>      <td> </td>    \n",
       "</tr>\n",
       "</table>\n",
       "<table class=\"simpletable\">\n",
       "<tr>\n",
       "     <td></td>       <th>coef</th>     <th>std err</th>      <th>z</th>      <th>P>|z|</th>  <th>[0.025</th>    <th>0.975]</th>  \n",
       "</tr>\n",
       "<tr>\n",
       "  <th>const</th>  <td> 5089.6316</td> <td>   15.834</td> <td>  321.441</td> <td> 0.000</td> <td> 5058.598</td> <td> 5120.665</td>\n",
       "</tr>\n",
       "<tr>\n",
       "  <th>ma.L1</th>  <td>    0.9573</td> <td>    0.004</td> <td>  231.410</td> <td> 0.000</td> <td>    0.949</td> <td>    0.965</td>\n",
       "</tr>\n",
       "<tr>\n",
       "  <th>sigma2</th> <td> 2.817e+05</td> <td> 8160.556</td> <td>   34.519</td> <td> 0.000</td> <td> 2.66e+05</td> <td> 2.98e+05</td>\n",
       "</tr>\n",
       "</table>\n",
       "<table class=\"simpletable\">\n",
       "<tr>\n",
       "  <th>Ljung-Box (L1) (Q):</th>     <td>4221.10</td> <th>  Jarque-Bera (JB):  </th> <td>291.39</td>\n",
       "</tr>\n",
       "<tr>\n",
       "  <th>Prob(Q):</th>                 <td>0.00</td>   <th>  Prob(JB):          </th>  <td>0.00</td> \n",
       "</tr>\n",
       "<tr>\n",
       "  <th>Heteroskedasticity (H):</th>  <td>0.44</td>   <th>  Skew:              </th>  <td>-0.39</td>\n",
       "</tr>\n",
       "<tr>\n",
       "  <th>Prob(H) (two-sided):</th>     <td>0.00</td>   <th>  Kurtosis:          </th>  <td>2.12</td> \n",
       "</tr>\n",
       "</table><br/><br/>Warnings:<br/>[1] Covariance matrix calculated using the outer product of gradients (complex-step)."
      ],
      "text/plain": [
       "<class 'statsmodels.iolib.summary.Summary'>\n",
       "\"\"\"\n",
       "                               SARIMAX Results                                \n",
       "==============================================================================\n",
       "Dep. Variable:           market_value   No. Observations:                 5021\n",
       "Model:                 ARIMA(0, 0, 1)   Log Likelihood              -38629.000\n",
       "Date:                Tue, 24 May 2022   AIC                          77264.000\n",
       "Time:                        06:44:27   BIC                          77283.564\n",
       "Sample:                    01-07-1994   HQIC                         77270.856\n",
       "                         - 04-05-2013                                         \n",
       "Covariance Type:                  opg                                         \n",
       "==============================================================================\n",
       "                 coef    std err          z      P>|z|      [0.025      0.975]\n",
       "------------------------------------------------------------------------------\n",
       "const       5089.6316     15.834    321.441      0.000    5058.598    5120.665\n",
       "ma.L1          0.9573      0.004    231.410      0.000       0.949       0.965\n",
       "sigma2      2.817e+05   8160.556     34.519      0.000    2.66e+05    2.98e+05\n",
       "===================================================================================\n",
       "Ljung-Box (L1) (Q):                4221.10   Jarque-Bera (JB):               291.39\n",
       "Prob(Q):                              0.00   Prob(JB):                         0.00\n",
       "Heteroskedasticity (H):               0.44   Skew:                            -0.39\n",
       "Prob(H) (two-sided):                  0.00   Kurtosis:                         2.12\n",
       "===================================================================================\n",
       "\n",
       "Warnings:\n",
       "[1] Covariance matrix calculated using the outer product of gradients (complex-step).\n",
       "\"\"\""
      ]
     },
     "execution_count": 9,
     "metadata": {},
     "output_type": "execute_result"
    }
   ],
   "source": [
    "model_ma_1 = ARIMA(df.market_value, order = (0,0,1))\n",
    "results_ma_1 = model_ma_1.fit()\n",
    "results_ma_1.summary()"
   ]
  },
  {
   "cell_type": "markdown",
   "id": "af98f15e",
   "metadata": {},
   "source": [
    "Dado el modelo $MA(1)$, tenemos que:\n",
    "\n",
    "* El $p-valor$ del coeficiente $c$ es igual a $0.000$, lo cual indica que $p-valor _c <0.05$, por lo cual rechazamos $H_0$, así que **el coeficiente de $c$ es significativamente distinto de $0$**.\n",
    "\n",
    "* El $p-valor$ del coeficiente $\\theta _1$ es igual a $0.000$, lo cual indica que $p-valor _c <0.05$, por lo cual rechazamos $H_0$, así que **el coeficiente de $\\theta _1$ es significativamente distinto de $0$**.\n",
    "\n",
    "* El parametro de $\\theta _1=0.9573\\approx 1$, lo que significa que el modelo $MA(1)$ está intentando mantener casi toda la magnitud del término error del último período $\\varepsilon _{t-1}$.\n",
    "\n",
    "Con lo anterior, observamos que:\n",
    "$$\\begin{array}{l}  x_{t-1}&=c+\\theta _1\\varepsilon _{t-2}+\\varepsilon _{t-1} \\ldots (1) \\\\ x_{t}&=c+\\theta _1\\varepsilon _{t-1}+\\varepsilon _t \\;\\;\\; \\ldots (2) \\end{array} $$\n",
    "Sustituyendo $\\varepsilon _{t-1}$ de la ec($2$) en la ec($1$), obtenemos lo siguiente:\n",
    "$$\\begin{array}{l}  x_{t}=c+\\theta _1 (x_{t-1}-c+\\theta _1\\varepsilon _{t-2})+\\varepsilon _t  \\ldots (3)\\end{array}$$\n",
    "Pero como $\\theta _1 \\approx 1$, entonces tenemos que: \n",
    "$$x_t=x_{t-1}+\\epsilon _{t-2}+\\epsilon _t$$\n",
    "\n",
    "**Concluimos:** Los modelos de medias móviles NO funcionan bien para datos NO estacionarios."
   ]
  }
 ],
 "metadata": {
  "kernelspec": {
   "display_name": "Python 3 (ipykernel)",
   "language": "python",
   "name": "python3"
  },
  "language_info": {
   "codemirror_mode": {
    "name": "ipython",
    "version": 3
   },
   "file_extension": ".py",
   "mimetype": "text/x-python",
   "name": "python",
   "nbconvert_exporter": "python",
   "pygments_lexer": "ipython3",
   "version": "3.9.12"
  }
 },
 "nbformat": 4,
 "nbformat_minor": 5
}
