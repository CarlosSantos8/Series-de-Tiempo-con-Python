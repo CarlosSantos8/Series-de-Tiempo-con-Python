{
 "cells": [
  {
   "cell_type": "markdown",
   "id": "c2f02d0b",
   "metadata": {},
   "source": [
    "<h1> 1. Modelos de medias móviles MA(q) </h1>\n",
    "\n",
    "Los modelos de medias móviles predicen el valor actual de nuestra serie temporal en función de los residuos pasados. Un modelo de medias móviles de orden simple $MA(1)$, de orden uno, sólo consideraría el valor del resiudo en el período anterior ($\\varepsilon _{t-1}$), y el modelo se expresaría de la siguiente manera: $$x_t=c+\\theta _1 \\varepsilon _{t-1}+\\varepsilon _t$$\n",
    "Además, $|\\theta _1|<1$, es decir, $-1<\\theta _1<1$\n",
    "\n",
    "\n",
    "De manera general, tendremos:\n",
    "$$x_t=c+\\theta _1 \\varepsilon _{t-1}+\\theta _2 \\varepsilon _{t-2}+\\cdots + \\theta _q \\varepsilon _{t-q}+\\varepsilon _t$$\n",
    "Donde:\n",
    "* $x_t:$ es el valor de interés, del período actual, de nuestra serie de tiempo.\n",
    "* $c:$ es la constante.\n",
    "* $\\theta _1, \\ldots, \\theta _q:$ Son los coeficientes que debemos estimar.\n",
    "* $\\varepsilon _t$ es el residuo en el período actual.\n",
    "\n",
    "Para que funcione bien este modelo, **LOS DATOS DEBEN SER ESTACIONARIOS**.\n",
    "\n",
    "En este caso, observaremos la $ACF$\n",
    "\n",
    "Nota: $\\hat{x_t}=x_t+\\varepsilon _t$\n",
    "\n",
    "<h1> Packages </h1>"
   ]
  },
  {
   "cell_type": "code",
   "execution_count": 1,
   "id": "06c0cc5c",
   "metadata": {},
   "outputs": [],
   "source": [
    "import numpy as np # Para utilizar numpy\n",
    "import pandas as pd # Para utilizar pandas\n",
    "import matplotlib.pyplot as plt #Para las gráficas\n",
    "import statsmodels.graphics.tsaplots as sgt #Gráficas de autocorrelación \n",
    "import statsmodels.tsa.stattools as sts #Para prueba de Dickey-Fuller\n",
    "import seaborn as sns \n",
    "from statsmodels.tsa.arima.model import ARIMA #Para hacer el modelo ARIMA\n",
    "from scipy.stats.distributions import chi2 #Nos sirve para la distribución Xi cuadrada \n",
    "from datetime import datetime #Para trabajar con fechas\n",
    "import os #Para poner la dirección donde esta la base de datos.\n",
    "sns.set()"
   ]
  },
  {
   "cell_type": "markdown",
   "id": "d28f6fb9",
   "metadata": {},
   "source": [
    "<h1> Preprocesamiento de datos </h1>"
   ]
  },
  {
   "cell_type": "code",
   "execution_count": 2,
   "id": "13f76a6e",
   "metadata": {},
   "outputs": [
    {
     "data": {
      "text/html": [
       "<div>\n",
       "<style scoped>\n",
       "    .dataframe tbody tr th:only-of-type {\n",
       "        vertical-align: middle;\n",
       "    }\n",
       "\n",
       "    .dataframe tbody tr th {\n",
       "        vertical-align: top;\n",
       "    }\n",
       "\n",
       "    .dataframe thead th {\n",
       "        text-align: right;\n",
       "    }\n",
       "</style>\n",
       "<table border=\"1\" class=\"dataframe\">\n",
       "  <thead>\n",
       "    <tr style=\"text-align: right;\">\n",
       "      <th></th>\n",
       "      <th>market_value</th>\n",
       "    </tr>\n",
       "    <tr>\n",
       "      <th>date</th>\n",
       "      <th></th>\n",
       "    </tr>\n",
       "  </thead>\n",
       "  <tbody>\n",
       "    <tr>\n",
       "      <th>1994-01-07</th>\n",
       "      <td>3445.98</td>\n",
       "    </tr>\n",
       "    <tr>\n",
       "      <th>1994-01-10</th>\n",
       "      <td>3440.58</td>\n",
       "    </tr>\n",
       "    <tr>\n",
       "      <th>1994-01-11</th>\n",
       "      <td>3413.77</td>\n",
       "    </tr>\n",
       "    <tr>\n",
       "      <th>1994-01-12</th>\n",
       "      <td>3372.02</td>\n",
       "    </tr>\n",
       "    <tr>\n",
       "      <th>1994-01-13</th>\n",
       "      <td>3360.01</td>\n",
       "    </tr>\n",
       "    <tr>\n",
       "      <th>...</th>\n",
       "      <td>...</td>\n",
       "    </tr>\n",
       "    <tr>\n",
       "      <th>2013-04-01</th>\n",
       "      <td>6411.74</td>\n",
       "    </tr>\n",
       "    <tr>\n",
       "      <th>2013-04-02</th>\n",
       "      <td>6490.66</td>\n",
       "    </tr>\n",
       "    <tr>\n",
       "      <th>2013-04-03</th>\n",
       "      <td>6420.28</td>\n",
       "    </tr>\n",
       "    <tr>\n",
       "      <th>2013-04-04</th>\n",
       "      <td>6344.11</td>\n",
       "    </tr>\n",
       "    <tr>\n",
       "      <th>2013-04-05</th>\n",
       "      <td>6249.77</td>\n",
       "    </tr>\n",
       "  </tbody>\n",
       "</table>\n",
       "<p>5021 rows × 1 columns</p>\n",
       "</div>"
      ],
      "text/plain": [
       "            market_value\n",
       "date                    \n",
       "1994-01-07       3445.98\n",
       "1994-01-10       3440.58\n",
       "1994-01-11       3413.77\n",
       "1994-01-12       3372.02\n",
       "1994-01-13       3360.01\n",
       "...                  ...\n",
       "2013-04-01       6411.74\n",
       "2013-04-02       6490.66\n",
       "2013-04-03       6420.28\n",
       "2013-04-04       6344.11\n",
       "2013-04-05       6249.77\n",
       "\n",
       "[5021 rows x 1 columns]"
      ]
     },
     "execution_count": 2,
     "metadata": {},
     "output_type": "execute_result"
    }
   ],
   "source": [
    "os.chdir(\"C:\\\\Users\\\\81799\\\\OneDrive\\\\Documentos\\\\ESFM_CLASES\\\\Servicio Social ARTF\\\\Machine Learning\\\\curso-series-temporales-master\\\\5. Modelos AR autorregresivos\\\\Python\") \n",
    "raw_csv_data = pd.read_csv(\"Index2018.csv\") #Leer DataFrame Index2018\n",
    "df_comp = raw_csv_data.copy() #Copia el DataFrame raw_csv_data con el nombre de df_comp\n",
    "df_comp.date = pd.to_datetime(df_comp.date, dayfirst =True ) #Modifica las fechas\n",
    "df_comp.set_index(\"date\",inplace = True) # Ponemos las fechas como índices\n",
    "df_comp=df_comp.asfreq(\"b\") #Frecuencias a días laborales.\n",
    "df_comp=df_comp.fillna(method=\"ffill\")#Arregla problema d valores faltantes tomando su diferencia\n",
    "df_comp[\"market_value\"]=df_comp.ftse #Agregamos una nueva columna llamada market_value\n",
    "del df_comp[\"spx\"] #Eliminamos la columna spx del DataFrame de_comp\n",
    "del df_comp[\"dax\"] #Eliminamos la columna dax del DataFrame de_comp\n",
    "del df_comp[\"ftse\"] #Eliminamos la columna ftse del DataFrame de_comp\n",
    "del df_comp[\"nikkei\"] #Eliminamos la columna nikkei del DataFrame de_comp\n",
    "size=int(len(df_comp)*0.8) #int (no. de filas*0.8)= int(6277*0.8)= int(5021.6)=5021\n",
    "df, df_test = df_comp.iloc[:size], df_comp.iloc[size:]\n",
    "df #Datos de entrenamiento   ..... df_test = Datos de prueba"
   ]
  },
  {
   "cell_type": "markdown",
   "id": "9ae1193b",
   "metadata": {},
   "source": [
    "<h1> Prueba de Razón de Log-LikeLihood </h1>"
   ]
  },
  {
   "cell_type": "code",
   "execution_count": 3,
   "id": "fee7c166",
   "metadata": {},
   "outputs": [],
   "source": [
    "def LLR_test(mod_1,mod_2,DF=1): #DF son los grados de libertad\n",
    "    L1=mod_1.llf # Me da Log Likelihood del mod_1 que de como entrada\n",
    "    L2=mod_2.llf # Me da Log Likelihood del mod_2 que de como entrada\n",
    "    LR=(2*(L2-L1)) # Estadístico de prueba\n",
    "    p=chi2.sf(LR,DF).round(3) #P-valor\n",
    "    return p"
   ]
  },
  {
   "cell_type": "code",
   "execution_count": 4,
   "id": "71d3c1ae",
   "metadata": {},
   "outputs": [],
   "source": [
    "import warnings  #Ignorar errores\n",
    "warnings.filterwarnings(\"ignore\")"
   ]
  },
  {
   "cell_type": "markdown",
   "id": "2ceccce3",
   "metadata": {},
   "source": [
    "<h1> Usando Retornos </h1>\n",
    "\n",
    "\n",
    "En la sección de Modelos AR, lo hicimos para obtener una serie estacionaria."
   ]
  },
  {
   "cell_type": "code",
   "execution_count": 5,
   "id": "70986425",
   "metadata": {},
   "outputs": [
    {
     "data": {
      "text/html": [
       "<div>\n",
       "<style scoped>\n",
       "    .dataframe tbody tr th:only-of-type {\n",
       "        vertical-align: middle;\n",
       "    }\n",
       "\n",
       "    .dataframe tbody tr th {\n",
       "        vertical-align: top;\n",
       "    }\n",
       "\n",
       "    .dataframe thead th {\n",
       "        text-align: right;\n",
       "    }\n",
       "</style>\n",
       "<table border=\"1\" class=\"dataframe\">\n",
       "  <thead>\n",
       "    <tr style=\"text-align: right;\">\n",
       "      <th></th>\n",
       "      <th>market_value</th>\n",
       "      <th>retornos</th>\n",
       "    </tr>\n",
       "    <tr>\n",
       "      <th>date</th>\n",
       "      <th></th>\n",
       "      <th></th>\n",
       "    </tr>\n",
       "  </thead>\n",
       "  <tbody>\n",
       "    <tr>\n",
       "      <th>1994-01-07</th>\n",
       "      <td>3445.98</td>\n",
       "      <td>NaN</td>\n",
       "    </tr>\n",
       "    <tr>\n",
       "      <th>1994-01-10</th>\n",
       "      <td>3440.58</td>\n",
       "      <td>-0.156704</td>\n",
       "    </tr>\n",
       "    <tr>\n",
       "      <th>1994-01-11</th>\n",
       "      <td>3413.77</td>\n",
       "      <td>-0.779229</td>\n",
       "    </tr>\n",
       "    <tr>\n",
       "      <th>1994-01-12</th>\n",
       "      <td>3372.02</td>\n",
       "      <td>-1.222988</td>\n",
       "    </tr>\n",
       "    <tr>\n",
       "      <th>1994-01-13</th>\n",
       "      <td>3360.01</td>\n",
       "      <td>-0.356166</td>\n",
       "    </tr>\n",
       "    <tr>\n",
       "      <th>...</th>\n",
       "      <td>...</td>\n",
       "      <td>...</td>\n",
       "    </tr>\n",
       "    <tr>\n",
       "      <th>2013-04-01</th>\n",
       "      <td>6411.74</td>\n",
       "      <td>0.000000</td>\n",
       "    </tr>\n",
       "    <tr>\n",
       "      <th>2013-04-02</th>\n",
       "      <td>6490.66</td>\n",
       "      <td>1.230867</td>\n",
       "    </tr>\n",
       "    <tr>\n",
       "      <th>2013-04-03</th>\n",
       "      <td>6420.28</td>\n",
       "      <td>-1.084327</td>\n",
       "    </tr>\n",
       "    <tr>\n",
       "      <th>2013-04-04</th>\n",
       "      <td>6344.11</td>\n",
       "      <td>-1.186397</td>\n",
       "    </tr>\n",
       "    <tr>\n",
       "      <th>2013-04-05</th>\n",
       "      <td>6249.77</td>\n",
       "      <td>-1.487049</td>\n",
       "    </tr>\n",
       "  </tbody>\n",
       "</table>\n",
       "<p>5021 rows × 2 columns</p>\n",
       "</div>"
      ],
      "text/plain": [
       "            market_value  retornos\n",
       "date                              \n",
       "1994-01-07       3445.98       NaN\n",
       "1994-01-10       3440.58 -0.156704\n",
       "1994-01-11       3413.77 -0.779229\n",
       "1994-01-12       3372.02 -1.222988\n",
       "1994-01-13       3360.01 -0.356166\n",
       "...                  ...       ...\n",
       "2013-04-01       6411.74  0.000000\n",
       "2013-04-02       6490.66  1.230867\n",
       "2013-04-03       6420.28 -1.084327\n",
       "2013-04-04       6344.11 -1.186397\n",
       "2013-04-05       6249.77 -1.487049\n",
       "\n",
       "[5021 rows x 2 columns]"
      ]
     },
     "execution_count": 5,
     "metadata": {},
     "output_type": "execute_result"
    }
   ],
   "source": [
    "df[\"retornos\"]=df.market_value.pct_change(1)*100\n",
    "df"
   ]
  },
  {
   "cell_type": "markdown",
   "id": "a4caccf0",
   "metadata": {},
   "source": [
    "<h1> ACF para Returns </h1>"
   ]
  },
  {
   "cell_type": "code",
   "execution_count": 6,
   "id": "93bbc4c8",
   "metadata": {},
   "outputs": [
    {
     "data": {
      "image/png": "[encoded data removed]",
      "text/plain": [
       "<Figure size 432x288 with 1 Axes>"
      ]
     },
     "metadata": {
      "needs_background": "light"
     },
     "output_type": "display_data"
    }
   ],
   "source": [
    "sgt.plot_acf(df.retornos[1:], zero = False, lags = 40) \n",
    "plt.title(\"ACF para Retornos\", size = 20)\n",
    "plt.ylim(-0.09,0.06)\n",
    "plt.show() #Quitamos el primer NA para que nos de la gráfica"
   ]
  },
  {
   "cell_type": "markdown",
   "id": "55462f0f",
   "metadata": {},
   "source": [
    "* Los valores $\\varphi $ varían mucho.\n",
    "* Notamos que los valores de autocorrelación para $\\varphi _2, \\varphi _3, \\varphi _4, \\varphi _5, \\varphi _6, \\varphi _8,\\ldots $ son significativos, ya que están arriba de la franja azul. OJO: Más adelante al comparar los modelos, tiene que ver con está gráfica."
   ]
  },
  {
   "cell_type": "code",
   "execution_count": 7,
   "id": "95005484",
   "metadata": {},
   "outputs": [
    {
     "data": {
      "image/png": "[encoded data removed]",
      "text/plain": [
       "<Figure size 432x288 with 1 Axes>"
      ]
     },
     "metadata": {
      "needs_background": "light"
     },
     "output_type": "display_data"
    }
   ],
   "source": [
    "sgt.plot_pacf(df.retornos[1:], zero = False, lags = 40,alpha =0.05, method = \"ols\") \n",
    "plt.title(\"PACF para Retornos\", size = 20)\n",
    "plt.ylim(-0.09,0.06)\n",
    "plt.show() #Quitamos el primer NA para que nos de la gráfica"
   ]
  },
  {
   "cell_type": "markdown",
   "id": "3948ffc9",
   "metadata": {},
   "source": [
    "Por la gráfica, nuestra intución dicta que cuanto más retrocedemos menos relevante serán los coeficientes.\n",
    "\n",
    "<h1> MA(1) para retornos </h1>"
   ]
  },
  {
   "cell_type": "code",
   "execution_count": 8,
   "id": "cfc67632",
   "metadata": {},
   "outputs": [
    {
     "data": {
      "text/html": [
       "<table class=\"simpletable\">\n",
       "<caption>SARIMAX Results</caption>\n",
       "<tr>\n",
       "  <th>Dep. Variable:</th>       <td>retornos</td>     <th>  No. Observations:  </th>   <td>5020</td>   \n",
       "</tr>\n",
       "<tr>\n",
       "  <th>Model:</th>            <td>ARIMA(0, 0, 1)</td>  <th>  Log Likelihood     </th> <td>-7929.595</td>\n",
       "</tr>\n",
       "<tr>\n",
       "  <th>Date:</th>            <td>Tue, 24 May 2022</td> <th>  AIC                </th> <td>15865.190</td>\n",
       "</tr>\n",
       "<tr>\n",
       "  <th>Time:</th>                <td>05:45:51</td>     <th>  BIC                </th> <td>15884.754</td>\n",
       "</tr>\n",
       "<tr>\n",
       "  <th>Sample:</th>             <td>01-10-1994</td>    <th>  HQIC               </th> <td>15872.045</td>\n",
       "</tr>\n",
       "<tr>\n",
       "  <th></th>                   <td>- 04-05-2013</td>   <th>                     </th>     <td> </td>    \n",
       "</tr>\n",
       "<tr>\n",
       "  <th>Covariance Type:</th>        <td>opg</td>       <th>                     </th>     <td> </td>    \n",
       "</tr>\n",
       "</table>\n",
       "<table class=\"simpletable\">\n",
       "<tr>\n",
       "     <td></td>       <th>coef</th>     <th>std err</th>      <th>z</th>      <th>P>|z|</th>  <th>[0.025</th>    <th>0.975]</th>  \n",
       "</tr>\n",
       "<tr>\n",
       "  <th>const</th>  <td>    0.0188</td> <td>    0.016</td> <td>    1.146</td> <td> 0.252</td> <td>   -0.013</td> <td>    0.051</td>\n",
       "</tr>\n",
       "<tr>\n",
       "  <th>ma.L1</th>  <td>   -0.0257</td> <td>    0.009</td> <td>   -3.018</td> <td> 0.003</td> <td>   -0.042</td> <td>   -0.009</td>\n",
       "</tr>\n",
       "<tr>\n",
       "  <th>sigma2</th> <td>    1.3789</td> <td>    0.014</td> <td>   99.990</td> <td> 0.000</td> <td>    1.352</td> <td>    1.406</td>\n",
       "</tr>\n",
       "</table>\n",
       "<table class=\"simpletable\">\n",
       "<tr>\n",
       "  <th>Ljung-Box (L1) (Q):</th>     <td>0.01</td> <th>  Jarque-Bera (JB):  </th> <td>7852.85</td>\n",
       "</tr>\n",
       "<tr>\n",
       "  <th>Prob(Q):</th>                <td>0.92</td> <th>  Prob(JB):          </th>  <td>0.00</td>  \n",
       "</tr>\n",
       "<tr>\n",
       "  <th>Heteroskedasticity (H):</th> <td>2.04</td> <th>  Skew:              </th>  <td>-0.03</td> \n",
       "</tr>\n",
       "<tr>\n",
       "  <th>Prob(H) (two-sided):</th>    <td>0.00</td> <th>  Kurtosis:          </th>  <td>9.13</td>  \n",
       "</tr>\n",
       "</table><br/><br/>Warnings:<br/>[1] Covariance matrix calculated using the outer product of gradients (complex-step)."
      ],
      "text/plain": [
       "<class 'statsmodels.iolib.summary.Summary'>\n",
       "\"\"\"\n",
       "                               SARIMAX Results                                \n",
       "==============================================================================\n",
       "Dep. Variable:               retornos   No. Observations:                 5020\n",
       "Model:                 ARIMA(0, 0, 1)   Log Likelihood               -7929.595\n",
       "Date:                Tue, 24 May 2022   AIC                          15865.190\n",
       "Time:                        05:45:51   BIC                          15884.754\n",
       "Sample:                    01-10-1994   HQIC                         15872.045\n",
       "                         - 04-05-2013                                         \n",
       "Covariance Type:                  opg                                         \n",
       "==============================================================================\n",
       "                 coef    std err          z      P>|z|      [0.025      0.975]\n",
       "------------------------------------------------------------------------------\n",
       "const          0.0188      0.016      1.146      0.252      -0.013       0.051\n",
       "ma.L1         -0.0257      0.009     -3.018      0.003      -0.042      -0.009\n",
       "sigma2         1.3789      0.014     99.990      0.000       1.352       1.406\n",
       "===================================================================================\n",
       "Ljung-Box (L1) (Q):                   0.01   Jarque-Bera (JB):              7852.85\n",
       "Prob(Q):                              0.92   Prob(JB):                         0.00\n",
       "Heteroskedasticity (H):               2.04   Skew:                            -0.03\n",
       "Prob(H) (two-sided):                  0.00   Kurtosis:                         9.13\n",
       "===================================================================================\n",
       "\n",
       "Warnings:\n",
       "[1] Covariance matrix calculated using the outer product of gradients (complex-step).\n",
       "\"\"\""
      ]
     },
     "execution_count": 8,
     "metadata": {},
     "output_type": "execute_result"
    }
   ],
   "source": [
    "model_ma_1 = ARIMA(df.retornos[1:], order = (0,0,1)) #MA(1)\n",
    "results_ma_1 = model_ma_1.fit() \n",
    "results_ma_1.summary()\n"
   ]
  },
  {
   "cell_type": "markdown",
   "id": "04bf487e",
   "metadata": {},
   "source": [
    "Dado lo anterior, tenemos que:\n",
    "\n",
    "* El $p-valor$ del coeficiente $c$ es igual a $0.252$, lo cual indica que $p-valor _c >0.05$, por lo cual aceptamos $H_0$, así que **el coeficiente de c es significativamente igual a $0$**.\n",
    "\n",
    "* El $p-valor$ del coeficiente $\\theta _1$ es igual a $0.003$, lo cual indica que $p-valor _{\\theta _1} <0.05$, por lo cual Rechazamos $H_0$, así que **el coeficiente de $\\theta _1$ es significativamente diferente de $0$**.\n",
    "\n",
    "\n",
    "<h1>Comparando Modelos AR (p) Higher-Lag sobre Returns </h1>\n",
    "\n",
    "* Si al comparar los modelos $AR(p)$ con $AR(p+l)$ obtenemos que los modelos son diferentes, escogeremos el de mayor complejidad, siempre y cuando el último coeficiente de $AR(p+l)$ sea significativamente distinto de $0$\n",
    "\n",
    "\n",
    "La siguiente función *LLR_test(mod_1,mod_2,DF)* Nos sirve para obtener el $p-valor$ de la comparación de dos modelos."
   ]
  },
  {
   "cell_type": "code",
   "execution_count": 9,
   "id": "e389e844",
   "metadata": {},
   "outputs": [
    {
     "name": "stdout",
     "output_type": "stream",
     "text": [
      "                               SARIMAX Results                                \n",
      "==============================================================================\n",
      "Dep. Variable:               retornos   No. Observations:                 5020\n",
      "Model:                 ARIMA(0, 0, 2)   Log Likelihood               -7922.864\n",
      "Date:                Tue, 24 May 2022   AIC                          15853.728\n",
      "Time:                        05:45:55   BIC                          15879.812\n",
      "Sample:                    01-10-1994   HQIC                         15862.868\n",
      "                         - 04-05-2013                                         \n",
      "Covariance Type:                  opg                                         \n",
      "==============================================================================\n",
      "                 coef    std err          z      P>|z|      [0.025      0.975]\n",
      "------------------------------------------------------------------------------\n",
      "const          0.0188      0.016      1.204      0.228      -0.012       0.049\n",
      "ma.L1         -0.0327      0.009     -3.760      0.000      -0.050      -0.016\n",
      "ma.L2         -0.0502      0.008     -6.416      0.000      -0.066      -0.035\n",
      "sigma2         1.3753      0.014     99.021      0.000       1.348       1.402\n",
      "===================================================================================\n",
      "Ljung-Box (L1) (Q):                   0.08   Jarque-Bera (JB):              7657.23\n",
      "Prob(Q):                              0.77   Prob(JB):                         0.00\n",
      "Heteroskedasticity (H):               2.03   Skew:                            -0.08\n",
      "Prob(H) (two-sided):                  0.00   Kurtosis:                         9.05\n",
      "===================================================================================\n",
      "\n",
      "Warnings:\n",
      "[1] Covariance matrix calculated using the outer product of gradients (complex-step).\n",
      "LRR test: 0.0\n"
     ]
    }
   ],
   "source": [
    "model_ma_2 = ARIMA(df.retornos[1:], order =(0,0,2))\n",
    "results_ma_2 = model_ma_2.fit()\n",
    "print(results_ma_2.summary())\n",
    "print(\"LRR test: \"+str(LLR_test(results_ma_1, results_ma_2)))"
   ]
  },
  {
   "cell_type": "markdown",
   "id": "60356128",
   "metadata": {},
   "source": [
    "En este caso: $MA(1)$ y $MA(2)$\n",
    "\n",
    "* El $p-valor$ del coeficiente $\\theta _2$ es $0.000$, lo cual tendremos que $p-valor _{\\theta _2}<0.05$, por lo cual **Rechazamos** $H_0$ y concluimos que $\\theta _2$ es significativamente distinto de $0$.\n",
    "\n",
    "* Al realizar la **Prueba de Razón Log-LikeLihood** respecto a $MA(1)$ y $MA(2)$ tenemos que $p-valor <\\alpha $, es decir $0.0<0.05$, con esto **Rechazamos** $H_0$ y tenemos que los dos modelos son significativamente diferentes.\n",
    "\n",
    "\n",
    "Dado los anteriores puntos, nos quedamos con el modelo $MA(2)$, ya que tiene mayor complejidad y $\\theta _2$ es significativamente distinto de $0$\n",
    "\n",
    "\n",
    "<h2> MA(2) y AR(3) </h2>"
   ]
  },
  {
   "cell_type": "code",
   "execution_count": 10,
   "id": "57fdf7ae",
   "metadata": {},
   "outputs": [
    {
     "name": "stdout",
     "output_type": "stream",
     "text": [
      "                               SARIMAX Results                                \n",
      "==============================================================================\n",
      "Dep. Variable:               retornos   No. Observations:                 5020\n",
      "Model:                 ARIMA(0, 0, 3)   Log Likelihood               -7904.317\n",
      "Date:                Tue, 24 May 2022   AIC                          15818.634\n",
      "Time:                        05:46:01   BIC                          15851.240\n",
      "Sample:                    01-10-1994   HQIC                         15830.060\n",
      "                         - 04-05-2013                                         \n",
      "Covariance Type:                  opg                                         \n",
      "==============================================================================\n",
      "                 coef    std err          z      P>|z|      [0.025      0.975]\n",
      "------------------------------------------------------------------------------\n",
      "const          0.0189      0.015      1.296      0.195      -0.010       0.048\n",
      "ma.L1         -0.0203      0.009     -2.334      0.020      -0.037      -0.003\n",
      "ma.L2         -0.0556      0.008     -7.032      0.000      -0.071      -0.040\n",
      "ma.L3         -0.0904      0.008    -11.594      0.000      -0.106      -0.075\n",
      "sigma2         1.3651      0.014     95.367      0.000       1.337       1.393\n",
      "===================================================================================\n",
      "Ljung-Box (L1) (Q):                   0.10   Jarque-Bera (JB):              6843.07\n",
      "Prob(Q):                              0.76   Prob(JB):                         0.00\n",
      "Heteroskedasticity (H):               2.03   Skew:                            -0.18\n",
      "Prob(H) (two-sided):                  0.00   Kurtosis:                         8.71\n",
      "===================================================================================\n",
      "\n",
      "Warnings:\n",
      "[1] Covariance matrix calculated using the outer product of gradients (complex-step).\n",
      "LRR test: 0.0\n"
     ]
    }
   ],
   "source": [
    "model_ma_3 = ARIMA(df.retornos[1:], order =(0,0,3))\n",
    "results_ma_3 = model_ma_3.fit()\n",
    "print(results_ma_3.summary())\n",
    "print(\"LRR test: \"+str(LLR_test(results_ma_2, results_ma_3)))"
   ]
  },
  {
   "cell_type": "markdown",
   "id": "ccee61be",
   "metadata": {},
   "source": [
    "En este caso: $MA(2)$ y $MA(3)$\n",
    "\n",
    "* El $p-valor$ del coeficiente $\\theta _3$ es $0.000$, lo cual tendremos que $p-valor _{\\theta _3}<0.05$, por lo cual **Rechazamos** $H_0$ y concluimos que $\\theta _3$ es significativamente distinto de $0$.\n",
    "\n",
    "* Al realizar la **Prueba de Razón Log-LikeLihood** respecto a $MA(2)$ y $MA(3)$ tenemos que $p-valor <\\alpha $, es decir $0.0<0.05$, con esto **Rechazamos** $H_0$ y tenemos que los dos modelos son significativamente diferentes.\n",
    "\n",
    "\n",
    "Dado los anteriores puntos, nos quedamos con el modelo $MA(3)$, ya que tiene mayor complejidad y $\\theta _3$ es significativamente distinto de $0$\n",
    "\n",
    "\n",
    "<h2> MA(3) y AR(4) </h2>"
   ]
  },
  {
   "cell_type": "code",
   "execution_count": 11,
   "id": "a64814d0",
   "metadata": {},
   "outputs": [
    {
     "name": "stdout",
     "output_type": "stream",
     "text": [
      "                               SARIMAX Results                                \n",
      "==============================================================================\n",
      "Dep. Variable:               retornos   No. Observations:                 5020\n",
      "Model:                 ARIMA(0, 0, 4)   Log Likelihood               -7898.773\n",
      "Date:                Tue, 24 May 2022   AIC                          15809.547\n",
      "Time:                        05:46:07   BIC                          15848.674\n",
      "Sample:                    01-10-1994   HQIC                         15823.257\n",
      "                         - 04-05-2013                                         \n",
      "Covariance Type:                  opg                                         \n",
      "==============================================================================\n",
      "                 coef    std err          z      P>|z|      [0.025      0.975]\n",
      "------------------------------------------------------------------------------\n",
      "const          0.0189      0.015      1.236      0.217      -0.011       0.049\n",
      "ma.L1         -0.0203      0.009     -2.239      0.025      -0.038      -0.003\n",
      "ma.L2         -0.0551      0.008     -6.835      0.000      -0.071      -0.039\n",
      "ma.L3         -0.0922      0.008    -11.569      0.000      -0.108      -0.077\n",
      "ma.L4          0.0454      0.009      5.274      0.000       0.029       0.062\n",
      "sigma2         1.3621      0.015     92.053      0.000       1.333       1.391\n",
      "===================================================================================\n",
      "Ljung-Box (L1) (Q):                   0.02   Jarque-Bera (JB):              6477.07\n",
      "Prob(Q):                              0.88   Prob(JB):                         0.00\n",
      "Heteroskedasticity (H):               2.00   Skew:                            -0.14\n",
      "Prob(H) (two-sided):                  0.00   Kurtosis:                         8.56\n",
      "===================================================================================\n",
      "\n",
      "Warnings:\n",
      "[1] Covariance matrix calculated using the outer product of gradients (complex-step).\n",
      "LRR test: 0.001\n"
     ]
    }
   ],
   "source": [
    "model_ma_4 = ARIMA(df.retornos[1:], order =(0,0,4))\n",
    "results_ma_4 = model_ma_4.fit()\n",
    "print(results_ma_4.summary())\n",
    "print(\"LRR test: \"+str(LLR_test(results_ma_3, results_ma_4)))"
   ]
  },
  {
   "cell_type": "markdown",
   "id": "d6a6f556",
   "metadata": {},
   "source": [
    "En este caso: $MA(3)$ y $MA(4)$\n",
    "\n",
    "* El $p-valor$ del coeficiente $\\theta _4$ es $0.000$, lo cual tendremos que $p-valor _{\\theta _4}<0.05$, por lo cual **Rechazamos** $H_0$ y concluimos que $\\theta _4$ es significativamente distinto de $0$.\n",
    "\n",
    "* Al realizar la **Prueba de Razón Log-LikeLihood** respecto a $MA(3)$ y $MA(4)$ tenemos que $p-valor <\\alpha $, es decir $0.001<0.05$, con esto **Rechazamos** $H_0$ y tenemos que los dos modelos son significativamente diferentes.\n",
    "\n",
    "\n",
    "Dado los anteriores puntos, nos quedamos con el modelo $MA(4)$, ya que tiene mayor complejidad y $\\theta _4$ es significativamente distinto de $0$\n",
    "\n",
    "\n",
    "<h2> MA(4) y AR(5) </h2>"
   ]
  },
  {
   "cell_type": "code",
   "execution_count": 12,
   "id": "7a1aa9c2",
   "metadata": {},
   "outputs": [
    {
     "name": "stdout",
     "output_type": "stream",
     "text": [
      "                               SARIMAX Results                                \n",
      "==============================================================================\n",
      "Dep. Variable:               retornos   No. Observations:                 5020\n",
      "Model:                 ARIMA(0, 0, 5)   Log Likelihood               -7892.823\n",
      "Date:                Tue, 24 May 2022   AIC                          15799.645\n",
      "Time:                        05:46:15   BIC                          15845.294\n",
      "Sample:                    01-10-1994   HQIC                         15815.641\n",
      "                         - 04-05-2013                                         \n",
      "Covariance Type:                  opg                                         \n",
      "==============================================================================\n",
      "                 coef    std err          z      P>|z|      [0.025      0.975]\n",
      "------------------------------------------------------------------------------\n",
      "const          0.0189      0.015      1.282      0.200      -0.010       0.048\n",
      "ma.L1         -0.0262      0.009     -2.839      0.005      -0.044      -0.008\n",
      "ma.L2         -0.0497      0.008     -6.147      0.000      -0.066      -0.034\n",
      "ma.L3         -0.0852      0.008    -10.525      0.000      -0.101      -0.069\n",
      "ma.L4          0.0458      0.009      5.312      0.000       0.029       0.063\n",
      "ma.L5         -0.0500      0.008     -6.250      0.000      -0.066      -0.034\n",
      "sigma2         1.3589      0.015     91.851      0.000       1.330       1.388\n",
      "===================================================================================\n",
      "Ljung-Box (L1) (Q):                   0.02   Jarque-Bera (JB):              6383.74\n",
      "Prob(Q):                              0.90   Prob(JB):                         0.00\n",
      "Heteroskedasticity (H):               2.00   Skew:                            -0.18\n",
      "Prob(H) (two-sided):                  0.00   Kurtosis:                         8.51\n",
      "===================================================================================\n",
      "\n",
      "Warnings:\n",
      "[1] Covariance matrix calculated using the outer product of gradients (complex-step).\n",
      "LRR test: 0.001\n"
     ]
    }
   ],
   "source": [
    "model_ma_5 = ARIMA(df.retornos[1:], order =(0,0,5))\n",
    "results_ma_5 = model_ma_5.fit()\n",
    "print(results_ma_5.summary())\n",
    "print(\"LRR test: \"+str(LLR_test(results_ma_4, results_ma_5)))"
   ]
  },
  {
   "cell_type": "markdown",
   "id": "6ef1969d",
   "metadata": {},
   "source": [
    "En este caso: $MA(4)$ y $MA(5)$\n",
    "\n",
    "* El $p-valor$ del coeficiente $\\theta _5$ es $0.000$, lo cual tendremos que $p-valor _{\\theta _5}<0.05$, por lo cual **Rechazamos** $H_0$ y concluimos que $\\theta _5$ es significativamente distinto de $0$.\n",
    "\n",
    "* Al realizar la **Prueba de Razón Log-LikeLihood** respecto a $MA(4)$ y $MA(5)$ tenemos que $p-valor <\\alpha $, es decir $0.001<0.05$, con esto **Rechazamos** $H_0$ y tenemos que los dos modelos son significativamente diferentes.\n",
    "\n",
    "\n",
    "Dado los anteriores puntos, nos quedamos con el modelo $MA(5)$, ya que tiene mayor complejidad y $\\theta _5$ es significativamente distinto de $0$\n",
    "\n",
    "\n",
    "<h2> MA(5) y AR(6) </h2>"
   ]
  },
  {
   "cell_type": "code",
   "execution_count": 13,
   "id": "70c484bd",
   "metadata": {},
   "outputs": [
    {
     "name": "stdout",
     "output_type": "stream",
     "text": [
      "                               SARIMAX Results                                \n",
      "==============================================================================\n",
      "Dep. Variable:               retornos   No. Observations:                 5020\n",
      "Model:                 ARIMA(0, 0, 6)   Log Likelihood               -7889.221\n",
      "Date:                Tue, 24 May 2022   AIC                          15794.442\n",
      "Time:                        05:46:24   BIC                          15846.612\n",
      "Sample:                    01-10-1994   HQIC                         15812.723\n",
      "                         - 04-05-2013                                         \n",
      "Covariance Type:                  opg                                         \n",
      "==============================================================================\n",
      "                 coef    std err          z      P>|z|      [0.025      0.975]\n",
      "------------------------------------------------------------------------------\n",
      "const          0.0189      0.014      1.318      0.188      -0.009       0.047\n",
      "ma.L1         -0.0237      0.009     -2.562      0.010      -0.042      -0.006\n",
      "ma.L2         -0.0486      0.008     -5.982      0.000      -0.064      -0.033\n",
      "ma.L3         -0.0827      0.008    -10.179      0.000      -0.099      -0.067\n",
      "ma.L4          0.0466      0.009      5.386      0.000       0.030       0.064\n",
      "ma.L5         -0.0484      0.008     -5.991      0.000      -0.064      -0.033\n",
      "ma.L6         -0.0387      0.009     -4.318      0.000      -0.056      -0.021\n",
      "sigma2         1.3569      0.015     92.179      0.000       1.328       1.386\n",
      "===================================================================================\n",
      "Ljung-Box (L1) (Q):                   0.00   Jarque-Bera (JB):              6533.78\n",
      "Prob(Q):                              0.98   Prob(JB):                         0.00\n",
      "Heteroskedasticity (H):               2.00   Skew:                            -0.20\n",
      "Prob(H) (two-sided):                  0.00   Kurtosis:                         8.58\n",
      "===================================================================================\n",
      "\n",
      "Warnings:\n",
      "[1] Covariance matrix calculated using the outer product of gradients (complex-step).\n",
      "LRR test: 0.007\n"
     ]
    }
   ],
   "source": [
    "model_ma_6 = ARIMA(df.retornos[1:], order =(0,0,6))\n",
    "results_ma_6 = model_ma_6.fit()\n",
    "print(results_ma_6.summary())\n",
    "print(\"LRR test: \"+str(LLR_test(results_ma_5, results_ma_6)))"
   ]
  },
  {
   "cell_type": "markdown",
   "id": "eac8c0c8",
   "metadata": {},
   "source": [
    "En este caso: $MA(5)$ y $MA(6)$\n",
    "\n",
    "* El $p-valor$ del coeficiente $\\theta _6$ es $0.000$, lo cual tendremos que $p-valor _{\\theta _6}<0.05$, por lo cual **Rechazamos** $H_0$ y concluimos que $\\theta _6$ es significativamente distinto de $0$.\n",
    "\n",
    "* Al realizar la **Prueba de Razón Log-LikeLihood** respecto de $MA(5)$ y $MA(6)$ tenemos que $p-valor <\\alpha $, es decir $0.007<0.05$, con esto **Rechazamos** $H_0$ y tenemos que los dos modelos son significativamente diferentes.\n",
    "\n",
    "\n",
    "Dado los anteriores puntos, nos quedamos con el modelo $MA(6)$, ya que tiene mayor complejidad y $\\theta _6$ es significativamente distinto de $0$\n",
    "\n",
    "\n",
    "<h2> MA(6) y AR(7) </h2>"
   ]
  },
  {
   "cell_type": "code",
   "execution_count": 14,
   "id": "3e0a099d",
   "metadata": {},
   "outputs": [
    {
     "name": "stdout",
     "output_type": "stream",
     "text": [
      "                               SARIMAX Results                                \n",
      "==============================================================================\n",
      "Dep. Variable:               retornos   No. Observations:                 5020\n",
      "Model:                 ARIMA(0, 0, 7)   Log Likelihood               -7889.046\n",
      "Date:                Tue, 24 May 2022   AIC                          15796.091\n",
      "Time:                        05:46:37   BIC                          15854.782\n",
      "Sample:                    01-10-1994   HQIC                         15816.657\n",
      "                         - 04-05-2013                                         \n",
      "Covariance Type:                  opg                                         \n",
      "==============================================================================\n",
      "                 coef    std err          z      P>|z|      [0.025      0.975]\n",
      "------------------------------------------------------------------------------\n",
      "const          0.0189      0.015      1.303      0.193      -0.010       0.047\n",
      "ma.L1         -0.0247      0.009     -2.645      0.008      -0.043      -0.006\n",
      "ma.L2         -0.0488      0.008     -6.000      0.000      -0.065      -0.033\n",
      "ma.L3         -0.0821      0.008     -9.988      0.000      -0.098      -0.066\n",
      "ma.L4          0.0458      0.009      5.292      0.000       0.029       0.063\n",
      "ma.L5         -0.0486      0.008     -5.989      0.000      -0.064      -0.033\n",
      "ma.L6         -0.0390      0.009     -4.314      0.000      -0.057      -0.021\n",
      "ma.L7          0.0085      0.009      0.947      0.343      -0.009       0.026\n",
      "sigma2         1.3568      0.015     91.390      0.000       1.328       1.386\n",
      "===================================================================================\n",
      "Ljung-Box (L1) (Q):                   0.00   Jarque-Bera (JB):              6506.02\n",
      "Prob(Q):                              0.98   Prob(JB):                         0.00\n",
      "Heteroskedasticity (H):               2.00   Skew:                            -0.19\n",
      "Prob(H) (two-sided):                  0.00   Kurtosis:                         8.56\n",
      "===================================================================================\n",
      "\n",
      "Warnings:\n",
      "[1] Covariance matrix calculated using the outer product of gradients (complex-step).\n",
      "LRR test: 0.554\n"
     ]
    }
   ],
   "source": [
    "model_ma_7= ARIMA(df.retornos[1:], order =(0,0,7))\n",
    "results_ma_7 = model_ma_7.fit()\n",
    "print(results_ma_7.summary())\n",
    "print(\"LRR test: \"+str(LLR_test(results_ma_6, results_ma_7)))"
   ]
  },
  {
   "cell_type": "markdown",
   "id": "23aa0607",
   "metadata": {},
   "source": [
    "En este caso: $MA(6)$ y $MA(7)$\n",
    "\n",
    "* El $p-valor$ del coeficiente $\\theta _7$ es $0.343$, lo cual tendremos que $p-valor _{\\theta _7}>0.05$, por lo cual **Aceptamos** $H_0$ y concluimos que $\\theta _7$ es significativamente igual a $0$.\n",
    "\n",
    "* Al realizar la **Prueba de Razón Log-LikeLihood** respecto de $MA(6)$ y $MA(7)$ tenemos que $p-valor >\\alpha $, es decir $0.554<0.05$, con esto **Aceptamos** $H_0$ y tenemos que los dos modelos son significativamente iguales.\n",
    "\n",
    "\n",
    "Dado los anteriores puntos, nos quedamos con el modelo $MA(6)$, ya que como son iguales escogemos el más simple.\n",
    "\n",
    "\n",
    "<h2> MA(6) y AR(8) </h2>"
   ]
  },
  {
   "cell_type": "code",
   "execution_count": 15,
   "id": "3f2034e8",
   "metadata": {},
   "outputs": [
    {
     "name": "stdout",
     "output_type": "stream",
     "text": [
      "                               SARIMAX Results                                \n",
      "==============================================================================\n",
      "Dep. Variable:               retornos   No. Observations:                 5020\n",
      "Model:                 ARIMA(0, 0, 8)   Log Likelihood               -7885.603\n",
      "Date:                Tue, 24 May 2022   AIC                          15791.205\n",
      "Time:                        05:46:52   BIC                          15856.417\n",
      "Sample:                    01-10-1994   HQIC                         15814.056\n",
      "                         - 04-05-2013                                         \n",
      "Covariance Type:                  opg                                         \n",
      "==============================================================================\n",
      "                 coef    std err          z      P>|z|      [0.025      0.975]\n",
      "------------------------------------------------------------------------------\n",
      "const          0.0189      0.015      1.253      0.210      -0.011       0.048\n",
      "ma.L1         -0.0238      0.009     -2.527      0.011      -0.042      -0.005\n",
      "ma.L2         -0.0495      0.008     -6.053      0.000      -0.066      -0.033\n",
      "ma.L3         -0.0847      0.008    -10.308      0.000      -0.101      -0.069\n",
      "ma.L4          0.0488      0.009      5.615      0.000       0.032       0.066\n",
      "ma.L5         -0.0518      0.008     -6.304      0.000      -0.068      -0.036\n",
      "ma.L6         -0.0402      0.009     -4.411      0.000      -0.058      -0.022\n",
      "ma.L7          0.0083      0.009      0.938      0.348      -0.009       0.026\n",
      "ma.L8          0.0365      0.009      3.881      0.000       0.018       0.055\n",
      "sigma2         1.3550      0.015     91.305      0.000       1.326       1.384\n",
      "===================================================================================\n",
      "Ljung-Box (L1) (Q):                   0.00   Jarque-Bera (JB):              6440.47\n",
      "Prob(Q):                              0.99   Prob(JB):                         0.00\n",
      "Heteroskedasticity (H):               2.00   Skew:                            -0.18\n",
      "Prob(H) (two-sided):                  0.00   Kurtosis:                         8.54\n",
      "===================================================================================\n",
      "\n",
      "Warnings:\n",
      "[1] Covariance matrix calculated using the outer product of gradients (complex-step).\n",
      "LRR test: 0.027\n"
     ]
    }
   ],
   "source": [
    "model_ma_8= ARIMA(df.retornos[1:], order =(0,0,8))\n",
    "results_ma_8 = model_ma_8.fit()\n",
    "print(results_ma_8.summary())\n",
    "print(\"LRR test: \"+str(LLR_test(results_ma_6, results_ma_8, DF=2)))"
   ]
  },
  {
   "cell_type": "markdown",
   "id": "2878172b",
   "metadata": {},
   "source": [
    "En este caso: $MA(6)$ y $MA(8)$\n",
    "\n",
    "* El $p-valor$ del coeficiente $\\theta _8$ es $0.000$, lo cual tendremos que $p-valor _{\\theta _8}<0.05$, por lo cual **Rechazamos** $H_0$ y concluimos que $\\theta _7$ es significativamente distinto de $0$.\n",
    "\n",
    "* Al realizar la **Prueba de Razón Log-LikeLihood** respecto de $MA(6)$ y $MA(8)$ tenemos que $p-valor <\\alpha $, es decir $0.027<0.05$, con esto **Rechamos** $H_0$ y tenemos que los dos modelos son significativamente distintos.\n",
    "\n",
    "\n",
    "Dado los anteriores puntos, nos quedamos con el modelo $MA(8)$,  ya que tiene mayor complejidad y $\\theta _8$ es significativamente distinto de $0$\n",
    " \n",
    "\n",
    "<h1> Residuales para Retornos </h1>"
   ]
  },
  {
   "cell_type": "code",
   "execution_count": 16,
   "id": "2f68a17b",
   "metadata": {},
   "outputs": [
    {
     "name": "stdout",
     "output_type": "stream",
     "text": [
      "Los residuos tiene media = 0,varianza = 1.355 y desviación estandar = 1.164\n"
     ]
    }
   ],
   "source": [
    "import math\n",
    "df[\"retornos_ajustados_MA_8\"]=results_ma_8.fittedvalues\n",
    "df[\"residuos_retornos_MA_8\"]=results_ma_8.resid\n",
    "media = round(df.residuos_retornos_MA_8.mean())\n",
    "varianza = round(df.residuos_retornos_MA_8.var(),3)\n",
    "desviacion_estandar = round(pow(varianza,0.5),3)\n",
    "print(f\"Los residuos tiene media = {media}\"+f\",varianza = {varianza}\"+\n",
    "      f\" y desviación estandar = { desviacion_estandar}\" )"
   ]
  },
  {
   "cell_type": "markdown",
   "id": "066d0bb7",
   "metadata": {},
   "source": [
    "Esperamos que la mayoría de nuestros residuos se encuentren en el intervalo $[-3\\sigma , 3\\sigma ]$, es decir $[-3(1.164),3(1.164)]=[-3.492,3.492]$"
   ]
  },
  {
   "cell_type": "code",
   "execution_count": 17,
   "id": "96d51b17",
   "metadata": {},
   "outputs": [
    {
     "data": {
      "image/png": "[encoded data removed]",
      "text/plain": [
       "<Figure size 1440x360 with 1 Axes>"
      ]
     },
     "metadata": {
      "needs_background": "light"
     },
     "output_type": "display_data"
    }
   ],
   "source": [
    "df.residuos_retornos_MA_8.plot(figsize = (20,5))\n",
    "plt.title(\"Residuos para retornos\", size = 24)\n",
    "plt.show()"
   ]
  },
  {
   "cell_type": "markdown",
   "id": "e0b3ed1b",
   "metadata": {},
   "source": [
    "<h1> Dickey-Fuller a residuos </h1>\n",
    "\n",
    "Para que los residuos se comporten como un ruido blanco, recordemos que deben de ser estacionarios."
   ]
  },
  {
   "cell_type": "code",
   "execution_count": 18,
   "id": "1f54e5ee",
   "metadata": {},
   "outputs": [
    {
     "data": {
      "text/plain": [
       "(-70.83777222126348,\n",
       " 0.0,\n",
       " 0,\n",
       " 5019,\n",
       " {'1%': -3.4316535759402753,\n",
       "  '5%': -2.8621160400844468,\n",
       "  '10%': -2.567076626752987},\n",
       " 15689.881935682564)"
      ]
     },
     "execution_count": 18,
     "metadata": {},
     "output_type": "execute_result"
    }
   ],
   "source": [
    "sts.adfuller(df.residuos_retornos_MA_8[1:])"
   ]
  },
  {
   "cell_type": "markdown",
   "id": "d62f8e8c",
   "metadata": {},
   "source": [
    "Con un $p-valor<0.05$, es decir $0.0<0.05$ **Rechazamos** $H_0$ y concluimos que los datos de la columna residuos_retornos son estacionarios."
   ]
  },
  {
   "cell_type": "markdown",
   "id": "ab3aa3ba",
   "metadata": {},
   "source": [
    "<h1> Gráfica de ACF para residuos de retorno </h1>\n",
    "\n",
    "Esto nos servirá para ver si hay autocorrelación significativa dado los residuos."
   ]
  },
  {
   "cell_type": "code",
   "execution_count": 19,
   "id": "1e3d8c16",
   "metadata": {},
   "outputs": [
    {
     "data": {
      "image/png": "[encoded data removed]",
      "text/plain": [
       "<Figure size 432x288 with 1 Axes>"
      ]
     },
     "metadata": {
      "needs_background": "light"
     },
     "output_type": "display_data"
    }
   ],
   "source": [
    "sgt.plot_acf(df.residuos_retornos_MA_8[1:], zero = False, lags = 40) \n",
    "plt.title(\"ACF para residuos de Retornos\", size = 24)\n",
    "plt.ylim(-0.06,0.04)\n",
    "plt.show() #Quitamos el primer NA para que nos de la gráfica"
   ]
  },
  {
   "cell_type": "markdown",
   "id": "95adb5d7",
   "metadata": {},
   "source": [
    "Observamos que los primeros $17$ períodos, los valores de nuestra autocorrelación $\\varphi _1, \\ldots , \\varphi _{17}$ NO son significativos, esto quiere decir que nuestro modelo es bueno.\n",
    "\n",
    "<h1> Transformación de Normalización </h1>\n",
    "\n",
    "Se prefiere usar los **Retornos** en lugar de los precios, al usar modelos autorregresivos $AR(p)$, esto se debe a la naturaleza de los precios.\n",
    "\n",
    "Otra transformación sería a través de **normalización**, en este caso, cuando normalizamos un conjunto de valores básicamente mapeamos cada valor del espacio muestral y lo convertimos en un porcentaje con respecto al $1$er valor del conjunto, en lo cual nos dará como resultado una tasa. De esta manera la serie resultante, es mucho más fácil de comparar con otra serie de tiempo normalizada con respecto al $1$er valor.\n",
    "\n",
    "En general, al normalizar dos series de tiempo cuyos valores representan precios, podemos compararlas entre sí, y esto nos da una mejor comprensión de cuales debemos invertir y cuales debemos evitar."
   ]
  },
  {
   "cell_type": "code",
   "execution_count": 31,
   "id": "679dbd51",
   "metadata": {},
   "outputs": [
    {
     "name": "stdout",
     "output_type": "stream",
     "text": [
      "            market_value  Precios_Normalizados\n",
      "date                                          \n",
      "1994-01-07       3445.98            100.000000\n",
      "1994-01-10       3440.58             99.843296\n",
      "1994-01-11       3413.77             99.065288\n",
      "1994-01-12       3372.02             97.853731\n",
      "1994-01-13       3360.01             97.505209\n",
      "...                  ...                   ...\n",
      "2013-04-01       6411.74            186.064342\n",
      "2013-04-02       6490.66            188.354546\n",
      "2013-04-03       6420.28            186.312167\n",
      "2013-04-04       6344.11            184.101765\n",
      "2013-04-05       6249.77            181.364082\n",
      "\n",
      "[5021 rows x 2 columns]\n",
      " \n",
      "benchmark = 3445.98\n"
     ]
    }
   ],
   "source": [
    "benchmark = df.market_value.iloc[0]#Escogemos el 1er valor de market.value\n",
    "del df[\"retornos\"] # Elimina columna retornos\n",
    "del df[\"retornos_ajustados_MA_8\"] # Elimina columna retornos_ajustados_MA_8\n",
    "del df[\"residuos_retornos_MA_8\"] # Elimina columna residuos_retornos_MA_8\n",
    "df[\"Precios_Normalizados\"]=df.market_value.div(benchmark).mul(100) #Tasa\n",
    "print(f\"{df}\\n \\nbenchmark = {benchmark}\")\n"
   ]
  },
  {
   "cell_type": "markdown",
   "id": "31b4e0a4",
   "metadata": {},
   "source": [
    "<h1> Aplicando DF a los datos normalizados </h1>"
   ]
  },
  {
   "cell_type": "code",
   "execution_count": 32,
   "id": "5419cf19",
   "metadata": {},
   "outputs": [
    {
     "data": {
      "text/plain": [
       "(-1.9041551418836233,\n",
       " 0.3301089327703129,\n",
       " 6,\n",
       " 5014,\n",
       " {'1%': -3.4316548765428174,\n",
       "  '5%': -2.8621166146845334,\n",
       "  '10%': -2.5670769326348926},\n",
       " 19541.17381480549)"
      ]
     },
     "execution_count": 32,
     "metadata": {},
     "output_type": "execute_result"
    }
   ],
   "source": [
    "sts.adfuller(df[\"Precios_Normalizados\"])"
   ]
  },
  {
   "cell_type": "markdown",
   "id": "cd2e04c2",
   "metadata": {},
   "source": [
    "Como $p-valor>\\alpha $, es decir, $0.3301>0.05$ entonces **Aceptamos** $H_0$ y concluimos que los precios normalizados con el $1$er valor son NO estacionarios, por lo tanto no podríamos usar los modelos $AR(p)$ ni $MA(q)$, ya que estos para que funcionen bien la serie debe de ser estacionaria.\n",
    "\n",
    "Sin embargo, la  **Normalización** sigue siendo una gran práctica para **comparar series de tiempo**, y lo que se vio anteriormente es que *Normalizar los datos no afecta la NO estacionariedad de la serie.*"
   ]
  }
 ],
 "metadata": {
  "kernelspec": {
   "display_name": "Python 3 (ipykernel)",
   "language": "python",
   "name": "python3"
  },
  "language_info": {
   "codemirror_mode": {
    "name": "ipython",
    "version": 3
   },
   "file_extension": ".py",
   "mimetype": "text/x-python",
   "name": "python",
   "nbconvert_exporter": "python",
   "pygments_lexer": "ipython3",
   "version": "3.9.12"
  }
 },
 "nbformat": 4,
 "nbformat_minor": 5
}
